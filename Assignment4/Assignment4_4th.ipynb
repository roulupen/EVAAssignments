{
  "nbformat": 4,
  "nbformat_minor": 0,
  "metadata": {
    "colab": {
      "name": "Assignment4_4th.ipynb",
      "version": "0.3.2",
      "provenance": [],
      "collapsed_sections": [],
      "include_colab_link": true
    },
    "kernelspec": {
      "name": "python3",
      "display_name": "Python 3"
    },
    "accelerator": "GPU"
  },
  "cells": [
    {
      "cell_type": "markdown",
      "metadata": {
        "id": "view-in-github",
        "colab_type": "text"
      },
      "source": [
        "<a href=\"https://colab.research.google.com/github/roulupen/EVAAssignments/blob/master/Assignment4/Assignment4_4th.ipynb\" target=\"_parent\"><img src=\"https://colab.research.google.com/assets/colab-badge.svg\" alt=\"Open In Colab\"/></a>"
      ]
    },
    {
      "cell_type": "markdown",
      "metadata": {
        "id": "aNyZv-Ec52ot",
        "colab_type": "text"
      },
      "source": [
        "#### On this model, on top of basic model I'm changing following things\n",
        "\n",
        "\n",
        "1.   Adding droput at different layers\n",
        "2.   Increasing number of epoch to 40\n",
        "3. Batch normalization\n",
        "4. Some parameter tuning like batch size, place of MaxPooling, final convolution\n"
      ]
    },
    {
      "cell_type": "markdown",
      "metadata": {
        "id": "wvfzFdb32GnD",
        "colab_type": "text"
      },
      "source": [
        "### Importing Keras library "
      ]
    },
    {
      "cell_type": "code",
      "metadata": {
        "id": "3m3w1Cw49Zkt",
        "colab_type": "code",
        "outputId": "1d43839a-2218-45fc-e070-f54d45341fc4",
        "colab": {
          "base_uri": "https://localhost:8080/",
          "height": 35
        }
      },
      "source": [
        "# https://keras.io/\n",
        "!pip install -q keras\n",
        "import keras"
      ],
      "execution_count": 1,
      "outputs": [
        {
          "output_type": "stream",
          "text": [
            "Using TensorFlow backend.\n"
          ],
          "name": "stderr"
        }
      ]
    },
    {
      "cell_type": "markdown",
      "metadata": {
        "id": "Kw-wYyXu2L7x",
        "colab_type": "text"
      },
      "source": [
        "### Importing other required library"
      ]
    },
    {
      "cell_type": "code",
      "metadata": {
        "id": "Eso6UHE080D4",
        "colab_type": "code",
        "colab": {}
      },
      "source": [
        "import numpy as np\n",
        "\n",
        "from keras.models import Sequential\n",
        "from keras.layers import Dense, Dropout, Activation, Flatten, Add\n",
        "from keras.layers import Convolution2D, MaxPooling2D\n",
        "from keras.utils import np_utils\n",
        "\n",
        "from keras.datasets import mnist"
      ],
      "execution_count": 0,
      "outputs": []
    },
    {
      "cell_type": "markdown",
      "metadata": {
        "id": "zByEi95J86RD",
        "colab_type": "text"
      },
      "source": [
        "### Load pre-shuffled MNIST data into train and test sets"
      ]
    },
    {
      "cell_type": "code",
      "metadata": {
        "id": "7eRM0QWN83PV",
        "colab_type": "code",
        "colab": {}
      },
      "source": [
        "(X_train, y_train), (X_test, y_test) = mnist.load_data()"
      ],
      "execution_count": 0,
      "outputs": []
    },
    {
      "cell_type": "markdown",
      "metadata": {
        "id": "y0oHzLz62TU3",
        "colab_type": "text"
      },
      "source": [
        "### Displaying the first image from the dataset"
      ]
    },
    {
      "cell_type": "code",
      "metadata": {
        "id": "4a4Be72j8-ZC",
        "colab_type": "code",
        "outputId": "f861d2cb-2774-4fe5-e2a4-e36ad39a783f",
        "colab": {
          "base_uri": "https://localhost:8080/",
          "height": 305
        }
      },
      "source": [
        "print (X_train.shape)\n",
        "from matplotlib import pyplot as plt\n",
        "%matplotlib inline\n",
        "plt.imshow(X_train[0])"
      ],
      "execution_count": 4,
      "outputs": [
        {
          "output_type": "stream",
          "text": [
            "(60000, 28, 28)\n"
          ],
          "name": "stdout"
        },
        {
          "output_type": "execute_result",
          "data": {
            "text/plain": [
              "<matplotlib.image.AxesImage at 0x7f3db453fb38>"
            ]
          },
          "metadata": {
            "tags": []
          },
          "execution_count": 4
        },
        {
          "output_type": "display_data",
          "data": {
            "image/png": "[encoded data removed]",
            "text/plain": [
              "<Figure size 432x288 with 1 Axes>"
            ]
          },
          "metadata": {
            "tags": []
          }
        }
      ]
    },
    {
      "cell_type": "markdown",
      "metadata": {
        "id": "rEQOSeLQ2ZB4",
        "colab_type": "text"
      },
      "source": [
        "### Reshaping the train test dataset by defining number of channel for the input image"
      ]
    },
    {
      "cell_type": "code",
      "metadata": {
        "id": "dkmprriw9AnZ",
        "colab_type": "code",
        "colab": {}
      },
      "source": [
        "X_train = X_train.reshape(X_train.shape[0], 28, 28,1)\n",
        "X_test = X_test.reshape(X_test.shape[0], 28, 28,1)"
      ],
      "execution_count": 0,
      "outputs": []
    },
    {
      "cell_type": "markdown",
      "metadata": {
        "id": "26A9uXhy2qXQ",
        "colab_type": "text"
      },
      "source": [
        "### Normalizing the train and test data set by dividing 255, as 255 is the maximum value for a channel in an image and minimum is 0"
      ]
    },
    {
      "cell_type": "code",
      "metadata": {
        "id": "X2m4YS4E9CRh",
        "colab_type": "code",
        "colab": {}
      },
      "source": [
        "X_train = X_train.astype('float32')\n",
        "X_test = X_test.astype('float32')\n",
        "X_train /= 255\n",
        "X_test /= 255"
      ],
      "execution_count": 0,
      "outputs": []
    },
    {
      "cell_type": "markdown",
      "metadata": {
        "id": "5xMgTu7F2-Jd",
        "colab_type": "text"
      },
      "source": [
        "### displaying last 10 values from the output of train dataset"
      ]
    },
    {
      "cell_type": "code",
      "metadata": {
        "id": "0Mn0vAYD9DvB",
        "colab_type": "code",
        "outputId": "fd8c056b-ee5c-4787-cfcf-530cda7dc913",
        "colab": {
          "base_uri": "https://localhost:8080/",
          "height": 35
        }
      },
      "source": [
        "y_train[:10]"
      ],
      "execution_count": 7,
      "outputs": [
        {
          "output_type": "execute_result",
          "data": {
            "text/plain": [
              "array([5, 0, 4, 1, 9, 2, 1, 3, 1, 4], dtype=uint8)"
            ]
          },
          "metadata": {
            "tags": []
          },
          "execution_count": 7
        }
      ]
    },
    {
      "cell_type": "markdown",
      "metadata": {
        "id": "vW3yxhEi3HqU",
        "colab_type": "text"
      },
      "source": [
        "### As this is a classification problem with 10 labels(0-9 numbers), so here we are converting the labels into hot encoding to use in the model prediction"
      ]
    },
    {
      "cell_type": "code",
      "metadata": {
        "id": "ZG8JiXR39FHC",
        "colab_type": "code",
        "colab": {}
      },
      "source": [
        "# Convert 1-dimensional class arrays to 10-dimensional class matrices\n",
        "Y_train = np_utils.to_categorical(y_train, 10)\n",
        "Y_test = np_utils.to_categorical(y_test, 10)"
      ],
      "execution_count": 0,
      "outputs": []
    },
    {
      "cell_type": "markdown",
      "metadata": {
        "id": "VM38R1MB3bUL",
        "colab_type": "text"
      },
      "source": [
        "### Displying the last 10 values from the output of train dataset after hot encoding"
      ]
    },
    {
      "cell_type": "code",
      "metadata": {
        "id": "fYlFRvKS9HMB",
        "colab_type": "code",
        "outputId": "54fa8a10-8b2e-4723-823b-bfb299496f0f",
        "colab": {
          "base_uri": "https://localhost:8080/",
          "height": 199
        }
      },
      "source": [
        "Y_train[:10]\n"
      ],
      "execution_count": 9,
      "outputs": [
        {
          "output_type": "execute_result",
          "data": {
            "text/plain": [
              "array([[0., 0., 0., 0., 0., 1., 0., 0., 0., 0.],\n",
              "       [1., 0., 0., 0., 0., 0., 0., 0., 0., 0.],\n",
              "       [0., 0., 0., 0., 1., 0., 0., 0., 0., 0.],\n",
              "       [0., 1., 0., 0., 0., 0., 0., 0., 0., 0.],\n",
              "       [0., 0., 0., 0., 0., 0., 0., 0., 0., 1.],\n",
              "       [0., 0., 1., 0., 0., 0., 0., 0., 0., 0.],\n",
              "       [0., 1., 0., 0., 0., 0., 0., 0., 0., 0.],\n",
              "       [0., 0., 0., 1., 0., 0., 0., 0., 0., 0.],\n",
              "       [0., 1., 0., 0., 0., 0., 0., 0., 0., 0.],\n",
              "       [0., 0., 0., 0., 1., 0., 0., 0., 0., 0.]], dtype=float32)"
            ]
          },
          "metadata": {
            "tags": []
          },
          "execution_count": 9
        }
      ]
    },
    {
      "cell_type": "markdown",
      "metadata": {
        "id": "YABHz97y3ixZ",
        "colab_type": "text"
      },
      "source": [
        "## Less than 15k paramter and target validation accuracy > 99.4%\n",
        "\n",
        "### Model defination\n",
        "#### This is a very simple model, along with convultion layer I have added \n",
        "1. 1x1 convolution and Maxpooling\n",
        "2. Added dropout\n",
        "3. Increased number of epochs during model training \n",
        "4. Added batch normalization\n",
        "5. Some parameter tuning like batch size, place of MaxPooling, final convolution"
      ]
    },
    {
      "cell_type": "code",
      "metadata": {
        "id": "osKqT73Q9JJB",
        "colab_type": "code",
        "outputId": "e06d7f3f-73f2-4c78-b254-f823be5cb3a3",
        "colab": {
          "base_uri": "https://localhost:8080/",
          "height": 1092
        }
      },
      "source": [
        "from keras.layers import Activation, MaxPooling2D, Dropout, BatchNormalization\n",
        "model = Sequential()\n",
        "\n",
        "model.add(Convolution2D(8, 3, 3, activation='relu', input_shape=(28,28,1))) # 26x26x10\n",
        "\n",
        "model.add(Convolution2D(16, 3, 3, activation='relu')) # 26x26x10 -> (3x3x10) x 20 -> 24x24x20\n",
        "model.add(BatchNormalization())\n",
        "model.add(Convolution2D(32, 3, 3, activation='relu')) # 26x26x20 -> (3x3x20) x 30 -> 22x22x30\n",
        "model.add(BatchNormalization())\n",
        "\n",
        "model.add(Dropout(0.5))\n",
        "model.add(MaxPooling2D(pool_size=(2, 2))) # 11x11x30\n",
        "model.add(Convolution2D(10, 1, activation='relu')) # 11x11x30 -> (1x1x32) x10 -> 11 x 11 x 10\n",
        "model.add(BatchNormalization())\n",
        "\n",
        "model.add(Convolution2D(20, 3, 3, activation='relu')) # 11x11x10 => (3x3x10) x 16 => 9x9x20\n",
        "model.add(BatchNormalization())\n",
        "\n",
        "model.add(Dropout(0.3))\n",
        "model.add(Convolution2D(10, 1, activation='relu')) # 9x9x20 => (1x1x32) x 10 => 9x9x10\n",
        "model.add(BatchNormalization())\n",
        "model.add(Convolution2D(10, 3, 3, activation='relu')) # 7x7x10\n",
        "\n",
        "model.add(Convolution2D(10, 7)) # 7x7x10 => (7x7x10) => 1x1x10\n",
        "model.add(Flatten())\n",
        "model.add(Activation('softmax'))\n",
        "model.summary()"
      ],
      "execution_count": 10,
      "outputs": [
        {
          "output_type": "stream",
          "text": [
            "WARNING:tensorflow:From /usr/local/lib/python3.6/dist-packages/tensorflow/python/framework/op_def_library.py:263: colocate_with (from tensorflow.python.framework.ops) is deprecated and will be removed in a future version.\n",
            "Instructions for updating:\n",
            "Colocations handled automatically by placer.\n"
          ],
          "name": "stdout"
        },
        {
          "output_type": "stream",
          "text": [
            "/usr/local/lib/python3.6/dist-packages/ipykernel_launcher.py:4: UserWarning: Update your `Conv2D` call to the Keras 2 API: `Conv2D(8, (3, 3), activation=\"relu\", input_shape=(28, 28, 1...)`\n",
            "  after removing the cwd from sys.path.\n",
            "/usr/local/lib/python3.6/dist-packages/ipykernel_launcher.py:6: UserWarning: Update your `Conv2D` call to the Keras 2 API: `Conv2D(16, (3, 3), activation=\"relu\")`\n",
            "  \n"
          ],
          "name": "stderr"
        },
        {
          "output_type": "stream",
          "text": [
            "WARNING:tensorflow:From /usr/local/lib/python3.6/dist-packages/keras/backend/tensorflow_backend.py:3445: calling dropout (from tensorflow.python.ops.nn_ops) with keep_prob is deprecated and will be removed in a future version.\n",
            "Instructions for updating:\n",
            "Please use `rate` instead of `keep_prob`. Rate should be set to `rate = 1 - keep_prob`.\n"
          ],
          "name": "stdout"
        },
        {
          "output_type": "stream",
          "text": [
            "/usr/local/lib/python3.6/dist-packages/ipykernel_launcher.py:8: UserWarning: Update your `Conv2D` call to the Keras 2 API: `Conv2D(32, (3, 3), activation=\"relu\")`\n",
            "  \n",
            "/usr/local/lib/python3.6/dist-packages/ipykernel_launcher.py:16: UserWarning: Update your `Conv2D` call to the Keras 2 API: `Conv2D(20, (3, 3), activation=\"relu\")`\n",
            "  app.launch_new_instance()\n"
          ],
          "name": "stderr"
        },
        {
          "output_type": "stream",
          "text": [
            "_________________________________________________________________\n",
            "Layer (type)                 Output Shape              Param #   \n",
            "=================================================================\n",
            "conv2d_1 (Conv2D)            (None, 26, 26, 8)         80        \n",
            "_________________________________________________________________\n",
            "conv2d_2 (Conv2D)            (None, 24, 24, 16)        1168      \n",
            "_________________________________________________________________\n",
            "batch_normalization_1 (Batch (None, 24, 24, 16)        64        \n",
            "_________________________________________________________________\n",
            "conv2d_3 (Conv2D)            (None, 22, 22, 32)        4640      \n",
            "_________________________________________________________________\n",
            "batch_normalization_2 (Batch (None, 22, 22, 32)        128       \n",
            "_________________________________________________________________\n",
            "dropout_1 (Dropout)          (None, 22, 22, 32)        0         \n",
            "_________________________________________________________________\n",
            "max_pooling2d_1 (MaxPooling2 (None, 11, 11, 32)        0         \n",
            "_________________________________________________________________\n",
            "conv2d_4 (Conv2D)            (None, 11, 11, 10)        330       \n",
            "_________________________________________________________________\n",
            "batch_normalization_3 (Batch (None, 11, 11, 10)        40        \n",
            "_________________________________________________________________\n",
            "conv2d_5 (Conv2D)            (None, 9, 9, 20)          1820      \n",
            "_________________________________________________________________\n",
            "batch_normalization_4 (Batch (None, 9, 9, 20)          80        \n",
            "_________________________________________________________________\n",
            "dropout_2 (Dropout)          (None, 9, 9, 20)          0         \n",
            "_________________________________________________________________\n",
            "conv2d_6 (Conv2D)            (None, 9, 9, 10)          210       \n",
            "_________________________________________________________________\n",
            "batch_normalization_5 (Batch (None, 9, 9, 10)          40        \n",
            "_________________________________________________________________\n",
            "conv2d_7 (Conv2D)            (None, 7, 7, 10)          910       \n",
            "_________________________________________________________________\n",
            "conv2d_8 (Conv2D)            (None, 1, 1, 10)          4910      \n",
            "_________________________________________________________________\n",
            "flatten_1 (Flatten)          (None, 10)                0         \n",
            "_________________________________________________________________\n",
            "activation_1 (Activation)    (None, 10)                0         \n",
            "=================================================================\n",
            "Total params: 14,420\n",
            "Trainable params: 14,244\n",
            "Non-trainable params: 176\n",
            "_________________________________________________________________\n"
          ],
          "name": "stdout"
        },
        {
          "output_type": "stream",
          "text": [
            "/usr/local/lib/python3.6/dist-packages/ipykernel_launcher.py:22: UserWarning: Update your `Conv2D` call to the Keras 2 API: `Conv2D(10, (3, 3), activation=\"relu\")`\n"
          ],
          "name": "stderr"
        }
      ]
    },
    {
      "cell_type": "markdown",
      "metadata": {
        "id": "nirL7ggC5XpT",
        "colab_type": "text"
      },
      "source": [
        "#### Displaying model summary "
      ]
    },
    {
      "cell_type": "code",
      "metadata": {
        "id": "TzdAYg1k9K7Z",
        "colab_type": "code",
        "outputId": "c21ae0f1-53a3-4922-df85-97b1e6dba01a",
        "colab": {
          "base_uri": "https://localhost:8080/",
          "height": 799
        }
      },
      "source": [
        "model.summary()"
      ],
      "execution_count": 11,
      "outputs": [
        {
          "output_type": "stream",
          "text": [
            "_________________________________________________________________\n",
            "Layer (type)                 Output Shape              Param #   \n",
            "=================================================================\n",
            "conv2d_1 (Conv2D)            (None, 26, 26, 8)         80        \n",
            "_________________________________________________________________\n",
            "conv2d_2 (Conv2D)            (None, 24, 24, 16)        1168      \n",
            "_________________________________________________________________\n",
            "batch_normalization_1 (Batch (None, 24, 24, 16)        64        \n",
            "_________________________________________________________________\n",
            "conv2d_3 (Conv2D)            (None, 22, 22, 32)        4640      \n",
            "_________________________________________________________________\n",
            "batch_normalization_2 (Batch (None, 22, 22, 32)        128       \n",
            "_________________________________________________________________\n",
            "dropout_1 (Dropout)          (None, 22, 22, 32)        0         \n",
            "_________________________________________________________________\n",
            "max_pooling2d_1 (MaxPooling2 (None, 11, 11, 32)        0         \n",
            "_________________________________________________________________\n",
            "conv2d_4 (Conv2D)            (None, 11, 11, 10)        330       \n",
            "_________________________________________________________________\n",
            "batch_normalization_3 (Batch (None, 11, 11, 10)        40        \n",
            "_________________________________________________________________\n",
            "conv2d_5 (Conv2D)            (None, 9, 9, 20)          1820      \n",
            "_________________________________________________________________\n",
            "batch_normalization_4 (Batch (None, 9, 9, 20)          80        \n",
            "_________________________________________________________________\n",
            "dropout_2 (Dropout)          (None, 9, 9, 20)          0         \n",
            "_________________________________________________________________\n",
            "conv2d_6 (Conv2D)            (None, 9, 9, 10)          210       \n",
            "_________________________________________________________________\n",
            "batch_normalization_5 (Batch (None, 9, 9, 10)          40        \n",
            "_________________________________________________________________\n",
            "conv2d_7 (Conv2D)            (None, 7, 7, 10)          910       \n",
            "_________________________________________________________________\n",
            "conv2d_8 (Conv2D)            (None, 1, 1, 10)          4910      \n",
            "_________________________________________________________________\n",
            "flatten_1 (Flatten)          (None, 10)                0         \n",
            "_________________________________________________________________\n",
            "activation_1 (Activation)    (None, 10)                0         \n",
            "=================================================================\n",
            "Total params: 14,420\n",
            "Trainable params: 14,244\n",
            "Non-trainable params: 176\n",
            "_________________________________________________________________\n"
          ],
          "name": "stdout"
        }
      ]
    },
    {
      "cell_type": "markdown",
      "metadata": {
        "id": "WMsGaFfk5b2k",
        "colab_type": "text"
      },
      "source": [
        "#### Compile the model"
      ]
    },
    {
      "cell_type": "code",
      "metadata": {
        "id": "Zp6SuGrL9M3h",
        "colab_type": "code",
        "colab": {}
      },
      "source": [
        "model.compile(loss='categorical_crossentropy',\n",
        "             optimizer='adam',\n",
        "             metrics=['accuracy'])"
      ],
      "execution_count": 0,
      "outputs": []
    },
    {
      "cell_type": "markdown",
      "metadata": {
        "id": "8Q8nXf1p5ebg",
        "colab_type": "text"
      },
      "source": [
        "#### Train the model"
      ]
    },
    {
      "cell_type": "code",
      "metadata": {
        "id": "4xWoKhPY9Of5",
        "colab_type": "code",
        "outputId": "19fb0dca-ce20-4ff4-d241-a3992c7c2e51",
        "colab": {
          "base_uri": "https://localhost:8080/",
          "height": 3074
        }
      },
      "source": [
        "from keras.callbacks import ModelCheckpoint\n",
        "from keras.callbacks import EarlyStopping\n",
        "checkpointer = ModelCheckpoint(filepath='assignment4_model_4.h5', verbose = 1, save_best_only=True, monitor='val_acc', mode='max')\n",
        "\n",
        "model.fit(X_train, Y_train, batch_size=64, nb_epoch=40, verbose=1, validation_data=(X_test, Y_test), callbacks=[checkpointer])"
      ],
      "execution_count": 13,
      "outputs": [
        {
          "output_type": "stream",
          "text": [
            "WARNING:tensorflow:From /usr/local/lib/python3.6/dist-packages/tensorflow/python/ops/math_ops.py:3066: to_int32 (from tensorflow.python.ops.math_ops) is deprecated and will be removed in a future version.\n",
            "Instructions for updating:\n",
            "Use tf.cast instead.\n"
          ],
          "name": "stdout"
        },
        {
          "output_type": "stream",
          "text": [
            "/usr/local/lib/python3.6/dist-packages/ipykernel_launcher.py:5: UserWarning: The `nb_epoch` argument in `fit` has been renamed `epochs`.\n",
            "  \"\"\"\n"
          ],
          "name": "stderr"
        },
        {
          "output_type": "stream",
          "text": [
            "Train on 60000 samples, validate on 10000 samples\n",
            "Epoch 1/40\n",
            "60000/60000 [==============================] - 13s 220us/step - loss: 0.2214 - acc: 0.9306 - val_loss: 0.0947 - val_acc: 0.9691\n",
            "\n",
            "Epoch 00001: val_acc improved from -inf to 0.96910, saving model to assignment4_model_4.h5\n",
            "Epoch 2/40\n",
            "60000/60000 [==============================] - 11s 178us/step - loss: 0.0680 - acc: 0.9786 - val_loss: 0.0897 - val_acc: 0.9723\n",
            "\n",
            "Epoch 00002: val_acc improved from 0.96910 to 0.97230, saving model to assignment4_model_4.h5\n",
            "Epoch 3/40\n",
            "60000/60000 [==============================] - 11s 179us/step - loss: 0.0558 - acc: 0.9822 - val_loss: 0.0434 - val_acc: 0.9869\n",
            "\n",
            "Epoch 00003: val_acc improved from 0.97230 to 0.98690, saving model to assignment4_model_4.h5\n",
            "Epoch 4/40\n",
            "60000/60000 [==============================] - 11s 178us/step - loss: 0.0454 - acc: 0.9853 - val_loss: 0.0500 - val_acc: 0.9836\n",
            "\n",
            "Epoch 00004: val_acc did not improve from 0.98690\n",
            "Epoch 5/40\n",
            "60000/60000 [==============================] - 11s 178us/step - loss: 0.0411 - acc: 0.9867 - val_loss: 0.0652 - val_acc: 0.9790\n",
            "\n",
            "Epoch 00005: val_acc did not improve from 0.98690\n",
            "Epoch 6/40\n",
            "60000/60000 [==============================] - 11s 179us/step - loss: 0.0386 - acc: 0.9879 - val_loss: 0.0351 - val_acc: 0.9886\n",
            "\n",
            "Epoch 00006: val_acc improved from 0.98690 to 0.98860, saving model to assignment4_model_4.h5\n",
            "Epoch 7/40\n",
            "60000/60000 [==============================] - 11s 190us/step - loss: 0.0354 - acc: 0.9889 - val_loss: 0.0319 - val_acc: 0.9894\n",
            "\n",
            "Epoch 00007: val_acc improved from 0.98860 to 0.98940, saving model to assignment4_model_4.h5\n",
            "Epoch 8/40\n",
            "60000/60000 [==============================] - 11s 177us/step - loss: 0.0330 - acc: 0.9893 - val_loss: 0.0351 - val_acc: 0.9889\n",
            "\n",
            "Epoch 00008: val_acc did not improve from 0.98940\n",
            "Epoch 9/40\n",
            "60000/60000 [==============================] - 11s 178us/step - loss: 0.0312 - acc: 0.9900 - val_loss: 0.0362 - val_acc: 0.9883\n",
            "\n",
            "Epoch 00009: val_acc did not improve from 0.98940\n",
            "Epoch 10/40\n",
            "60000/60000 [==============================] - 11s 177us/step - loss: 0.0284 - acc: 0.9908 - val_loss: 0.0366 - val_acc: 0.9875\n",
            "\n",
            "Epoch 00010: val_acc did not improve from 0.98940\n",
            "Epoch 11/40\n",
            "60000/60000 [==============================] - 11s 177us/step - loss: 0.0283 - acc: 0.9906 - val_loss: 0.0269 - val_acc: 0.9915\n",
            "\n",
            "Epoch 00011: val_acc improved from 0.98940 to 0.99150, saving model to assignment4_model_4.h5\n",
            "Epoch 12/40\n",
            "60000/60000 [==============================] - 11s 179us/step - loss: 0.0255 - acc: 0.9916 - val_loss: 0.0281 - val_acc: 0.9913\n",
            "\n",
            "Epoch 00012: val_acc did not improve from 0.99150\n",
            "Epoch 13/40\n",
            "60000/60000 [==============================] - 11s 178us/step - loss: 0.0263 - acc: 0.9915 - val_loss: 0.0268 - val_acc: 0.9909\n",
            "\n",
            "Epoch 00013: val_acc did not improve from 0.99150\n",
            "Epoch 14/40\n",
            "60000/60000 [==============================] - 11s 186us/step - loss: 0.0237 - acc: 0.9918 - val_loss: 0.0303 - val_acc: 0.9909\n",
            "\n",
            "Epoch 00014: val_acc did not improve from 0.99150\n",
            "Epoch 15/40\n",
            "60000/60000 [==============================] - 11s 189us/step - loss: 0.0229 - acc: 0.9927 - val_loss: 0.0361 - val_acc: 0.9886\n",
            "\n",
            "Epoch 00015: val_acc did not improve from 0.99150\n",
            "Epoch 16/40\n",
            "60000/60000 [==============================] - 11s 177us/step - loss: 0.0226 - acc: 0.9923 - val_loss: 0.0279 - val_acc: 0.9915\n",
            "\n",
            "Epoch 00016: val_acc did not improve from 0.99150\n",
            "Epoch 17/40\n",
            "60000/60000 [==============================] - 11s 177us/step - loss: 0.0220 - acc: 0.9926 - val_loss: 0.0309 - val_acc: 0.9907\n",
            "\n",
            "Epoch 00017: val_acc did not improve from 0.99150\n",
            "Epoch 18/40\n",
            "60000/60000 [==============================] - 11s 178us/step - loss: 0.0210 - acc: 0.9932 - val_loss: 0.0377 - val_acc: 0.9891\n",
            "\n",
            "Epoch 00018: val_acc did not improve from 0.99150\n",
            "Epoch 19/40\n",
            "60000/60000 [==============================] - 10s 175us/step - loss: 0.0201 - acc: 0.9937 - val_loss: 0.0314 - val_acc: 0.9914\n",
            "\n",
            "Epoch 00019: val_acc did not improve from 0.99150\n",
            "Epoch 20/40\n",
            "60000/60000 [==============================] - 11s 176us/step - loss: 0.0191 - acc: 0.9939 - val_loss: 0.0293 - val_acc: 0.9914\n",
            "\n",
            "Epoch 00020: val_acc did not improve from 0.99150\n",
            "Epoch 21/40\n",
            "60000/60000 [==============================] - 11s 178us/step - loss: 0.0197 - acc: 0.9936 - val_loss: 0.0242 - val_acc: 0.9923\n",
            "\n",
            "Epoch 00021: val_acc improved from 0.99150 to 0.99230, saving model to assignment4_model_4.h5\n",
            "Epoch 22/40\n",
            "60000/60000 [==============================] - 11s 191us/step - loss: 0.0197 - acc: 0.9933 - val_loss: 0.0361 - val_acc: 0.9892\n",
            "\n",
            "Epoch 00022: val_acc did not improve from 0.99230\n",
            "Epoch 23/40\n",
            "60000/60000 [==============================] - 11s 183us/step - loss: 0.0184 - acc: 0.9939 - val_loss: 0.0333 - val_acc: 0.9904\n",
            "\n",
            "Epoch 00023: val_acc did not improve from 0.99230\n",
            "Epoch 24/40\n",
            "60000/60000 [==============================] - 11s 180us/step - loss: 0.0179 - acc: 0.9941 - val_loss: 0.0378 - val_acc: 0.9891\n",
            "\n",
            "Epoch 00024: val_acc did not improve from 0.99230\n",
            "Epoch 25/40\n",
            "60000/60000 [==============================] - 11s 178us/step - loss: 0.0182 - acc: 0.9941 - val_loss: 0.0281 - val_acc: 0.9920\n",
            "\n",
            "Epoch 00025: val_acc did not improve from 0.99230\n",
            "Epoch 26/40\n",
            "60000/60000 [==============================] - 11s 177us/step - loss: 0.0168 - acc: 0.9941 - val_loss: 0.0365 - val_acc: 0.9901\n",
            "\n",
            "Epoch 00026: val_acc did not improve from 0.99230\n",
            "Epoch 27/40\n",
            "60000/60000 [==============================] - 11s 176us/step - loss: 0.0162 - acc: 0.9947 - val_loss: 0.0355 - val_acc: 0.9901\n",
            "\n",
            "Epoch 00027: val_acc did not improve from 0.99230\n",
            "Epoch 28/40\n",
            "60000/60000 [==============================] - 11s 176us/step - loss: 0.0162 - acc: 0.9945 - val_loss: 0.0323 - val_acc: 0.9910\n",
            "\n",
            "Epoch 00028: val_acc did not improve from 0.99230\n",
            "Epoch 29/40\n",
            "60000/60000 [==============================] - 11s 184us/step - loss: 0.0156 - acc: 0.9950 - val_loss: 0.0300 - val_acc: 0.9918\n",
            "\n",
            "Epoch 00029: val_acc did not improve from 0.99230\n",
            "Epoch 30/40\n",
            "60000/60000 [==============================] - 11s 180us/step - loss: 0.0158 - acc: 0.9944 - val_loss: 0.0338 - val_acc: 0.9908\n",
            "\n",
            "Epoch 00030: val_acc did not improve from 0.99230\n",
            "Epoch 31/40\n",
            "60000/60000 [==============================] - 10s 175us/step - loss: 0.0155 - acc: 0.9950 - val_loss: 0.0271 - val_acc: 0.9921\n",
            "\n",
            "Epoch 00031: val_acc did not improve from 0.99230\n",
            "Epoch 32/40\n",
            "60000/60000 [==============================] - 11s 175us/step - loss: 0.0157 - acc: 0.9946 - val_loss: 0.0433 - val_acc: 0.9886\n",
            "\n",
            "Epoch 00032: val_acc did not improve from 0.99230\n",
            "Epoch 33/40\n",
            "60000/60000 [==============================] - 11s 175us/step - loss: 0.0143 - acc: 0.9952 - val_loss: 0.0347 - val_acc: 0.9912\n",
            "\n",
            "Epoch 00033: val_acc did not improve from 0.99230\n",
            "Epoch 34/40\n",
            "60000/60000 [==============================] - 11s 177us/step - loss: 0.0146 - acc: 0.9950 - val_loss: 0.0387 - val_acc: 0.9902\n",
            "\n",
            "Epoch 00034: val_acc did not improve from 0.99230\n",
            "Epoch 35/40\n",
            "60000/60000 [==============================] - 11s 178us/step - loss: 0.0130 - acc: 0.9955 - val_loss: 0.0352 - val_acc: 0.9908\n",
            "\n",
            "Epoch 00035: val_acc did not improve from 0.99230\n",
            "Epoch 36/40\n",
            "60000/60000 [==============================] - 11s 178us/step - loss: 0.0138 - acc: 0.9955 - val_loss: 0.0345 - val_acc: 0.9907\n",
            "\n",
            "Epoch 00036: val_acc did not improve from 0.99230\n",
            "Epoch 37/40\n",
            "60000/60000 [==============================] - 11s 188us/step - loss: 0.0134 - acc: 0.9957 - val_loss: 0.0459 - val_acc: 0.9862\n",
            "\n",
            "Epoch 00037: val_acc did not improve from 0.99230\n",
            "Epoch 38/40\n",
            "60000/60000 [==============================] - 10s 175us/step - loss: 0.0144 - acc: 0.9950 - val_loss: 0.0306 - val_acc: 0.9916\n",
            "\n",
            "Epoch 00038: val_acc did not improve from 0.99230\n",
            "Epoch 39/40\n",
            "60000/60000 [==============================] - 10s 173us/step - loss: 0.0139 - acc: 0.9954 - val_loss: 0.0366 - val_acc: 0.9898\n",
            "\n",
            "Epoch 00039: val_acc did not improve from 0.99230\n",
            "Epoch 40/40\n",
            "60000/60000 [==============================] - 10s 175us/step - loss: 0.0143 - acc: 0.9949 - val_loss: 0.0337 - val_acc: 0.9911\n",
            "\n",
            "Epoch 00040: val_acc did not improve from 0.99230\n"
          ],
          "name": "stdout"
        },
        {
          "output_type": "execute_result",
          "data": {
            "text/plain": [
              "<keras.callbacks.History at 0x7f3da0e20cc0>"
            ]
          },
          "metadata": {
            "tags": []
          },
          "execution_count": 13
        }
      ]
    },
    {
      "cell_type": "code",
      "metadata": {
        "id": "XSRQoCfxsCmM",
        "colab_type": "code",
        "colab": {}
      },
      "source": [
        "# Load the weights with the best validation accuracy:\n",
        "model.load_weights('assignment4_model_4.h5')"
      ],
      "execution_count": 0,
      "outputs": []
    },
    {
      "cell_type": "markdown",
      "metadata": {
        "id": "fUwpUWX-58np",
        "colab_type": "text"
      },
      "source": [
        "#### Validate the model accuracy with test data"
      ]
    },
    {
      "cell_type": "code",
      "metadata": {
        "id": "AtsH-lLk-eLb",
        "colab_type": "code",
        "colab": {}
      },
      "source": [
        "score = model.evaluate(X_test, Y_test, verbose=0)"
      ],
      "execution_count": 0,
      "outputs": []
    },
    {
      "cell_type": "markdown",
      "metadata": {
        "id": "C1h3_wrc6B2Z",
        "colab_type": "text"
      },
      "source": [
        "#### Printing the validation accuracy"
      ]
    },
    {
      "cell_type": "code",
      "metadata": {
        "id": "mkX8JMv79q9r",
        "colab_type": "code",
        "outputId": "8ad1f864-4b6b-43c9-8316-dacefd6ff34f",
        "colab": {
          "base_uri": "https://localhost:8080/",
          "height": 35
        }
      },
      "source": [
        "print(score)"
      ],
      "execution_count": 16,
      "outputs": [
        {
          "output_type": "stream",
          "text": [
            "[0.02422195719825686, 0.9923]\n"
          ],
          "name": "stdout"
        }
      ]
    },
    {
      "cell_type": "markdown",
      "metadata": {
        "id": "zyNnd3nCATRX",
        "colab_type": "text"
      },
      "source": [
        "### Predicting the test data outout using the model"
      ]
    },
    {
      "cell_type": "code",
      "metadata": {
        "id": "OCWoJkwE9suh",
        "colab_type": "code",
        "colab": {}
      },
      "source": [
        "y_pred = model.predict(X_test)"
      ],
      "execution_count": 0,
      "outputs": []
    },
    {
      "cell_type": "markdown",
      "metadata": {
        "id": "ZrON4pDsTk2X",
        "colab_type": "text"
      },
      "source": [
        "### Printing last 10 predicted(probability like) vs actual output "
      ]
    },
    {
      "cell_type": "code",
      "metadata": {
        "id": "Ym7iCFBm9uBs",
        "colab_type": "code",
        "outputId": "d2526792-3344-4770-cc9d-9b04a13aed8f",
        "colab": {
          "base_uri": "https://localhost:8080/",
          "height": 526
        }
      },
      "source": [
        "print(y_pred[:9])\n",
        "print(y_test[:9])"
      ],
      "execution_count": 18,
      "outputs": [
        {
          "output_type": "stream",
          "text": [
            "[[4.02774941e-14 9.52805390e-10 3.25294636e-08 4.37083507e-08\n",
            "  6.05271152e-15 1.01689664e-12 1.91501957e-20 9.99999762e-01\n",
            "  1.76222942e-11 7.13904882e-08]\n",
            " [5.17602450e-09 3.14205863e-06 9.99978065e-01 2.41473725e-12\n",
            "  4.66178051e-07 5.47017596e-12 1.83654774e-05 1.59097582e-10\n",
            "  3.60595841e-12 1.77207261e-12]\n",
            " [6.13606543e-09 9.99969840e-01 2.66043845e-08 4.18440491e-11\n",
            "  1.11724557e-05 1.77752852e-08 2.75984071e-08 1.87961123e-05\n",
            "  9.41804590e-09 1.25274667e-07]\n",
            " [9.99953151e-01 5.49300677e-13 8.41267334e-10 2.49720156e-09\n",
            "  1.56821403e-10 1.59082223e-08 4.04972670e-05 2.04395807e-08\n",
            "  7.80980827e-08 6.18293598e-06]\n",
            " [7.79663487e-12 7.88129492e-11 4.33285241e-10 1.32081845e-13\n",
            "  9.99945521e-01 4.66245911e-13 2.76844225e-11 1.82280961e-11\n",
            "  1.06186754e-07 5.43139031e-05]\n",
            " [1.38073553e-09 9.99912858e-01 2.64705093e-08 4.92989438e-13\n",
            "  2.62871836e-05 4.08647866e-10 6.03124262e-09 6.05168498e-05\n",
            "  1.58129581e-08 3.02354209e-07]\n",
            " [5.00142833e-16 1.62751252e-08 5.88333151e-08 4.48453557e-12\n",
            "  9.99921918e-01 3.76731785e-10 1.48870682e-14 1.74787374e-06\n",
            "  7.45122452e-05 1.62707488e-06]\n",
            " [2.56526137e-12 4.35010286e-08 3.10238626e-08 5.37174571e-07\n",
            "  2.38169450e-04 7.35414062e-07 1.60751624e-14 3.65768549e-09\n",
            "  2.72063062e-05 9.99733269e-01]\n",
            " [1.71177291e-07 1.31749353e-12 3.03079895e-09 4.06606162e-08\n",
            "  3.95033478e-10 9.99398828e-01 9.85250008e-05 3.98451605e-10\n",
            "  4.86604229e-04 1.57760751e-05]]\n",
            "[7 2 1 0 4 1 4 9 5]\n"
          ],
          "name": "stdout"
        }
      ]
    },
    {
      "cell_type": "code",
      "metadata": {
        "id": "xumlusPAdUJV",
        "colab_type": "code",
        "colab": {}
      },
      "source": [
        ""
      ],
      "execution_count": 0,
      "outputs": []
    }
  ]
}