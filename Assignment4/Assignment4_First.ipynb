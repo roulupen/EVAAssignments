{
  "nbformat": 4,
  "nbformat_minor": 0,
  "metadata": {
    "colab": {
      "name": "Assignment4_First.ipynb",
      "version": "0.3.2",
      "provenance": [],
      "collapsed_sections": [],
      "include_colab_link": true
    },
    "kernelspec": {
      "name": "python3",
      "display_name": "Python 3"
    },
    "accelerator": "GPU"
  },
  "cells": [
    {
      "cell_type": "markdown",
      "metadata": {
        "id": "view-in-github",
        "colab_type": "text"
      },
      "source": [
        "<a href=\"https://colab.research.google.com/github/roulupen/EVAAssignments/blob/master/Assignment4/Assignment4_First.ipynb\" target=\"_parent\"><img src=\"https://colab.research.google.com/assets/colab-badge.svg\" alt=\"Open In Colab\"/></a>"
      ]
    },
    {
      "cell_type": "markdown",
      "metadata": {
        "id": "aNyZv-Ec52ot",
        "colab_type": "text"
      },
      "source": [
        "#### This file contains a very basic model and here I have make sure the number of parametrs less than 15k.  In subsequent files I will add diiferent model tuning paramters and will try to achieve the accuracy target with much lesser parameter."
      ]
    },
    {
      "cell_type": "markdown",
      "metadata": {
        "id": "wvfzFdb32GnD",
        "colab_type": "text"
      },
      "source": [
        "### Importing Keras library "
      ]
    },
    {
      "cell_type": "code",
      "metadata": {
        "id": "3m3w1Cw49Zkt",
        "colab_type": "code",
        "outputId": "eecebdf0-22b1-4311-f3e8-82ac96cb375f",
        "colab": {
          "base_uri": "https://localhost:8080/",
          "height": 35
        }
      },
      "source": [
        "# https://keras.io/\n",
        "!pip install -q keras\n",
        "import keras"
      ],
      "execution_count": 1,
      "outputs": [
        {
          "output_type": "stream",
          "text": [
            "Using TensorFlow backend.\n"
          ],
          "name": "stderr"
        }
      ]
    },
    {
      "cell_type": "markdown",
      "metadata": {
        "id": "Kw-wYyXu2L7x",
        "colab_type": "text"
      },
      "source": [
        "### Importing other required library"
      ]
    },
    {
      "cell_type": "code",
      "metadata": {
        "id": "Eso6UHE080D4",
        "colab_type": "code",
        "colab": {}
      },
      "source": [
        "import numpy as np\n",
        "\n",
        "from keras.models import Sequential\n",
        "from keras.layers import Dense, Dropout, Activation, Flatten, Add\n",
        "from keras.layers import Convolution2D, MaxPooling2D\n",
        "from keras.utils import np_utils\n",
        "\n",
        "from keras.datasets import mnist"
      ],
      "execution_count": 0,
      "outputs": []
    },
    {
      "cell_type": "markdown",
      "metadata": {
        "id": "zByEi95J86RD",
        "colab_type": "text"
      },
      "source": [
        "### Load pre-shuffled MNIST data into train and test sets"
      ]
    },
    {
      "cell_type": "code",
      "metadata": {
        "id": "7eRM0QWN83PV",
        "colab_type": "code",
        "outputId": "9715ecbd-8e2d-458b-d9e6-430795b9f9a8",
        "colab": {
          "base_uri": "https://localhost:8080/",
          "height": 54
        }
      },
      "source": [
        "(X_train, y_train), (X_test, y_test) = mnist.load_data()"
      ],
      "execution_count": 3,
      "outputs": [
        {
          "output_type": "stream",
          "text": [
            "Downloading data from https://s3.amazonaws.com/img-datasets/mnist.npz\n",
            "11493376/11490434 [==============================] - 4s 0us/step\n"
          ],
          "name": "stdout"
        }
      ]
    },
    {
      "cell_type": "markdown",
      "metadata": {
        "id": "y0oHzLz62TU3",
        "colab_type": "text"
      },
      "source": [
        "### Displaying the first image from the dataset"
      ]
    },
    {
      "cell_type": "code",
      "metadata": {
        "id": "4a4Be72j8-ZC",
        "colab_type": "code",
        "outputId": "814af962-17fe-4ca1-86ae-c4ea871ab63f",
        "colab": {
          "base_uri": "https://localhost:8080/",
          "height": 305
        }
      },
      "source": [
        "print (X_train.shape)\n",
        "from matplotlib import pyplot as plt\n",
        "%matplotlib inline\n",
        "plt.imshow(X_train[0])"
      ],
      "execution_count": 4,
      "outputs": [
        {
          "output_type": "stream",
          "text": [
            "(60000, 28, 28)\n"
          ],
          "name": "stdout"
        },
        {
          "output_type": "execute_result",
          "data": {
            "text/plain": [
              "<matplotlib.image.AxesImage at 0x7fd71237fb70>"
            ]
          },
          "metadata": {
            "tags": []
          },
          "execution_count": 4
        },
        {
          "output_type": "display_data",
          "data": {
            "image/png": "[encoded data removed]",
            "text/plain": [
              "<Figure size 432x288 with 1 Axes>"
            ]
          },
          "metadata": {
            "tags": []
          }
        }
      ]
    },
    {
      "cell_type": "markdown",
      "metadata": {
        "id": "rEQOSeLQ2ZB4",
        "colab_type": "text"
      },
      "source": [
        "### Reshaping the train test dataset by defining number of channel for the input image"
      ]
    },
    {
      "cell_type": "code",
      "metadata": {
        "id": "dkmprriw9AnZ",
        "colab_type": "code",
        "colab": {}
      },
      "source": [
        "X_train = X_train.reshape(X_train.shape[0], 28, 28,1)\n",
        "X_test = X_test.reshape(X_test.shape[0], 28, 28,1)"
      ],
      "execution_count": 0,
      "outputs": []
    },
    {
      "cell_type": "markdown",
      "metadata": {
        "id": "26A9uXhy2qXQ",
        "colab_type": "text"
      },
      "source": [
        "### Normalizing the train and test data set by dividing 255, as 255 is the maximum value for a channel in an image and minimum is 0"
      ]
    },
    {
      "cell_type": "code",
      "metadata": {
        "id": "X2m4YS4E9CRh",
        "colab_type": "code",
        "colab": {}
      },
      "source": [
        "X_train = X_train.astype('float32')\n",
        "X_test = X_test.astype('float32')\n",
        "X_train /= 255\n",
        "X_test /= 255"
      ],
      "execution_count": 0,
      "outputs": []
    },
    {
      "cell_type": "markdown",
      "metadata": {
        "id": "5xMgTu7F2-Jd",
        "colab_type": "text"
      },
      "source": [
        "### displaying last 10 values from the output of train dataset"
      ]
    },
    {
      "cell_type": "code",
      "metadata": {
        "id": "0Mn0vAYD9DvB",
        "colab_type": "code",
        "outputId": "41aae6e3-9d6a-4e8d-ff6a-63b79533a3e4",
        "colab": {
          "base_uri": "https://localhost:8080/",
          "height": 35
        }
      },
      "source": [
        "y_train[:10]"
      ],
      "execution_count": 7,
      "outputs": [
        {
          "output_type": "execute_result",
          "data": {
            "text/plain": [
              "array([5, 0, 4, 1, 9, 2, 1, 3, 1, 4], dtype=uint8)"
            ]
          },
          "metadata": {
            "tags": []
          },
          "execution_count": 7
        }
      ]
    },
    {
      "cell_type": "markdown",
      "metadata": {
        "id": "vW3yxhEi3HqU",
        "colab_type": "text"
      },
      "source": [
        "### As this is a classification problem with 10 labels(0-9 numbers), so here we are converting the labels into hot encoding to use in the model prediction"
      ]
    },
    {
      "cell_type": "code",
      "metadata": {
        "id": "ZG8JiXR39FHC",
        "colab_type": "code",
        "colab": {}
      },
      "source": [
        "# Convert 1-dimensional class arrays to 10-dimensional class matrices\n",
        "Y_train = np_utils.to_categorical(y_train, 10)\n",
        "Y_test = np_utils.to_categorical(y_test, 10)"
      ],
      "execution_count": 0,
      "outputs": []
    },
    {
      "cell_type": "markdown",
      "metadata": {
        "id": "VM38R1MB3bUL",
        "colab_type": "text"
      },
      "source": [
        "### Displying the last 10 values from the output of train dataset after hot encoding"
      ]
    },
    {
      "cell_type": "code",
      "metadata": {
        "id": "fYlFRvKS9HMB",
        "colab_type": "code",
        "outputId": "61009a7e-9d1f-4579-b2c7-f7e93870aa58",
        "colab": {
          "base_uri": "https://localhost:8080/",
          "height": 199
        }
      },
      "source": [
        "Y_train[:10]\n"
      ],
      "execution_count": 9,
      "outputs": [
        {
          "output_type": "execute_result",
          "data": {
            "text/plain": [
              "array([[0., 0., 0., 0., 0., 1., 0., 0., 0., 0.],\n",
              "       [1., 0., 0., 0., 0., 0., 0., 0., 0., 0.],\n",
              "       [0., 0., 0., 0., 1., 0., 0., 0., 0., 0.],\n",
              "       [0., 1., 0., 0., 0., 0., 0., 0., 0., 0.],\n",
              "       [0., 0., 0., 0., 0., 0., 0., 0., 0., 1.],\n",
              "       [0., 0., 1., 0., 0., 0., 0., 0., 0., 0.],\n",
              "       [0., 1., 0., 0., 0., 0., 0., 0., 0., 0.],\n",
              "       [0., 0., 0., 1., 0., 0., 0., 0., 0., 0.],\n",
              "       [0., 1., 0., 0., 0., 0., 0., 0., 0., 0.],\n",
              "       [0., 0., 0., 0., 1., 0., 0., 0., 0., 0.]], dtype=float32)"
            ]
          },
          "metadata": {
            "tags": []
          },
          "execution_count": 9
        }
      ]
    },
    {
      "cell_type": "markdown",
      "metadata": {
        "id": "YABHz97y3ixZ",
        "colab_type": "text"
      },
      "source": [
        "## 1st Model\n",
        "## Less than 15k paramter and target validation accuracy > 99.4%\n",
        "\n",
        "### Model defination\n",
        "#### This is a very simple model, along with convultion layer I have added 1x1 convolution and Maxpooling"
      ]
    },
    {
      "cell_type": "code",
      "metadata": {
        "id": "osKqT73Q9JJB",
        "colab_type": "code",
        "outputId": "6bde73ef-0f9a-450a-c07c-5e02235a71e5",
        "colab": {
          "base_uri": "https://localhost:8080/",
          "height": 801
        }
      },
      "source": [
        "from keras.layers import Activation, MaxPooling2D, Dropout\n",
        "model = Sequential()\n",
        "\n",
        "model.add(Convolution2D(8, 3, 3, activation='relu', input_shape=(28,28,1))) # 26x26x10\n",
        "model.add(Convolution2D(16, 3, 3, activation='relu')) # 26x26x10 -> (3x3x10) x 20 -> 24x24x20\n",
        "model.add(Convolution2D(32, 3, 3, activation='relu')) # 26x26x20 -> (3x3x20) x 30 -> 22x22x30\n",
        "\n",
        "model.add(MaxPooling2D(pool_size=(2, 2))) # 11x11x30\n",
        "model.add(Convolution2D(10, 1, activation='relu')) # 11x11x30 -> (1x1x32) x10 -> 11 x 11 x 10\n",
        "\n",
        "model.add(Convolution2D(10, 3, 3, activation='relu')) # 11x11x10 => (3x3x10) x 16 => 9x9x16\n",
        "model.add(Convolution2D(20, 3, 3, activation='relu')) # 9x9x32 => (3x3x16) x 32 => 7x7x32\n",
        "model.add(Convolution2D(10, 1, activation='relu')) # 7x7x32 => (1x1x32) x 10 => 7x7x10\n",
        "\n",
        "model.add(Convolution2D(10, 7)) # 7x7x10 => (7x7x10) => 1x1x10\n",
        "model.add(Flatten())\n",
        "model.add(Activation('softmax'))\n",
        "model.summary()"
      ],
      "execution_count": 10,
      "outputs": [
        {
          "output_type": "stream",
          "text": [
            "WARNING:tensorflow:From /usr/local/lib/python3.6/dist-packages/tensorflow/python/framework/op_def_library.py:263: colocate_with (from tensorflow.python.framework.ops) is deprecated and will be removed in a future version.\n",
            "Instructions for updating:\n",
            "Colocations handled automatically by placer.\n"
          ],
          "name": "stdout"
        },
        {
          "output_type": "stream",
          "text": [
            "/usr/local/lib/python3.6/dist-packages/ipykernel_launcher.py:4: UserWarning: Update your `Conv2D` call to the Keras 2 API: `Conv2D(8, (3, 3), activation=\"relu\", input_shape=(28, 28, 1...)`\n",
            "  after removing the cwd from sys.path.\n",
            "/usr/local/lib/python3.6/dist-packages/ipykernel_launcher.py:5: UserWarning: Update your `Conv2D` call to the Keras 2 API: `Conv2D(16, (3, 3), activation=\"relu\")`\n",
            "  \"\"\"\n",
            "/usr/local/lib/python3.6/dist-packages/ipykernel_launcher.py:6: UserWarning: Update your `Conv2D` call to the Keras 2 API: `Conv2D(32, (3, 3), activation=\"relu\")`\n",
            "  \n",
            "/usr/local/lib/python3.6/dist-packages/ipykernel_launcher.py:11: UserWarning: Update your `Conv2D` call to the Keras 2 API: `Conv2D(10, (3, 3), activation=\"relu\")`\n",
            "  # This is added back by InteractiveShellApp.init_path()\n",
            "/usr/local/lib/python3.6/dist-packages/ipykernel_launcher.py:12: UserWarning: Update your `Conv2D` call to the Keras 2 API: `Conv2D(20, (3, 3), activation=\"relu\")`\n",
            "  if sys.path[0] == '':\n"
          ],
          "name": "stderr"
        },
        {
          "output_type": "stream",
          "text": [
            "_________________________________________________________________\n",
            "Layer (type)                 Output Shape              Param #   \n",
            "=================================================================\n",
            "conv2d_1 (Conv2D)            (None, 26, 26, 8)         80        \n",
            "_________________________________________________________________\n",
            "conv2d_2 (Conv2D)            (None, 24, 24, 16)        1168      \n",
            "_________________________________________________________________\n",
            "conv2d_3 (Conv2D)            (None, 22, 22, 32)        4640      \n",
            "_________________________________________________________________\n",
            "max_pooling2d_1 (MaxPooling2 (None, 11, 11, 32)        0         \n",
            "_________________________________________________________________\n",
            "conv2d_4 (Conv2D)            (None, 11, 11, 10)        330       \n",
            "_________________________________________________________________\n",
            "conv2d_5 (Conv2D)            (None, 9, 9, 10)          910       \n",
            "_________________________________________________________________\n",
            "conv2d_6 (Conv2D)            (None, 7, 7, 20)          1820      \n",
            "_________________________________________________________________\n",
            "conv2d_7 (Conv2D)            (None, 7, 7, 10)          210       \n",
            "_________________________________________________________________\n",
            "conv2d_8 (Conv2D)            (None, 1, 1, 10)          4910      \n",
            "_________________________________________________________________\n",
            "flatten_1 (Flatten)          (None, 10)                0         \n",
            "_________________________________________________________________\n",
            "activation_1 (Activation)    (None, 10)                0         \n",
            "=================================================================\n",
            "Total params: 14,068\n",
            "Trainable params: 14,068\n",
            "Non-trainable params: 0\n",
            "_________________________________________________________________\n"
          ],
          "name": "stdout"
        }
      ]
    },
    {
      "cell_type": "markdown",
      "metadata": {
        "id": "nirL7ggC5XpT",
        "colab_type": "text"
      },
      "source": [
        "#### Displaying model summary "
      ]
    },
    {
      "cell_type": "code",
      "metadata": {
        "id": "TzdAYg1k9K7Z",
        "colab_type": "code",
        "outputId": "8ceb9461-54c9-4fad-fdc4-4130a86cc753",
        "colab": {
          "base_uri": "https://localhost:8080/",
          "height": 545
        }
      },
      "source": [
        "model.summary()"
      ],
      "execution_count": 11,
      "outputs": [
        {
          "output_type": "stream",
          "text": [
            "_________________________________________________________________\n",
            "Layer (type)                 Output Shape              Param #   \n",
            "=================================================================\n",
            "conv2d_1 (Conv2D)            (None, 26, 26, 8)         80        \n",
            "_________________________________________________________________\n",
            "conv2d_2 (Conv2D)            (None, 24, 24, 16)        1168      \n",
            "_________________________________________________________________\n",
            "conv2d_3 (Conv2D)            (None, 22, 22, 32)        4640      \n",
            "_________________________________________________________________\n",
            "max_pooling2d_1 (MaxPooling2 (None, 11, 11, 32)        0         \n",
            "_________________________________________________________________\n",
            "conv2d_4 (Conv2D)            (None, 11, 11, 10)        330       \n",
            "_________________________________________________________________\n",
            "conv2d_5 (Conv2D)            (None, 9, 9, 10)          910       \n",
            "_________________________________________________________________\n",
            "conv2d_6 (Conv2D)            (None, 7, 7, 20)          1820      \n",
            "_________________________________________________________________\n",
            "conv2d_7 (Conv2D)            (None, 7, 7, 10)          210       \n",
            "_________________________________________________________________\n",
            "conv2d_8 (Conv2D)            (None, 1, 1, 10)          4910      \n",
            "_________________________________________________________________\n",
            "flatten_1 (Flatten)          (None, 10)                0         \n",
            "_________________________________________________________________\n",
            "activation_1 (Activation)    (None, 10)                0         \n",
            "=================================================================\n",
            "Total params: 14,068\n",
            "Trainable params: 14,068\n",
            "Non-trainable params: 0\n",
            "_________________________________________________________________\n"
          ],
          "name": "stdout"
        }
      ]
    },
    {
      "cell_type": "markdown",
      "metadata": {
        "id": "WMsGaFfk5b2k",
        "colab_type": "text"
      },
      "source": [
        "#### Compile the model"
      ]
    },
    {
      "cell_type": "code",
      "metadata": {
        "id": "Zp6SuGrL9M3h",
        "colab_type": "code",
        "colab": {}
      },
      "source": [
        "model.compile(loss='categorical_crossentropy',\n",
        "             optimizer='adam',\n",
        "             metrics=['accuracy'])"
      ],
      "execution_count": 0,
      "outputs": []
    },
    {
      "cell_type": "markdown",
      "metadata": {
        "id": "8Q8nXf1p5ebg",
        "colab_type": "text"
      },
      "source": [
        "#### Train the model"
      ]
    },
    {
      "cell_type": "code",
      "metadata": {
        "id": "4xWoKhPY9Of5",
        "colab_type": "code",
        "outputId": "899e5507-5b75-4a0d-8a72-d3380902b075",
        "colab": {
          "base_uri": "https://localhost:8080/",
          "height": 1983
        }
      },
      "source": [
        "from keras.callbacks import ModelCheckpoint\n",
        "from keras.callbacks import EarlyStopping\n",
        "checkpointer = ModelCheckpoint(filepath='assignment4_model_1.h5', verbose = 1, save_best_only=True, monitor='val_acc', mode='max')\n",
        "\n",
        "model.fit(X_train, Y_train, batch_size=64, nb_epoch=25, verbose=1, validation_data=(X_test, Y_test), callbacks=[checkpointer])"
      ],
      "execution_count": 13,
      "outputs": [
        {
          "output_type": "stream",
          "text": [
            "WARNING:tensorflow:From /usr/local/lib/python3.6/dist-packages/tensorflow/python/ops/math_ops.py:3066: to_int32 (from tensorflow.python.ops.math_ops) is deprecated and will be removed in a future version.\n",
            "Instructions for updating:\n",
            "Use tf.cast instead.\n"
          ],
          "name": "stdout"
        },
        {
          "output_type": "stream",
          "text": [
            "/usr/local/lib/python3.6/dist-packages/ipykernel_launcher.py:5: UserWarning: The `nb_epoch` argument in `fit` has been renamed `epochs`.\n",
            "  \"\"\"\n"
          ],
          "name": "stderr"
        },
        {
          "output_type": "stream",
          "text": [
            "Train on 60000 samples, validate on 10000 samples\n",
            "Epoch 1/25\n",
            "60000/60000 [==============================] - 11s 183us/step - loss: 0.2473 - acc: 0.9239 - val_loss: 0.0888 - val_acc: 0.9726\n",
            "\n",
            "Epoch 00001: val_acc improved from -inf to 0.97260, saving model to assignment4_model_1.h5\n",
            "Epoch 2/25\n",
            "60000/60000 [==============================] - 6s 99us/step - loss: 0.0921 - acc: 0.9723 - val_loss: 0.0651 - val_acc: 0.9783\n",
            "\n",
            "Epoch 00002: val_acc improved from 0.97260 to 0.97830, saving model to assignment4_model_1.h5\n",
            "Epoch 3/25\n",
            "60000/60000 [==============================] - 5s 91us/step - loss: 0.0663 - acc: 0.9797 - val_loss: 0.0516 - val_acc: 0.9833\n",
            "\n",
            "Epoch 00003: val_acc improved from 0.97830 to 0.98330, saving model to assignment4_model_1.h5\n",
            "Epoch 4/25\n",
            "60000/60000 [==============================] - 5s 91us/step - loss: 0.0549 - acc: 0.9831 - val_loss: 0.0617 - val_acc: 0.9816\n",
            "\n",
            "Epoch 00004: val_acc did not improve from 0.98330\n",
            "Epoch 5/25\n",
            "60000/60000 [==============================] - 5s 91us/step - loss: 0.0462 - acc: 0.9858 - val_loss: 0.0465 - val_acc: 0.9853\n",
            "\n",
            "Epoch 00005: val_acc improved from 0.98330 to 0.98530, saving model to assignment4_model_1.h5\n",
            "Epoch 6/25\n",
            "60000/60000 [==============================] - 5s 90us/step - loss: 0.0395 - acc: 0.9876 - val_loss: 0.0567 - val_acc: 0.9828\n",
            "\n",
            "Epoch 00006: val_acc did not improve from 0.98530\n",
            "Epoch 7/25\n",
            "60000/60000 [==============================] - 5s 91us/step - loss: 0.0357 - acc: 0.9889 - val_loss: 0.0462 - val_acc: 0.9851\n",
            "\n",
            "Epoch 00007: val_acc did not improve from 0.98530\n",
            "Epoch 8/25\n",
            "60000/60000 [==============================] - 5s 91us/step - loss: 0.0334 - acc: 0.9895 - val_loss: 0.0460 - val_acc: 0.9863\n",
            "\n",
            "Epoch 00008: val_acc improved from 0.98530 to 0.98630, saving model to assignment4_model_1.h5\n",
            "Epoch 9/25\n",
            "60000/60000 [==============================] - 5s 91us/step - loss: 0.0298 - acc: 0.9908 - val_loss: 0.0474 - val_acc: 0.9852\n",
            "\n",
            "Epoch 00009: val_acc did not improve from 0.98630\n",
            "Epoch 10/25\n",
            "60000/60000 [==============================] - 5s 91us/step - loss: 0.0270 - acc: 0.9912 - val_loss: 0.0458 - val_acc: 0.9853\n",
            "\n",
            "Epoch 00010: val_acc did not improve from 0.98630\n",
            "Epoch 11/25\n",
            "60000/60000 [==============================] - 6s 107us/step - loss: 0.0235 - acc: 0.9924 - val_loss: 0.0454 - val_acc: 0.9871\n",
            "\n",
            "Epoch 00011: val_acc improved from 0.98630 to 0.98710, saving model to assignment4_model_1.h5\n",
            "Epoch 12/25\n",
            "60000/60000 [==============================] - 6s 100us/step - loss: 0.0229 - acc: 0.9923 - val_loss: 0.0391 - val_acc: 0.9875\n",
            "\n",
            "Epoch 00012: val_acc improved from 0.98710 to 0.98750, saving model to assignment4_model_1.h5\n",
            "Epoch 13/25\n",
            "60000/60000 [==============================] - 5s 91us/step - loss: 0.0202 - acc: 0.9932 - val_loss: 0.0434 - val_acc: 0.9869\n",
            "\n",
            "Epoch 00013: val_acc did not improve from 0.98750\n",
            "Epoch 14/25\n",
            "60000/60000 [==============================] - 5s 90us/step - loss: 0.0182 - acc: 0.9940 - val_loss: 0.0457 - val_acc: 0.9874\n",
            "\n",
            "Epoch 00014: val_acc did not improve from 0.98750\n",
            "Epoch 15/25\n",
            "60000/60000 [==============================] - 6s 100us/step - loss: 0.0179 - acc: 0.9940 - val_loss: 0.0447 - val_acc: 0.9870\n",
            "\n",
            "Epoch 00015: val_acc did not improve from 0.98750\n",
            "Epoch 16/25\n",
            "60000/60000 [==============================] - 6s 100us/step - loss: 0.0151 - acc: 0.9949 - val_loss: 0.0464 - val_acc: 0.9880\n",
            "\n",
            "Epoch 00016: val_acc improved from 0.98750 to 0.98800, saving model to assignment4_model_1.h5\n",
            "Epoch 17/25\n",
            "60000/60000 [==============================] - 5s 91us/step - loss: 0.0154 - acc: 0.9950 - val_loss: 0.0417 - val_acc: 0.9881\n",
            "\n",
            "Epoch 00017: val_acc improved from 0.98800 to 0.98810, saving model to assignment4_model_1.h5\n",
            "Epoch 18/25\n",
            "60000/60000 [==============================] - 5s 91us/step - loss: 0.0142 - acc: 0.9954 - val_loss: 0.0506 - val_acc: 0.9864\n",
            "\n",
            "Epoch 00018: val_acc did not improve from 0.98810\n",
            "Epoch 19/25\n",
            "60000/60000 [==============================] - 5s 90us/step - loss: 0.0133 - acc: 0.9956 - val_loss: 0.0506 - val_acc: 0.9853\n",
            "\n",
            "Epoch 00019: val_acc did not improve from 0.98810\n",
            "Epoch 20/25\n",
            "60000/60000 [==============================] - 5s 91us/step - loss: 0.0126 - acc: 0.9957 - val_loss: 0.0575 - val_acc: 0.9861\n",
            "\n",
            "Epoch 00020: val_acc did not improve from 0.98810\n",
            "Epoch 21/25\n",
            "60000/60000 [==============================] - 5s 91us/step - loss: 0.0117 - acc: 0.9960 - val_loss: 0.0486 - val_acc: 0.9875\n",
            "\n",
            "Epoch 00021: val_acc did not improve from 0.98810\n",
            "Epoch 22/25\n",
            "60000/60000 [==============================] - 5s 91us/step - loss: 0.0116 - acc: 0.9960 - val_loss: 0.0514 - val_acc: 0.9865\n",
            "\n",
            "Epoch 00022: val_acc did not improve from 0.98810\n",
            "Epoch 23/25\n",
            "60000/60000 [==============================] - 6s 95us/step - loss: 0.0090 - acc: 0.9969 - val_loss: 0.0588 - val_acc: 0.9872\n",
            "\n",
            "Epoch 00023: val_acc did not improve from 0.98810\n",
            "Epoch 24/25\n",
            "60000/60000 [==============================] - 6s 98us/step - loss: 0.0098 - acc: 0.9967 - val_loss: 0.0602 - val_acc: 0.9868\n",
            "\n",
            "Epoch 00024: val_acc did not improve from 0.98810\n",
            "Epoch 25/25\n",
            "60000/60000 [==============================] - 5s 91us/step - loss: 0.0092 - acc: 0.9970 - val_loss: 0.0513 - val_acc: 0.9877\n",
            "\n",
            "Epoch 00025: val_acc did not improve from 0.98810\n"
          ],
          "name": "stdout"
        },
        {
          "output_type": "execute_result",
          "data": {
            "text/plain": [
              "<keras.callbacks.History at 0x7fd6c57f1908>"
            ]
          },
          "metadata": {
            "tags": []
          },
          "execution_count": 13
        }
      ]
    },
    {
      "cell_type": "code",
      "metadata": {
        "id": "XSRQoCfxsCmM",
        "colab_type": "code",
        "colab": {}
      },
      "source": [
        "# Load the weights with the best validation accuracy:\n",
        "model.load_weights('assignment4_model_1.h5')"
      ],
      "execution_count": 0,
      "outputs": []
    },
    {
      "cell_type": "markdown",
      "metadata": {
        "id": "fUwpUWX-58np",
        "colab_type": "text"
      },
      "source": [
        "#### Validate the model accuracy with test data"
      ]
    },
    {
      "cell_type": "code",
      "metadata": {
        "id": "AtsH-lLk-eLb",
        "colab_type": "code",
        "colab": {}
      },
      "source": [
        "score = model.evaluate(X_test, Y_test, verbose=0)"
      ],
      "execution_count": 0,
      "outputs": []
    },
    {
      "cell_type": "markdown",
      "metadata": {
        "id": "C1h3_wrc6B2Z",
        "colab_type": "text"
      },
      "source": [
        "#### Printing the validation accuracy"
      ]
    },
    {
      "cell_type": "code",
      "metadata": {
        "id": "mkX8JMv79q9r",
        "colab_type": "code",
        "outputId": "997d8e8c-0467-4580-d229-4093dd191017",
        "colab": {
          "base_uri": "https://localhost:8080/",
          "height": 35
        }
      },
      "source": [
        "print(score)"
      ],
      "execution_count": 16,
      "outputs": [
        {
          "output_type": "stream",
          "text": [
            "[0.041711725946849035, 0.9881]\n"
          ],
          "name": "stdout"
        }
      ]
    },
    {
      "cell_type": "markdown",
      "metadata": {
        "id": "zyNnd3nCATRX",
        "colab_type": "text"
      },
      "source": [
        "### Predicting the test data outout using the model"
      ]
    },
    {
      "cell_type": "code",
      "metadata": {
        "id": "OCWoJkwE9suh",
        "colab_type": "code",
        "colab": {}
      },
      "source": [
        "y_pred = model.predict(X_test)"
      ],
      "execution_count": 0,
      "outputs": []
    },
    {
      "cell_type": "markdown",
      "metadata": {
        "id": "ZrON4pDsTk2X",
        "colab_type": "text"
      },
      "source": [
        "### Printing last 10 predicted(probability like) vs actual output "
      ]
    },
    {
      "cell_type": "code",
      "metadata": {
        "id": "Ym7iCFBm9uBs",
        "colab_type": "code",
        "outputId": "d1889fac-1099-46b7-e964-3892ab871dce",
        "colab": {
          "base_uri": "https://localhost:8080/",
          "height": 363
        }
      },
      "source": [
        "print(y_pred[:9])\n",
        "print(y_test[:9])"
      ],
      "execution_count": 18,
      "outputs": [
        {
          "output_type": "stream",
          "text": [
            "[[8.7380125e-13 1.3578150e-11 9.8621115e-07 2.1520790e-08 7.6609901e-19\n",
            "  8.2407657e-12 2.8441646e-20 9.9999905e-01 3.0569741e-10 2.0853801e-09]\n",
            " [1.9961444e-11 2.0320558e-10 1.0000000e+00 3.4850564e-10 3.9495720e-12\n",
            "  3.1834277e-16 1.4099619e-12 2.2198086e-14 3.9581825e-13 1.3395204e-17]\n",
            " [1.0349430e-08 9.9998391e-01 1.6183485e-06 1.7058893e-09 1.8098475e-06\n",
            "  5.5863775e-06 3.2126675e-08 5.9253371e-06 9.7644374e-07 9.8821900e-08]\n",
            " [9.9980444e-01 9.1597980e-14 1.3820970e-05 3.4092176e-12 3.4432963e-09\n",
            "  8.0177927e-09 8.5166917e-05 1.2255880e-09 3.5360395e-07 9.6152071e-05]\n",
            " [5.3504527e-11 1.2513841e-12 1.1354158e-11 3.0552758e-13 9.9998271e-01\n",
            "  5.6431850e-13 2.0885793e-12 2.5553702e-13 1.4209797e-08 1.7277251e-05]\n",
            " [5.9548544e-10 9.9995780e-01 1.5039931e-06 2.0441331e-10 8.3394389e-06\n",
            "  7.3140917e-08 1.5571165e-09 3.1413674e-05 1.6734076e-07 6.5042730e-07]\n",
            " [2.2110546e-20 7.8387965e-12 3.3912970e-11 5.2089313e-16 9.9999988e-01\n",
            "  1.2173417e-13 4.2381562e-18 6.1408629e-09 1.1032738e-07 6.4793055e-09]\n",
            " [1.0142807e-12 1.4679620e-09 6.3623702e-09 1.7171465e-07 2.2329199e-04\n",
            "  1.6397131e-07 2.3495531e-13 9.2856702e-08 2.3813507e-06 9.9977392e-01]\n",
            " [1.9333439e-11 3.1778442e-15 7.7467863e-15 4.3434388e-12 1.2294122e-11\n",
            "  9.7698295e-01 2.3006503e-02 7.2456054e-15 1.0446443e-05 2.0531762e-07]]\n",
            "[7 2 1 0 4 1 4 9 5]\n"
          ],
          "name": "stdout"
        }
      ]
    },
    {
      "cell_type": "code",
      "metadata": {
        "id": "9tvptcn8dxvp",
        "colab_type": "code",
        "colab": {}
      },
      "source": [
        "layer_dict = dict([(layer.name, layer) for layer in model.layers])"
      ],
      "execution_count": 0,
      "outputs": []
    },
    {
      "cell_type": "code",
      "metadata": {
        "id": "UNiBfC72dYLR",
        "colab_type": "code",
        "colab": {
          "base_uri": "https://localhost:8080/",
          "height": 217
        },
        "outputId": "dfc129b1-b758-4cfd-d5e4-389020dc8068"
      },
      "source": [
        "layer_dict"
      ],
      "execution_count": 20,
      "outputs": [
        {
          "output_type": "execute_result",
          "data": {
            "text/plain": [
              "{'activation_1': <keras.layers.core.Activation at 0x7fd6c58c6b00>,\n",
              " 'conv2d_1': <keras.layers.convolutional.Conv2D at 0x7fd6c8a108d0>,\n",
              " 'conv2d_2': <keras.layers.convolutional.Conv2D at 0x7fd6c61dd1d0>,\n",
              " 'conv2d_3': <keras.layers.convolutional.Conv2D at 0x7fd6c61dd518>,\n",
              " 'conv2d_4': <keras.layers.convolutional.Conv2D at 0x7fd6c61dd630>,\n",
              " 'conv2d_5': <keras.layers.convolutional.Conv2D at 0x7fd6c592b160>,\n",
              " 'conv2d_6': <keras.layers.convolutional.Conv2D at 0x7fd6c5941a20>,\n",
              " 'conv2d_7': <keras.layers.convolutional.Conv2D at 0x7fd6c5955358>,\n",
              " 'conv2d_8': <keras.layers.convolutional.Conv2D at 0x7fd6c58ea3c8>,\n",
              " 'flatten_1': <keras.layers.core.Flatten at 0x7fd6c58c6e48>,\n",
              " 'max_pooling2d_1': <keras.layers.pooling.MaxPooling2D at 0x7fd6c592b940>}"
            ]
          },
          "metadata": {
            "tags": []
          },
          "execution_count": 20
        }
      ]
    },
    {
      "cell_type": "code",
      "metadata": {
        "id": "4aCYXA79cf9-",
        "colab_type": "code",
        "colab": {
          "base_uri": "https://localhost:8080/",
          "height": 837
        },
        "outputId": "360a615d-c456-4378-d160-516583031340"
      },
      "source": [
        "import numpy as np\n",
        "from matplotlib import pyplot as plt\n",
        "from keras import backend as K\n",
        "%matplotlib inline\n",
        "# util function to convert a tensor into a valid image\n",
        "def deprocess_image(x):\n",
        "    # normalize tensor: center on 0., ensure std is 0.1\n",
        "    x -= x.mean()\n",
        "    x /= (x.std() + 1e-5)\n",
        "    x *= 0.1\n",
        "\n",
        "    # clip to [0, 1]\n",
        "    x += 0.5\n",
        "    x = np.clip(x, 0, 1)\n",
        "\n",
        "    # convert to RGB array\n",
        "    x *= 255\n",
        "    #x = x.transpose((1, 2, 0))\n",
        "    x = np.clip(x, 0, 255).astype('uint8')\n",
        "    return x\n",
        "\n",
        "def vis_img_in_filter(img = np.array(X_train[2]).reshape((1, 28, 28, 1)).astype(np.float64), \n",
        "                      layer_name = 'conv2d_3'):\n",
        "    layer_output = layer_dict[layer_name].output\n",
        "    img_ascs = list()\n",
        "    for filter_index in range(layer_output.shape[3]):\n",
        "        # build a loss function that maximizes the activation\n",
        "        # of the nth filter of the layer considered\n",
        "        loss = K.mean(layer_output[:, :, :, filter_index])\n",
        "\n",
        "        # compute the gradient of the input picture wrt this loss\n",
        "        grads = K.gradients(loss, model.input)[0]\n",
        "\n",
        "        # normalization trick: we normalize the gradient\n",
        "        grads /= (K.sqrt(K.mean(K.square(grads))) + 1e-5)\n",
        "\n",
        "        # this function returns the loss and grads given the input picture\n",
        "        iterate = K.function([model.input], [loss, grads])\n",
        "\n",
        "        # step size for gradient ascent\n",
        "        step = 5.\n",
        "\n",
        "        img_asc = np.array(img)\n",
        "        # run gradient ascent for 20 steps\n",
        "        for i in range(20):\n",
        "            loss_value, grads_value = iterate([img_asc])\n",
        "            img_asc += grads_value * step\n",
        "\n",
        "        img_asc = img_asc[0]\n",
        "        img_ascs.append(deprocess_image(img_asc).reshape((28, 28)))\n",
        "        \n",
        "    if layer_output.shape[3] >= 35:\n",
        "        plot_x, plot_y = 6, 6\n",
        "    elif layer_output.shape[3] >= 23:\n",
        "        plot_x, plot_y = 4, 6\n",
        "    elif layer_output.shape[3] >= 11:\n",
        "        plot_x, plot_y = 2, 6\n",
        "    else:\n",
        "        plot_x, plot_y = 1, 2\n",
        "    fig, ax = plt.subplots(plot_x, plot_y, figsize = (12, 12))\n",
        "    ax[0, 0].imshow(img.reshape((28, 28)), cmap = 'gray')\n",
        "    ax[0, 0].set_title('Input image')\n",
        "    fig.suptitle('Input image and %s filters' % (layer_name,))\n",
        "    fig.tight_layout(pad = 0.3, rect = [0, 0, 0.9, 0.9])\n",
        "    for (x, y) in [(i, j) for i in range(plot_x) for j in range(plot_y)]:\n",
        "        if x == 0 and y == 0:\n",
        "            continue\n",
        "        ax[x, y].imshow(img_ascs[x * plot_y + y - 1], cmap = 'gray')\n",
        "        ax[x, y].set_title('filter %d' % (x * plot_y + y - 1))\n",
        "\n",
        "vis_img_in_filter()"
      ],
      "execution_count": 21,
      "outputs": [
        {
          "output_type": "display_data",
          "data": {
            "image/png": "[encoded data removed]",
            "text/plain": [
              "<Figure size 864x864 with 24 Axes>"
            ]
          },
          "metadata": {
            "tags": []
          }
        }
      ]
    },
    {
      "cell_type": "code",
      "metadata": {
        "id": "xumlusPAdUJV",
        "colab_type": "code",
        "colab": {}
      },
      "source": [
        ""
      ],
      "execution_count": 0,
      "outputs": []
    }
  ]
}