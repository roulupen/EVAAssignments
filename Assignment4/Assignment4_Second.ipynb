{
  "nbformat": 4,
  "nbformat_minor": 0,
  "metadata": {
    "colab": {
      "name": "Assignment4_Second.ipynb",
      "version": "0.3.2",
      "provenance": [],
      "collapsed_sections": [],
      "include_colab_link": true
    },
    "kernelspec": {
      "name": "python3",
      "display_name": "Python 3"
    },
    "accelerator": "GPU"
  },
  "cells": [
    {
      "cell_type": "markdown",
      "metadata": {
        "id": "view-in-github",
        "colab_type": "text"
      },
      "source": [
        "<a href=\"https://colab.research.google.com/github/roulupen/EVAAssignments/blob/master/Assignment4/Assignment4_Second.ipynb\" target=\"_parent\"><img src=\"https://colab.research.google.com/assets/colab-badge.svg\" alt=\"Open In Colab\"/></a>"
      ]
    },
    {
      "cell_type": "markdown",
      "metadata": {
        "id": "aNyZv-Ec52ot",
        "colab_type": "text"
      },
      "source": [
        "#### On this model, on top of basic model I'm changing following things\n",
        "\n",
        "\n",
        "1.   Adding droput at different layers\n",
        "2.   Increasing number of epoch to 40\n",
        "\n"
      ]
    },
    {
      "cell_type": "markdown",
      "metadata": {
        "id": "wvfzFdb32GnD",
        "colab_type": "text"
      },
      "source": [
        "### Importing Keras library "
      ]
    },
    {
      "cell_type": "code",
      "metadata": {
        "id": "3m3w1Cw49Zkt",
        "colab_type": "code",
        "outputId": "d1af1353-e707-46c6-c7ec-315d82881bbe",
        "colab": {
          "base_uri": "https://localhost:8080/",
          "height": 35
        }
      },
      "source": [
        "# https://keras.io/\n",
        "!pip install -q keras\n",
        "import keras"
      ],
      "execution_count": 1,
      "outputs": [
        {
          "output_type": "stream",
          "text": [
            "Using TensorFlow backend.\n"
          ],
          "name": "stderr"
        }
      ]
    },
    {
      "cell_type": "markdown",
      "metadata": {
        "id": "Kw-wYyXu2L7x",
        "colab_type": "text"
      },
      "source": [
        "### Importing other required library"
      ]
    },
    {
      "cell_type": "code",
      "metadata": {
        "id": "Eso6UHE080D4",
        "colab_type": "code",
        "colab": {}
      },
      "source": [
        "import numpy as np\n",
        "\n",
        "from keras.models import Sequential\n",
        "from keras.layers import Dense, Dropout, Activation, Flatten, Add\n",
        "from keras.layers import Convolution2D, MaxPooling2D\n",
        "from keras.utils import np_utils\n",
        "\n",
        "from keras.datasets import mnist"
      ],
      "execution_count": 0,
      "outputs": []
    },
    {
      "cell_type": "markdown",
      "metadata": {
        "id": "zByEi95J86RD",
        "colab_type": "text"
      },
      "source": [
        "### Load pre-shuffled MNIST data into train and test sets"
      ]
    },
    {
      "cell_type": "code",
      "metadata": {
        "id": "7eRM0QWN83PV",
        "colab_type": "code",
        "colab": {}
      },
      "source": [
        "(X_train, y_train), (X_test, y_test) = mnist.load_data()"
      ],
      "execution_count": 0,
      "outputs": []
    },
    {
      "cell_type": "markdown",
      "metadata": {
        "id": "y0oHzLz62TU3",
        "colab_type": "text"
      },
      "source": [
        "### Displaying the first image from the dataset"
      ]
    },
    {
      "cell_type": "code",
      "metadata": {
        "id": "4a4Be72j8-ZC",
        "colab_type": "code",
        "outputId": "60d7a3c1-594d-472b-a80e-3f3d980a052e",
        "colab": {
          "base_uri": "https://localhost:8080/",
          "height": 305
        }
      },
      "source": [
        "print (X_train.shape)\n",
        "from matplotlib import pyplot as plt\n",
        "%matplotlib inline\n",
        "plt.imshow(X_train[0])"
      ],
      "execution_count": 4,
      "outputs": [
        {
          "output_type": "stream",
          "text": [
            "(60000, 28, 28)\n"
          ],
          "name": "stdout"
        },
        {
          "output_type": "execute_result",
          "data": {
            "text/plain": [
              "<matplotlib.image.AxesImage at 0x7fefe67afb38>"
            ]
          },
          "metadata": {
            "tags": []
          },
          "execution_count": 4
        },
        {
          "output_type": "display_data",
          "data": {
            "image/png": "[encoded data removed]",
            "text/plain": [
              "<Figure size 432x288 with 1 Axes>"
            ]
          },
          "metadata": {
            "tags": []
          }
        }
      ]
    },
    {
      "cell_type": "markdown",
      "metadata": {
        "id": "rEQOSeLQ2ZB4",
        "colab_type": "text"
      },
      "source": [
        "### Reshaping the train test dataset by defining number of channel for the input image"
      ]
    },
    {
      "cell_type": "code",
      "metadata": {
        "id": "dkmprriw9AnZ",
        "colab_type": "code",
        "colab": {}
      },
      "source": [
        "X_train = X_train.reshape(X_train.shape[0], 28, 28,1)\n",
        "X_test = X_test.reshape(X_test.shape[0], 28, 28,1)"
      ],
      "execution_count": 0,
      "outputs": []
    },
    {
      "cell_type": "markdown",
      "metadata": {
        "id": "26A9uXhy2qXQ",
        "colab_type": "text"
      },
      "source": [
        "### Normalizing the train and test data set by dividing 255, as 255 is the maximum value for a channel in an image and minimum is 0"
      ]
    },
    {
      "cell_type": "code",
      "metadata": {
        "id": "X2m4YS4E9CRh",
        "colab_type": "code",
        "colab": {}
      },
      "source": [
        "X_train = X_train.astype('float32')\n",
        "X_test = X_test.astype('float32')\n",
        "X_train /= 255\n",
        "X_test /= 255"
      ],
      "execution_count": 0,
      "outputs": []
    },
    {
      "cell_type": "markdown",
      "metadata": {
        "id": "5xMgTu7F2-Jd",
        "colab_type": "text"
      },
      "source": [
        "### displaying last 10 values from the output of train dataset"
      ]
    },
    {
      "cell_type": "code",
      "metadata": {
        "id": "0Mn0vAYD9DvB",
        "colab_type": "code",
        "outputId": "b6ff371b-3d63-48af-c9e2-8d3ef634630b",
        "colab": {
          "base_uri": "https://localhost:8080/",
          "height": 35
        }
      },
      "source": [
        "y_train[:10]"
      ],
      "execution_count": 7,
      "outputs": [
        {
          "output_type": "execute_result",
          "data": {
            "text/plain": [
              "array([5, 0, 4, 1, 9, 2, 1, 3, 1, 4], dtype=uint8)"
            ]
          },
          "metadata": {
            "tags": []
          },
          "execution_count": 7
        }
      ]
    },
    {
      "cell_type": "markdown",
      "metadata": {
        "id": "vW3yxhEi3HqU",
        "colab_type": "text"
      },
      "source": [
        "### As this is a classification problem with 10 labels(0-9 numbers), so here we are converting the labels into hot encoding to use in the model prediction"
      ]
    },
    {
      "cell_type": "code",
      "metadata": {
        "id": "ZG8JiXR39FHC",
        "colab_type": "code",
        "colab": {}
      },
      "source": [
        "# Convert 1-dimensional class arrays to 10-dimensional class matrices\n",
        "Y_train = np_utils.to_categorical(y_train, 10)\n",
        "Y_test = np_utils.to_categorical(y_test, 10)"
      ],
      "execution_count": 0,
      "outputs": []
    },
    {
      "cell_type": "markdown",
      "metadata": {
        "id": "VM38R1MB3bUL",
        "colab_type": "text"
      },
      "source": [
        "### Displying the last 10 values from the output of train dataset after hot encoding"
      ]
    },
    {
      "cell_type": "code",
      "metadata": {
        "id": "fYlFRvKS9HMB",
        "colab_type": "code",
        "outputId": "add0549f-2478-48fa-f276-2e684890eeab",
        "colab": {
          "base_uri": "https://localhost:8080/",
          "height": 199
        }
      },
      "source": [
        "Y_train[:10]\n"
      ],
      "execution_count": 9,
      "outputs": [
        {
          "output_type": "execute_result",
          "data": {
            "text/plain": [
              "array([[0., 0., 0., 0., 0., 1., 0., 0., 0., 0.],\n",
              "       [1., 0., 0., 0., 0., 0., 0., 0., 0., 0.],\n",
              "       [0., 0., 0., 0., 1., 0., 0., 0., 0., 0.],\n",
              "       [0., 1., 0., 0., 0., 0., 0., 0., 0., 0.],\n",
              "       [0., 0., 0., 0., 0., 0., 0., 0., 0., 1.],\n",
              "       [0., 0., 1., 0., 0., 0., 0., 0., 0., 0.],\n",
              "       [0., 1., 0., 0., 0., 0., 0., 0., 0., 0.],\n",
              "       [0., 0., 0., 1., 0., 0., 0., 0., 0., 0.],\n",
              "       [0., 1., 0., 0., 0., 0., 0., 0., 0., 0.],\n",
              "       [0., 0., 0., 0., 1., 0., 0., 0., 0., 0.]], dtype=float32)"
            ]
          },
          "metadata": {
            "tags": []
          },
          "execution_count": 9
        }
      ]
    },
    {
      "cell_type": "markdown",
      "metadata": {
        "id": "YABHz97y3ixZ",
        "colab_type": "text"
      },
      "source": [
        "## 1st Model\n",
        "## Less than 15k paramter and target validation accuracy > 99.4%\n",
        "\n",
        "### Model defination\n",
        "#### This is a very simple model, along with convultion layer I have added \n",
        "1. 1x1 convolution and Maxpooling\n",
        "2. Added dropout\n",
        "3. Increased number of epochs during model training "
      ]
    },
    {
      "cell_type": "code",
      "metadata": {
        "id": "osKqT73Q9JJB",
        "colab_type": "code",
        "outputId": "e72e0663-ad84-40c1-f402-efda86abed71",
        "colab": {
          "base_uri": "https://localhost:8080/",
          "height": 928
        }
      },
      "source": [
        "from keras.layers import Activation, MaxPooling2D, Dropout\n",
        "model = Sequential()\n",
        "\n",
        "model.add(Convolution2D(8, 3, 3, activation='relu', input_shape=(28,28,1))) # 26x26x10\n",
        "model.add(Convolution2D(16, 3, 3, activation='relu')) # 26x26x10 -> (3x3x10) x 20 -> 24x24x20\n",
        "model.add(Convolution2D(32, 3, 3, activation='relu')) # 26x26x20 -> (3x3x20) x 30 -> 22x22x30\n",
        "\n",
        "model.add(Dropout(0.3))\n",
        "model.add(MaxPooling2D(pool_size=(2, 2))) # 11x11x30\n",
        "model.add(Convolution2D(10, 1, activation='relu')) # 11x11x30 -> (1x1x32) x10 -> 11 x 11 x 10\n",
        "\n",
        "model.add(Convolution2D(8, 3, 3, activation='relu')) # 11x11x10 => (3x3x10) x 16 => 9x9x16\n",
        "model.add(Convolution2D(16, 3, 3, activation='relu')) # 9x9x32 => (3x3x16) x 32 => 7x7x32\n",
        "\n",
        "model.add(Dropout(0.5))\n",
        "model.add(Convolution2D(10, 1, activation='relu')) # 7x7x32 => (1x1x32) x 10 => 7x7x10\n",
        "\n",
        "model.add(Convolution2D(10, 7)) # 7x7x10 => (7x7x10) => 1x1x10\n",
        "model.add(Flatten())\n",
        "model.add(Activation('softmax'))\n",
        "model.summary()"
      ],
      "execution_count": 10,
      "outputs": [
        {
          "output_type": "stream",
          "text": [
            "WARNING:tensorflow:From /usr/local/lib/python3.6/dist-packages/tensorflow/python/framework/op_def_library.py:263: colocate_with (from tensorflow.python.framework.ops) is deprecated and will be removed in a future version.\n",
            "Instructions for updating:\n",
            "Colocations handled automatically by placer.\n",
            "WARNING:tensorflow:From /usr/local/lib/python3.6/dist-packages/keras/backend/tensorflow_backend.py:3445: calling dropout (from tensorflow.python.ops.nn_ops) with keep_prob is deprecated and will be removed in a future version.\n",
            "Instructions for updating:\n",
            "Please use `rate` instead of `keep_prob`. Rate should be set to `rate = 1 - keep_prob`.\n"
          ],
          "name": "stdout"
        },
        {
          "output_type": "stream",
          "text": [
            "/usr/local/lib/python3.6/dist-packages/ipykernel_launcher.py:4: UserWarning: Update your `Conv2D` call to the Keras 2 API: `Conv2D(8, (3, 3), activation=\"relu\", input_shape=(28, 28, 1...)`\n",
            "  after removing the cwd from sys.path.\n",
            "/usr/local/lib/python3.6/dist-packages/ipykernel_launcher.py:5: UserWarning: Update your `Conv2D` call to the Keras 2 API: `Conv2D(16, (3, 3), activation=\"relu\")`\n",
            "  \"\"\"\n",
            "/usr/local/lib/python3.6/dist-packages/ipykernel_launcher.py:6: UserWarning: Update your `Conv2D` call to the Keras 2 API: `Conv2D(32, (3, 3), activation=\"relu\")`\n",
            "  \n",
            "/usr/local/lib/python3.6/dist-packages/ipykernel_launcher.py:12: UserWarning: Update your `Conv2D` call to the Keras 2 API: `Conv2D(8, (3, 3), activation=\"relu\")`\n",
            "  if sys.path[0] == '':\n",
            "/usr/local/lib/python3.6/dist-packages/ipykernel_launcher.py:13: UserWarning: Update your `Conv2D` call to the Keras 2 API: `Conv2D(16, (3, 3), activation=\"relu\")`\n",
            "  del sys.path[0]\n"
          ],
          "name": "stderr"
        },
        {
          "output_type": "stream",
          "text": [
            "_________________________________________________________________\n",
            "Layer (type)                 Output Shape              Param #   \n",
            "=================================================================\n",
            "conv2d_1 (Conv2D)            (None, 26, 26, 8)         80        \n",
            "_________________________________________________________________\n",
            "conv2d_2 (Conv2D)            (None, 24, 24, 16)        1168      \n",
            "_________________________________________________________________\n",
            "conv2d_3 (Conv2D)            (None, 22, 22, 32)        4640      \n",
            "_________________________________________________________________\n",
            "dropout_1 (Dropout)          (None, 22, 22, 32)        0         \n",
            "_________________________________________________________________\n",
            "max_pooling2d_1 (MaxPooling2 (None, 11, 11, 32)        0         \n",
            "_________________________________________________________________\n",
            "conv2d_4 (Conv2D)            (None, 11, 11, 10)        330       \n",
            "_________________________________________________________________\n",
            "conv2d_5 (Conv2D)            (None, 9, 9, 8)           728       \n",
            "_________________________________________________________________\n",
            "conv2d_6 (Conv2D)            (None, 7, 7, 16)          1168      \n",
            "_________________________________________________________________\n",
            "dropout_2 (Dropout)          (None, 7, 7, 16)          0         \n",
            "_________________________________________________________________\n",
            "conv2d_7 (Conv2D)            (None, 7, 7, 10)          170       \n",
            "_________________________________________________________________\n",
            "conv2d_8 (Conv2D)            (None, 1, 1, 10)          4910      \n",
            "_________________________________________________________________\n",
            "flatten_1 (Flatten)          (None, 10)                0         \n",
            "_________________________________________________________________\n",
            "activation_1 (Activation)    (None, 10)                0         \n",
            "=================================================================\n",
            "Total params: 13,194\n",
            "Trainable params: 13,194\n",
            "Non-trainable params: 0\n",
            "_________________________________________________________________\n"
          ],
          "name": "stdout"
        }
      ]
    },
    {
      "cell_type": "markdown",
      "metadata": {
        "id": "nirL7ggC5XpT",
        "colab_type": "text"
      },
      "source": [
        "#### Displaying model summary "
      ]
    },
    {
      "cell_type": "code",
      "metadata": {
        "id": "TzdAYg1k9K7Z",
        "colab_type": "code",
        "outputId": "65cdacb7-72e3-408f-f408-15e4dc1c0658",
        "colab": {
          "base_uri": "https://localhost:8080/",
          "height": 617
        }
      },
      "source": [
        "model.summary()"
      ],
      "execution_count": 11,
      "outputs": [
        {
          "output_type": "stream",
          "text": [
            "_________________________________________________________________\n",
            "Layer (type)                 Output Shape              Param #   \n",
            "=================================================================\n",
            "conv2d_1 (Conv2D)            (None, 26, 26, 8)         80        \n",
            "_________________________________________________________________\n",
            "conv2d_2 (Conv2D)            (None, 24, 24, 16)        1168      \n",
            "_________________________________________________________________\n",
            "conv2d_3 (Conv2D)            (None, 22, 22, 32)        4640      \n",
            "_________________________________________________________________\n",
            "dropout_1 (Dropout)          (None, 22, 22, 32)        0         \n",
            "_________________________________________________________________\n",
            "max_pooling2d_1 (MaxPooling2 (None, 11, 11, 32)        0         \n",
            "_________________________________________________________________\n",
            "conv2d_4 (Conv2D)            (None, 11, 11, 10)        330       \n",
            "_________________________________________________________________\n",
            "conv2d_5 (Conv2D)            (None, 9, 9, 8)           728       \n",
            "_________________________________________________________________\n",
            "conv2d_6 (Conv2D)            (None, 7, 7, 16)          1168      \n",
            "_________________________________________________________________\n",
            "dropout_2 (Dropout)          (None, 7, 7, 16)          0         \n",
            "_________________________________________________________________\n",
            "conv2d_7 (Conv2D)            (None, 7, 7, 10)          170       \n",
            "_________________________________________________________________\n",
            "conv2d_8 (Conv2D)            (None, 1, 1, 10)          4910      \n",
            "_________________________________________________________________\n",
            "flatten_1 (Flatten)          (None, 10)                0         \n",
            "_________________________________________________________________\n",
            "activation_1 (Activation)    (None, 10)                0         \n",
            "=================================================================\n",
            "Total params: 13,194\n",
            "Trainable params: 13,194\n",
            "Non-trainable params: 0\n",
            "_________________________________________________________________\n"
          ],
          "name": "stdout"
        }
      ]
    },
    {
      "cell_type": "markdown",
      "metadata": {
        "id": "WMsGaFfk5b2k",
        "colab_type": "text"
      },
      "source": [
        "#### Compile the model"
      ]
    },
    {
      "cell_type": "code",
      "metadata": {
        "id": "Zp6SuGrL9M3h",
        "colab_type": "code",
        "colab": {}
      },
      "source": [
        "model.compile(loss='categorical_crossentropy',\n",
        "             optimizer='adam',\n",
        "             metrics=['accuracy'])"
      ],
      "execution_count": 0,
      "outputs": []
    },
    {
      "cell_type": "markdown",
      "metadata": {
        "id": "8Q8nXf1p5ebg",
        "colab_type": "text"
      },
      "source": [
        "#### Train the model"
      ]
    },
    {
      "cell_type": "code",
      "metadata": {
        "id": "4xWoKhPY9Of5",
        "colab_type": "code",
        "outputId": "fd080015-c25d-4743-a294-904c6471e298",
        "colab": {
          "base_uri": "https://localhost:8080/",
          "height": 3074
        }
      },
      "source": [
        "from keras.callbacks import ModelCheckpoint\n",
        "from keras.callbacks import EarlyStopping\n",
        "checkpointer = ModelCheckpoint(filepath='assignment4_model_2.h5', verbose = 1, save_best_only=True, monitor='val_acc', mode='max')\n",
        "\n",
        "model.fit(X_train, Y_train, batch_size=64, nb_epoch=40, verbose=1, validation_data=(X_test, Y_test), callbacks=[checkpointer])"
      ],
      "execution_count": 13,
      "outputs": [
        {
          "output_type": "stream",
          "text": [
            "WARNING:tensorflow:From /usr/local/lib/python3.6/dist-packages/tensorflow/python/ops/math_ops.py:3066: to_int32 (from tensorflow.python.ops.math_ops) is deprecated and will be removed in a future version.\n",
            "Instructions for updating:\n",
            "Use tf.cast instead.\n"
          ],
          "name": "stdout"
        },
        {
          "output_type": "stream",
          "text": [
            "/usr/local/lib/python3.6/dist-packages/ipykernel_launcher.py:5: UserWarning: The `nb_epoch` argument in `fit` has been renamed `epochs`.\n",
            "  \"\"\"\n"
          ],
          "name": "stderr"
        },
        {
          "output_type": "stream",
          "text": [
            "Train on 60000 samples, validate on 10000 samples\n",
            "Epoch 1/40\n",
            "60000/60000 [==============================] - 9s 152us/step - loss: 0.3676 - acc: 0.8810 - val_loss: 0.0854 - val_acc: 0.9767\n",
            "\n",
            "Epoch 00001: val_acc improved from -inf to 0.97670, saving model to assignment4_model_2.h5\n",
            "Epoch 2/40\n",
            "60000/60000 [==============================] - 7s 115us/step - loss: 0.1160 - acc: 0.9650 - val_loss: 0.0757 - val_acc: 0.9796\n",
            "\n",
            "Epoch 00002: val_acc improved from 0.97670 to 0.97960, saving model to assignment4_model_2.h5\n",
            "Epoch 3/40\n",
            "60000/60000 [==============================] - 7s 113us/step - loss: 0.0895 - acc: 0.9732 - val_loss: 0.0516 - val_acc: 0.9851\n",
            "\n",
            "Epoch 00003: val_acc improved from 0.97960 to 0.98510, saving model to assignment4_model_2.h5\n",
            "Epoch 4/40\n",
            "60000/60000 [==============================] - 6s 106us/step - loss: 0.0759 - acc: 0.9767 - val_loss: 0.0489 - val_acc: 0.9871\n",
            "\n",
            "Epoch 00004: val_acc improved from 0.98510 to 0.98710, saving model to assignment4_model_2.h5\n",
            "Epoch 5/40\n",
            "60000/60000 [==============================] - 6s 104us/step - loss: 0.0690 - acc: 0.9788 - val_loss: 0.0420 - val_acc: 0.9875\n",
            "\n",
            "Epoch 00005: val_acc improved from 0.98710 to 0.98750, saving model to assignment4_model_2.h5\n",
            "Epoch 6/40\n",
            "60000/60000 [==============================] - 6s 104us/step - loss: 0.0622 - acc: 0.9809 - val_loss: 0.0433 - val_acc: 0.9874\n",
            "\n",
            "Epoch 00006: val_acc did not improve from 0.98750\n",
            "Epoch 7/40\n",
            "60000/60000 [==============================] - 6s 105us/step - loss: 0.0595 - acc: 0.9822 - val_loss: 0.0466 - val_acc: 0.9871\n",
            "\n",
            "Epoch 00007: val_acc did not improve from 0.98750\n",
            "Epoch 8/40\n",
            "60000/60000 [==============================] - 6s 105us/step - loss: 0.0562 - acc: 0.9824 - val_loss: 0.0393 - val_acc: 0.9879\n",
            "\n",
            "Epoch 00008: val_acc improved from 0.98750 to 0.98790, saving model to assignment4_model_2.h5\n",
            "Epoch 9/40\n",
            "60000/60000 [==============================] - 6s 105us/step - loss: 0.0526 - acc: 0.9840 - val_loss: 0.0349 - val_acc: 0.9887\n",
            "\n",
            "Epoch 00009: val_acc improved from 0.98790 to 0.98870, saving model to assignment4_model_2.h5\n",
            "Epoch 10/40\n",
            "60000/60000 [==============================] - 6s 104us/step - loss: 0.0497 - acc: 0.9845 - val_loss: 0.0345 - val_acc: 0.9904\n",
            "\n",
            "Epoch 00010: val_acc improved from 0.98870 to 0.99040, saving model to assignment4_model_2.h5\n",
            "Epoch 11/40\n",
            "60000/60000 [==============================] - 6s 104us/step - loss: 0.0496 - acc: 0.9844 - val_loss: 0.0356 - val_acc: 0.9898\n",
            "\n",
            "Epoch 00011: val_acc did not improve from 0.99040\n",
            "Epoch 12/40\n",
            "60000/60000 [==============================] - 6s 104us/step - loss: 0.0464 - acc: 0.9856 - val_loss: 0.0404 - val_acc: 0.9879\n",
            "\n",
            "Epoch 00012: val_acc did not improve from 0.99040\n",
            "Epoch 13/40\n",
            "60000/60000 [==============================] - 6s 105us/step - loss: 0.0443 - acc: 0.9860 - val_loss: 0.0334 - val_acc: 0.9899\n",
            "\n",
            "Epoch 00013: val_acc did not improve from 0.99040\n",
            "Epoch 14/40\n",
            "60000/60000 [==============================] - 7s 116us/step - loss: 0.0432 - acc: 0.9863 - val_loss: 0.0351 - val_acc: 0.9893\n",
            "\n",
            "Epoch 00014: val_acc did not improve from 0.99040\n",
            "Epoch 15/40\n",
            "60000/60000 [==============================] - 7s 109us/step - loss: 0.0424 - acc: 0.9865 - val_loss: 0.0313 - val_acc: 0.9906\n",
            "\n",
            "Epoch 00015: val_acc improved from 0.99040 to 0.99060, saving model to assignment4_model_2.h5\n",
            "Epoch 16/40\n",
            "60000/60000 [==============================] - 6s 105us/step - loss: 0.0418 - acc: 0.9865 - val_loss: 0.0356 - val_acc: 0.9890\n",
            "\n",
            "Epoch 00016: val_acc did not improve from 0.99060\n",
            "Epoch 17/40\n",
            "60000/60000 [==============================] - 6s 104us/step - loss: 0.0389 - acc: 0.9874 - val_loss: 0.0289 - val_acc: 0.9912\n",
            "\n",
            "Epoch 00017: val_acc improved from 0.99060 to 0.99120, saving model to assignment4_model_2.h5\n",
            "Epoch 18/40\n",
            "60000/60000 [==============================] - 6s 105us/step - loss: 0.0374 - acc: 0.9883 - val_loss: 0.0289 - val_acc: 0.9899\n",
            "\n",
            "Epoch 00018: val_acc did not improve from 0.99120\n",
            "Epoch 19/40\n",
            "60000/60000 [==============================] - 6s 105us/step - loss: 0.0358 - acc: 0.9882 - val_loss: 0.0286 - val_acc: 0.9911\n",
            "\n",
            "Epoch 00019: val_acc did not improve from 0.99120\n",
            "Epoch 20/40\n",
            "60000/60000 [==============================] - 6s 104us/step - loss: 0.0363 - acc: 0.9888 - val_loss: 0.0310 - val_acc: 0.9894\n",
            "\n",
            "Epoch 00020: val_acc did not improve from 0.99120\n",
            "Epoch 21/40\n",
            "60000/60000 [==============================] - 6s 103us/step - loss: 0.0348 - acc: 0.9889 - val_loss: 0.0293 - val_acc: 0.9907\n",
            "\n",
            "Epoch 00021: val_acc did not improve from 0.99120\n",
            "Epoch 22/40\n",
            "60000/60000 [==============================] - 6s 103us/step - loss: 0.0335 - acc: 0.9894 - val_loss: 0.0285 - val_acc: 0.9904\n",
            "\n",
            "Epoch 00022: val_acc did not improve from 0.99120\n",
            "Epoch 23/40\n",
            "60000/60000 [==============================] - 6s 103us/step - loss: 0.0348 - acc: 0.9889 - val_loss: 0.0300 - val_acc: 0.9902\n",
            "\n",
            "Epoch 00023: val_acc did not improve from 0.99120\n",
            "Epoch 24/40\n",
            "60000/60000 [==============================] - 6s 103us/step - loss: 0.0335 - acc: 0.9900 - val_loss: 0.0267 - val_acc: 0.9908\n",
            "\n",
            "Epoch 00024: val_acc did not improve from 0.99120\n",
            "Epoch 25/40\n",
            "60000/60000 [==============================] - 6s 102us/step - loss: 0.0321 - acc: 0.9897 - val_loss: 0.0252 - val_acc: 0.9917\n",
            "\n",
            "Epoch 00025: val_acc improved from 0.99120 to 0.99170, saving model to assignment4_model_2.h5\n",
            "Epoch 26/40\n",
            "60000/60000 [==============================] - 6s 106us/step - loss: 0.0343 - acc: 0.9891 - val_loss: 0.0257 - val_acc: 0.9917\n",
            "\n",
            "Epoch 00026: val_acc did not improve from 0.99170\n",
            "Epoch 27/40\n",
            "60000/60000 [==============================] - 7s 114us/step - loss: 0.0316 - acc: 0.9896 - val_loss: 0.0263 - val_acc: 0.9923\n",
            "\n",
            "Epoch 00027: val_acc improved from 0.99170 to 0.99230, saving model to assignment4_model_2.h5\n",
            "Epoch 28/40\n",
            "60000/60000 [==============================] - 6s 105us/step - loss: 0.0309 - acc: 0.9902 - val_loss: 0.0269 - val_acc: 0.9921\n",
            "\n",
            "Epoch 00028: val_acc did not improve from 0.99230\n",
            "Epoch 29/40\n",
            "60000/60000 [==============================] - 6s 103us/step - loss: 0.0302 - acc: 0.9903 - val_loss: 0.0278 - val_acc: 0.9912\n",
            "\n",
            "Epoch 00029: val_acc did not improve from 0.99230\n",
            "Epoch 30/40\n",
            "60000/60000 [==============================] - 6s 102us/step - loss: 0.0300 - acc: 0.9904 - val_loss: 0.0259 - val_acc: 0.9923\n",
            "\n",
            "Epoch 00030: val_acc did not improve from 0.99230\n",
            "Epoch 31/40\n",
            "60000/60000 [==============================] - 6s 103us/step - loss: 0.0300 - acc: 0.9905 - val_loss: 0.0274 - val_acc: 0.9919\n",
            "\n",
            "Epoch 00031: val_acc did not improve from 0.99230\n",
            "Epoch 32/40\n",
            "60000/60000 [==============================] - 6s 102us/step - loss: 0.0309 - acc: 0.9899 - val_loss: 0.0267 - val_acc: 0.9915\n",
            "\n",
            "Epoch 00032: val_acc did not improve from 0.99230\n",
            "Epoch 33/40\n",
            "60000/60000 [==============================] - 6s 103us/step - loss: 0.0287 - acc: 0.9909 - val_loss: 0.0271 - val_acc: 0.9905\n",
            "\n",
            "Epoch 00033: val_acc did not improve from 0.99230\n",
            "Epoch 34/40\n",
            "60000/60000 [==============================] - 6s 103us/step - loss: 0.0272 - acc: 0.9912 - val_loss: 0.0275 - val_acc: 0.9921\n",
            "\n",
            "Epoch 00034: val_acc did not improve from 0.99230\n",
            "Epoch 35/40\n",
            "60000/60000 [==============================] - 6s 103us/step - loss: 0.0280 - acc: 0.9916 - val_loss: 0.0260 - val_acc: 0.9926\n",
            "\n",
            "Epoch 00035: val_acc improved from 0.99230 to 0.99260, saving model to assignment4_model_2.h5\n",
            "Epoch 36/40\n",
            "60000/60000 [==============================] - 6s 102us/step - loss: 0.0276 - acc: 0.9913 - val_loss: 0.0258 - val_acc: 0.9923\n",
            "\n",
            "Epoch 00036: val_acc did not improve from 0.99260\n",
            "Epoch 37/40\n",
            "60000/60000 [==============================] - 6s 103us/step - loss: 0.0285 - acc: 0.9908 - val_loss: 0.0282 - val_acc: 0.9910\n",
            "\n",
            "Epoch 00037: val_acc did not improve from 0.99260\n",
            "Epoch 38/40\n",
            "60000/60000 [==============================] - 6s 103us/step - loss: 0.0265 - acc: 0.9913 - val_loss: 0.0290 - val_acc: 0.9920\n",
            "\n",
            "Epoch 00038: val_acc did not improve from 0.99260\n",
            "Epoch 39/40\n",
            "60000/60000 [==============================] - 6s 107us/step - loss: 0.0273 - acc: 0.9909 - val_loss: 0.0297 - val_acc: 0.9915\n",
            "\n",
            "Epoch 00039: val_acc did not improve from 0.99260\n",
            "Epoch 40/40\n",
            "60000/60000 [==============================] - 7s 114us/step - loss: 0.0265 - acc: 0.9913 - val_loss: 0.0309 - val_acc: 0.9910\n",
            "\n",
            "Epoch 00040: val_acc did not improve from 0.99260\n"
          ],
          "name": "stdout"
        },
        {
          "output_type": "execute_result",
          "data": {
            "text/plain": [
              "<keras.callbacks.History at 0x7fefe34d1940>"
            ]
          },
          "metadata": {
            "tags": []
          },
          "execution_count": 13
        }
      ]
    },
    {
      "cell_type": "code",
      "metadata": {
        "id": "XSRQoCfxsCmM",
        "colab_type": "code",
        "colab": {}
      },
      "source": [
        "# Load the weights with the best validation accuracy:\n",
        "model.load_weights('assignment4_model_2.h5')"
      ],
      "execution_count": 0,
      "outputs": []
    },
    {
      "cell_type": "markdown",
      "metadata": {
        "id": "fUwpUWX-58np",
        "colab_type": "text"
      },
      "source": [
        "#### Validate the model accuracy with test data"
      ]
    },
    {
      "cell_type": "code",
      "metadata": {
        "id": "AtsH-lLk-eLb",
        "colab_type": "code",
        "colab": {}
      },
      "source": [
        "score = model.evaluate(X_test, Y_test, verbose=0)"
      ],
      "execution_count": 0,
      "outputs": []
    },
    {
      "cell_type": "markdown",
      "metadata": {
        "id": "C1h3_wrc6B2Z",
        "colab_type": "text"
      },
      "source": [
        "#### Printing the validation accuracy"
      ]
    },
    {
      "cell_type": "code",
      "metadata": {
        "id": "mkX8JMv79q9r",
        "colab_type": "code",
        "outputId": "3156a10d-3f0e-405e-8321-850bf05dbac2",
        "colab": {
          "base_uri": "https://localhost:8080/",
          "height": 35
        }
      },
      "source": [
        "print(score)"
      ],
      "execution_count": 21,
      "outputs": [
        {
          "output_type": "stream",
          "text": [
            "[0.0259915336036589, 0.9926]\n"
          ],
          "name": "stdout"
        }
      ]
    },
    {
      "cell_type": "markdown",
      "metadata": {
        "id": "ZPhMKKzkg8M8",
        "colab_type": "text"
      },
      "source": [
        "## So, in this model the model accuracy increased to 0.9926 from 0.9881(model accuracy of first model)."
      ]
    },
    {
      "cell_type": "markdown",
      "metadata": {
        "id": "zyNnd3nCATRX",
        "colab_type": "text"
      },
      "source": [
        "### Predicting the test data outout using the model"
      ]
    },
    {
      "cell_type": "code",
      "metadata": {
        "id": "OCWoJkwE9suh",
        "colab_type": "code",
        "colab": {}
      },
      "source": [
        "y_pred = model.predict(X_test)"
      ],
      "execution_count": 0,
      "outputs": []
    },
    {
      "cell_type": "markdown",
      "metadata": {
        "id": "ZrON4pDsTk2X",
        "colab_type": "text"
      },
      "source": [
        "### Printing last 10 predicted(probability like) vs actual output "
      ]
    },
    {
      "cell_type": "code",
      "metadata": {
        "id": "Ym7iCFBm9uBs",
        "colab_type": "code",
        "outputId": "0c9e73a2-cbf7-4c03-a31c-6b21e1796046",
        "colab": {
          "base_uri": "https://localhost:8080/",
          "height": 526
        }
      },
      "source": [
        "print(y_pred[:9])\n",
        "print(y_test[:9])"
      ],
      "execution_count": 23,
      "outputs": [
        {
          "output_type": "stream",
          "text": [
            "[[1.28491884e-08 4.56664878e-07 2.91456672e-05 5.40909150e-06\n",
            "  1.69350766e-11 3.80382437e-09 2.41668608e-17 9.99963403e-01\n",
            "  6.92635338e-10 1.59278807e-06]\n",
            " [9.90365079e-05 8.95035464e-06 9.99881864e-01 2.79441159e-09\n",
            "  2.81915380e-10 1.79798287e-09 1.01447022e-05 4.00110362e-11\n",
            "  6.93324731e-09 9.60215796e-11]\n",
            " [4.55167168e-07 9.99973297e-01 5.81489394e-06 2.38122709e-07\n",
            "  1.83441307e-06 1.17487825e-05 9.97189431e-07 5.45024932e-06\n",
            "  6.90985615e-08 1.69412768e-08]\n",
            " [9.99390364e-01 1.12091258e-09 1.25331644e-06 1.68044252e-07\n",
            "  5.84011389e-07 2.23382976e-05 3.07337235e-04 4.17120027e-08\n",
            "  8.55668695e-05 1.92429856e-04]\n",
            " [3.53511069e-08 3.24297766e-09 8.75859107e-10 2.28377582e-12\n",
            "  9.99994278e-01 5.51156853e-09 1.10876726e-07 8.20469737e-09\n",
            "  5.77494575e-07 4.99388489e-06]\n",
            " [3.05320867e-07 9.99984741e-01 5.32394824e-06 4.02343225e-08\n",
            "  7.90721799e-07 3.27432326e-06 6.39548944e-07 4.82568885e-06\n",
            "  9.63967484e-09 2.71171352e-09]\n",
            " [4.11565573e-11 1.03335594e-07 3.47372753e-09 4.95139728e-11\n",
            "  9.99963045e-01 1.28269932e-07 3.63105553e-11 2.90259504e-06\n",
            "  2.20835173e-05 1.17849868e-05]\n",
            " [2.00650803e-07 1.29932957e-07 2.15269964e-07 1.58618448e-07\n",
            "  1.46749860e-03 1.32688945e-06 1.28633071e-09 3.61327494e-07\n",
            "  3.59362002e-06 9.98526454e-01]\n",
            " [7.00690271e-06 2.73416188e-14 4.98298736e-10 1.23541777e-09\n",
            "  2.33718479e-11 9.97642815e-01 2.14535580e-03 1.93554880e-10\n",
            "  2.04503376e-04 2.61867655e-07]]\n",
            "[7 2 1 0 4 1 4 9 5]\n"
          ],
          "name": "stdout"
        }
      ]
    },
    {
      "cell_type": "code",
      "metadata": {
        "id": "xumlusPAdUJV",
        "colab_type": "code",
        "colab": {}
      },
      "source": [
        ""
      ],
      "execution_count": 0,
      "outputs": []
    }
  ]
}