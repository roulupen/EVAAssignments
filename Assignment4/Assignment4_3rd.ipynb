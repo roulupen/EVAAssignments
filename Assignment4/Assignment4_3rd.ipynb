{
  "nbformat": 4,
  "nbformat_minor": 0,
  "metadata": {
    "colab": {
      "name": "Assignment4_3rd.ipynb",
      "version": "0.3.2",
      "provenance": [],
      "collapsed_sections": [],
      "include_colab_link": true
    },
    "kernelspec": {
      "name": "python3",
      "display_name": "Python 3"
    },
    "accelerator": "GPU"
  },
  "cells": [
    {
      "cell_type": "markdown",
      "metadata": {
        "id": "view-in-github",
        "colab_type": "text"
      },
      "source": [
        "<a href=\"https://colab.research.google.com/github/roulupen/EVAAssignments/blob/master/Assignment4/Assignment4_3rd.ipynb\" target=\"_parent\"><img src=\"https://colab.research.google.com/assets/colab-badge.svg\" alt=\"Open In Colab\"/></a>"
      ]
    },
    {
      "cell_type": "markdown",
      "metadata": {
        "id": "aNyZv-Ec52ot",
        "colab_type": "text"
      },
      "source": [
        "#### On this model, on top of basic model I'm changing following things\n",
        "\n",
        "\n",
        "1.   Adding droput at different layers\n",
        "2.   Increasing number of epoch to 40\n",
        "3. Batch normalization\n"
      ]
    },
    {
      "cell_type": "markdown",
      "metadata": {
        "id": "wvfzFdb32GnD",
        "colab_type": "text"
      },
      "source": [
        "### Importing Keras library "
      ]
    },
    {
      "cell_type": "code",
      "metadata": {
        "id": "3m3w1Cw49Zkt",
        "colab_type": "code",
        "colab": {
          "base_uri": "https://localhost:8080/",
          "height": 35
        },
        "outputId": "f2f84f1f-faa6-4402-fcd6-dfe451691ba9"
      },
      "source": [
        "# https://keras.io/\n",
        "!pip install -q keras\n",
        "import keras"
      ],
      "execution_count": 1,
      "outputs": [
        {
          "output_type": "stream",
          "text": [
            "Using TensorFlow backend.\n"
          ],
          "name": "stderr"
        }
      ]
    },
    {
      "cell_type": "markdown",
      "metadata": {
        "id": "Kw-wYyXu2L7x",
        "colab_type": "text"
      },
      "source": [
        "### Importing other required library"
      ]
    },
    {
      "cell_type": "code",
      "metadata": {
        "id": "Eso6UHE080D4",
        "colab_type": "code",
        "colab": {}
      },
      "source": [
        "import numpy as np\n",
        "\n",
        "from keras.models import Sequential\n",
        "from keras.layers import Dense, Dropout, Activation, Flatten, Add\n",
        "from keras.layers import Convolution2D, MaxPooling2D\n",
        "from keras.utils import np_utils\n",
        "\n",
        "from keras.datasets import mnist"
      ],
      "execution_count": 0,
      "outputs": []
    },
    {
      "cell_type": "markdown",
      "metadata": {
        "id": "zByEi95J86RD",
        "colab_type": "text"
      },
      "source": [
        "### Load pre-shuffled MNIST data into train and test sets"
      ]
    },
    {
      "cell_type": "code",
      "metadata": {
        "id": "7eRM0QWN83PV",
        "colab_type": "code",
        "colab": {}
      },
      "source": [
        "(X_train, y_train), (X_test, y_test) = mnist.load_data()"
      ],
      "execution_count": 0,
      "outputs": []
    },
    {
      "cell_type": "markdown",
      "metadata": {
        "id": "y0oHzLz62TU3",
        "colab_type": "text"
      },
      "source": [
        "### Displaying the first image from the dataset"
      ]
    },
    {
      "cell_type": "code",
      "metadata": {
        "id": "4a4Be72j8-ZC",
        "colab_type": "code",
        "outputId": "b8eee76c-e931-45d8-b472-f6f2842eabfe",
        "colab": {
          "base_uri": "https://localhost:8080/",
          "height": 305
        }
      },
      "source": [
        "print (X_train.shape)\n",
        "from matplotlib import pyplot as plt\n",
        "%matplotlib inline\n",
        "plt.imshow(X_train[0])"
      ],
      "execution_count": 4,
      "outputs": [
        {
          "output_type": "stream",
          "text": [
            "(60000, 28, 28)\n"
          ],
          "name": "stdout"
        },
        {
          "output_type": "execute_result",
          "data": {
            "text/plain": [
              "<matplotlib.image.AxesImage at 0x7f6d32b64b38>"
            ]
          },
          "metadata": {
            "tags": []
          },
          "execution_count": 4
        },
        {
          "output_type": "display_data",
          "data": {
            "image/png": "[encoded data removed]",
            "text/plain": [
              "<Figure size 432x288 with 1 Axes>"
            ]
          },
          "metadata": {
            "tags": []
          }
        }
      ]
    },
    {
      "cell_type": "markdown",
      "metadata": {
        "id": "rEQOSeLQ2ZB4",
        "colab_type": "text"
      },
      "source": [
        "### Reshaping the train test dataset by defining number of channel for the input image"
      ]
    },
    {
      "cell_type": "code",
      "metadata": {
        "id": "dkmprriw9AnZ",
        "colab_type": "code",
        "colab": {}
      },
      "source": [
        "X_train = X_train.reshape(X_train.shape[0], 28, 28,1)\n",
        "X_test = X_test.reshape(X_test.shape[0], 28, 28,1)"
      ],
      "execution_count": 0,
      "outputs": []
    },
    {
      "cell_type": "markdown",
      "metadata": {
        "id": "26A9uXhy2qXQ",
        "colab_type": "text"
      },
      "source": [
        "### Normalizing the train and test data set by dividing 255, as 255 is the maximum value for a channel in an image and minimum is 0"
      ]
    },
    {
      "cell_type": "code",
      "metadata": {
        "id": "X2m4YS4E9CRh",
        "colab_type": "code",
        "colab": {}
      },
      "source": [
        "X_train = X_train.astype('float32')\n",
        "X_test = X_test.astype('float32')\n",
        "X_train /= 255\n",
        "X_test /= 255"
      ],
      "execution_count": 0,
      "outputs": []
    },
    {
      "cell_type": "markdown",
      "metadata": {
        "id": "5xMgTu7F2-Jd",
        "colab_type": "text"
      },
      "source": [
        "### displaying last 10 values from the output of train dataset"
      ]
    },
    {
      "cell_type": "code",
      "metadata": {
        "id": "0Mn0vAYD9DvB",
        "colab_type": "code",
        "outputId": "1cad896b-799c-434d-8a03-3171d5e1dd1b",
        "colab": {
          "base_uri": "https://localhost:8080/",
          "height": 35
        }
      },
      "source": [
        "y_train[:10]"
      ],
      "execution_count": 7,
      "outputs": [
        {
          "output_type": "execute_result",
          "data": {
            "text/plain": [
              "array([5, 0, 4, 1, 9, 2, 1, 3, 1, 4], dtype=uint8)"
            ]
          },
          "metadata": {
            "tags": []
          },
          "execution_count": 7
        }
      ]
    },
    {
      "cell_type": "markdown",
      "metadata": {
        "id": "vW3yxhEi3HqU",
        "colab_type": "text"
      },
      "source": [
        "### As this is a classification problem with 10 labels(0-9 numbers), so here we are converting the labels into hot encoding to use in the model prediction"
      ]
    },
    {
      "cell_type": "code",
      "metadata": {
        "id": "ZG8JiXR39FHC",
        "colab_type": "code",
        "colab": {}
      },
      "source": [
        "# Convert 1-dimensional class arrays to 10-dimensional class matrices\n",
        "Y_train = np_utils.to_categorical(y_train, 10)\n",
        "Y_test = np_utils.to_categorical(y_test, 10)"
      ],
      "execution_count": 0,
      "outputs": []
    },
    {
      "cell_type": "markdown",
      "metadata": {
        "id": "VM38R1MB3bUL",
        "colab_type": "text"
      },
      "source": [
        "### Displying the last 10 values from the output of train dataset after hot encoding"
      ]
    },
    {
      "cell_type": "code",
      "metadata": {
        "id": "fYlFRvKS9HMB",
        "colab_type": "code",
        "outputId": "e38227de-d4d6-4a25-b6b0-e5c34a78767d",
        "colab": {
          "base_uri": "https://localhost:8080/",
          "height": 199
        }
      },
      "source": [
        "Y_train[:10]\n"
      ],
      "execution_count": 9,
      "outputs": [
        {
          "output_type": "execute_result",
          "data": {
            "text/plain": [
              "array([[0., 0., 0., 0., 0., 1., 0., 0., 0., 0.],\n",
              "       [1., 0., 0., 0., 0., 0., 0., 0., 0., 0.],\n",
              "       [0., 0., 0., 0., 1., 0., 0., 0., 0., 0.],\n",
              "       [0., 1., 0., 0., 0., 0., 0., 0., 0., 0.],\n",
              "       [0., 0., 0., 0., 0., 0., 0., 0., 0., 1.],\n",
              "       [0., 0., 1., 0., 0., 0., 0., 0., 0., 0.],\n",
              "       [0., 1., 0., 0., 0., 0., 0., 0., 0., 0.],\n",
              "       [0., 0., 0., 1., 0., 0., 0., 0., 0., 0.],\n",
              "       [0., 1., 0., 0., 0., 0., 0., 0., 0., 0.],\n",
              "       [0., 0., 0., 0., 1., 0., 0., 0., 0., 0.]], dtype=float32)"
            ]
          },
          "metadata": {
            "tags": []
          },
          "execution_count": 9
        }
      ]
    },
    {
      "cell_type": "markdown",
      "metadata": {
        "id": "YABHz97y3ixZ",
        "colab_type": "text"
      },
      "source": [
        "## 1st Model\n",
        "## Less than 15k paramter and target validation accuracy > 99.4%\n",
        "\n",
        "### Model defination\n",
        "#### This is a very simple model, along with convultion layer I have added \n",
        "1. 1x1 convolution and Maxpooling\n",
        "2. Added dropout\n",
        "3. Increased number of epochs during model training \n",
        "4. Added batch normalization"
      ]
    },
    {
      "cell_type": "code",
      "metadata": {
        "id": "osKqT73Q9JJB",
        "colab_type": "code",
        "outputId": "bbed8470-6cf9-4cde-cd86-d82e72c1467c",
        "colab": {
          "base_uri": "https://localhost:8080/",
          "height": 1037
        }
      },
      "source": [
        "from keras.layers import Activation, MaxPooling2D, Dropout, BatchNormalization\n",
        "model = Sequential()\n",
        "\n",
        "model.add(Convolution2D(8, 3, 3, activation='relu', input_shape=(28,28,1))) # 26x26x10\n",
        "model.add(BatchNormalization())\n",
        "\n",
        "model.add(Convolution2D(16, 3, 3, activation='relu')) # 26x26x10 -> (3x3x10) x 20 -> 24x24x20\n",
        "model.add(BatchNormalization())\n",
        "model.add(Convolution2D(32, 3, 3, activation='relu')) # 26x26x20 -> (3x3x20) x 30 -> 22x22x30\n",
        "model.add(BatchNormalization())\n",
        "\n",
        "model.add(Dropout(0.25))\n",
        "model.add(MaxPooling2D(pool_size=(2, 2))) # 11x11x30\n",
        "model.add(Convolution2D(10, 1, activation='relu')) # 11x11x30 -> (1x1x32) x10 -> 11 x 11 x 10\n",
        "model.add(BatchNormalization())\n",
        "\n",
        "model.add(Convolution2D(10, 3, 3, activation='relu')) # 11x11x10 => (3x3x10) x 16 => 9x9x16\n",
        "model.add(BatchNormalization())\n",
        "model.add(Convolution2D(20, 3, 3, activation='relu')) # 9x9x32 => (3x3x16) x 32 => 7x7x32\n",
        "model.add(BatchNormalization())\n",
        "\n",
        "model.add(Dropout(0.25))\n",
        "model.add(Convolution2D(10, 1, activation='relu')) # 7x7x32 => (1x1x32) x 10 => 7x7x10\n",
        "model.add(BatchNormalization())\n",
        "\n",
        "model.add(Convolution2D(10, 7)) # 7x7x10 => (7x7x10) => 1x1x10\n",
        "model.add(Flatten())\n",
        "model.add(Activation('softmax'))\n",
        "model.summary()"
      ],
      "execution_count": 31,
      "outputs": [
        {
          "output_type": "stream",
          "text": [
            "/usr/local/lib/python3.6/dist-packages/ipykernel_launcher.py:4: UserWarning: Update your `Conv2D` call to the Keras 2 API: `Conv2D(8, (3, 3), activation=\"relu\", input_shape=(28, 28, 1...)`\n",
            "  after removing the cwd from sys.path.\n",
            "/usr/local/lib/python3.6/dist-packages/ipykernel_launcher.py:7: UserWarning: Update your `Conv2D` call to the Keras 2 API: `Conv2D(16, (3, 3), activation=\"relu\")`\n",
            "  import sys\n",
            "/usr/local/lib/python3.6/dist-packages/ipykernel_launcher.py:9: UserWarning: Update your `Conv2D` call to the Keras 2 API: `Conv2D(32, (3, 3), activation=\"relu\")`\n",
            "  if __name__ == '__main__':\n",
            "/usr/local/lib/python3.6/dist-packages/ipykernel_launcher.py:17: UserWarning: Update your `Conv2D` call to the Keras 2 API: `Conv2D(10, (3, 3), activation=\"relu\")`\n",
            "/usr/local/lib/python3.6/dist-packages/ipykernel_launcher.py:19: UserWarning: Update your `Conv2D` call to the Keras 2 API: `Conv2D(20, (3, 3), activation=\"relu\")`\n"
          ],
          "name": "stderr"
        },
        {
          "output_type": "stream",
          "text": [
            "_________________________________________________________________\n",
            "Layer (type)                 Output Shape              Param #   \n",
            "=================================================================\n",
            "conv2d_34 (Conv2D)           (None, 26, 26, 8)         80        \n",
            "_________________________________________________________________\n",
            "batch_normalization_29 (Batc (None, 26, 26, 8)         32        \n",
            "_________________________________________________________________\n",
            "conv2d_35 (Conv2D)           (None, 24, 24, 16)        1168      \n",
            "_________________________________________________________________\n",
            "batch_normalization_30 (Batc (None, 24, 24, 16)        64        \n",
            "_________________________________________________________________\n",
            "conv2d_36 (Conv2D)           (None, 22, 22, 32)        4640      \n",
            "_________________________________________________________________\n",
            "batch_normalization_31 (Batc (None, 22, 22, 32)        128       \n",
            "_________________________________________________________________\n",
            "dropout_8 (Dropout)          (None, 22, 22, 32)        0         \n",
            "_________________________________________________________________\n",
            "max_pooling2d_5 (MaxPooling2 (None, 11, 11, 32)        0         \n",
            "_________________________________________________________________\n",
            "conv2d_37 (Conv2D)           (None, 11, 11, 10)        330       \n",
            "_________________________________________________________________\n",
            "batch_normalization_32 (Batc (None, 11, 11, 10)        40        \n",
            "_________________________________________________________________\n",
            "conv2d_38 (Conv2D)           (None, 9, 9, 10)          910       \n",
            "_________________________________________________________________\n",
            "batch_normalization_33 (Batc (None, 9, 9, 10)          40        \n",
            "_________________________________________________________________\n",
            "conv2d_39 (Conv2D)           (None, 7, 7, 20)          1820      \n",
            "_________________________________________________________________\n",
            "batch_normalization_34 (Batc (None, 7, 7, 20)          80        \n",
            "_________________________________________________________________\n",
            "dropout_9 (Dropout)          (None, 7, 7, 20)          0         \n",
            "_________________________________________________________________\n",
            "conv2d_40 (Conv2D)           (None, 7, 7, 10)          210       \n",
            "_________________________________________________________________\n",
            "batch_normalization_35 (Batc (None, 7, 7, 10)          40        \n",
            "_________________________________________________________________\n",
            "conv2d_41 (Conv2D)           (None, 1, 1, 10)          4910      \n",
            "_________________________________________________________________\n",
            "flatten_5 (Flatten)          (None, 10)                0         \n",
            "_________________________________________________________________\n",
            "activation_5 (Activation)    (None, 10)                0         \n",
            "=================================================================\n",
            "Total params: 14,492\n",
            "Trainable params: 14,280\n",
            "Non-trainable params: 212\n",
            "_________________________________________________________________\n"
          ],
          "name": "stdout"
        }
      ]
    },
    {
      "cell_type": "markdown",
      "metadata": {
        "id": "nirL7ggC5XpT",
        "colab_type": "text"
      },
      "source": [
        "#### Displaying model summary "
      ]
    },
    {
      "cell_type": "code",
      "metadata": {
        "id": "TzdAYg1k9K7Z",
        "colab_type": "code",
        "outputId": "fec1c547-1790-4b2a-a43f-d444de582268",
        "colab": {
          "base_uri": "https://localhost:8080/",
          "height": 872
        }
      },
      "source": [
        "model.summary()"
      ],
      "execution_count": 32,
      "outputs": [
        {
          "output_type": "stream",
          "text": [
            "_________________________________________________________________\n",
            "Layer (type)                 Output Shape              Param #   \n",
            "=================================================================\n",
            "conv2d_34 (Conv2D)           (None, 26, 26, 8)         80        \n",
            "_________________________________________________________________\n",
            "batch_normalization_29 (Batc (None, 26, 26, 8)         32        \n",
            "_________________________________________________________________\n",
            "conv2d_35 (Conv2D)           (None, 24, 24, 16)        1168      \n",
            "_________________________________________________________________\n",
            "batch_normalization_30 (Batc (None, 24, 24, 16)        64        \n",
            "_________________________________________________________________\n",
            "conv2d_36 (Conv2D)           (None, 22, 22, 32)        4640      \n",
            "_________________________________________________________________\n",
            "batch_normalization_31 (Batc (None, 22, 22, 32)        128       \n",
            "_________________________________________________________________\n",
            "dropout_8 (Dropout)          (None, 22, 22, 32)        0         \n",
            "_________________________________________________________________\n",
            "max_pooling2d_5 (MaxPooling2 (None, 11, 11, 32)        0         \n",
            "_________________________________________________________________\n",
            "conv2d_37 (Conv2D)           (None, 11, 11, 10)        330       \n",
            "_________________________________________________________________\n",
            "batch_normalization_32 (Batc (None, 11, 11, 10)        40        \n",
            "_________________________________________________________________\n",
            "conv2d_38 (Conv2D)           (None, 9, 9, 10)          910       \n",
            "_________________________________________________________________\n",
            "batch_normalization_33 (Batc (None, 9, 9, 10)          40        \n",
            "_________________________________________________________________\n",
            "conv2d_39 (Conv2D)           (None, 7, 7, 20)          1820      \n",
            "_________________________________________________________________\n",
            "batch_normalization_34 (Batc (None, 7, 7, 20)          80        \n",
            "_________________________________________________________________\n",
            "dropout_9 (Dropout)          (None, 7, 7, 20)          0         \n",
            "_________________________________________________________________\n",
            "conv2d_40 (Conv2D)           (None, 7, 7, 10)          210       \n",
            "_________________________________________________________________\n",
            "batch_normalization_35 (Batc (None, 7, 7, 10)          40        \n",
            "_________________________________________________________________\n",
            "conv2d_41 (Conv2D)           (None, 1, 1, 10)          4910      \n",
            "_________________________________________________________________\n",
            "flatten_5 (Flatten)          (None, 10)                0         \n",
            "_________________________________________________________________\n",
            "activation_5 (Activation)    (None, 10)                0         \n",
            "=================================================================\n",
            "Total params: 14,492\n",
            "Trainable params: 14,280\n",
            "Non-trainable params: 212\n",
            "_________________________________________________________________\n"
          ],
          "name": "stdout"
        }
      ]
    },
    {
      "cell_type": "markdown",
      "metadata": {
        "id": "WMsGaFfk5b2k",
        "colab_type": "text"
      },
      "source": [
        "#### Compile the model"
      ]
    },
    {
      "cell_type": "code",
      "metadata": {
        "id": "Zp6SuGrL9M3h",
        "colab_type": "code",
        "colab": {}
      },
      "source": [
        "model.compile(loss='categorical_crossentropy',\n",
        "             optimizer='adam',\n",
        "             metrics=['accuracy'])"
      ],
      "execution_count": 0,
      "outputs": []
    },
    {
      "cell_type": "markdown",
      "metadata": {
        "id": "8Q8nXf1p5ebg",
        "colab_type": "text"
      },
      "source": [
        "#### Train the model"
      ]
    },
    {
      "cell_type": "code",
      "metadata": {
        "id": "4xWoKhPY9Of5",
        "colab_type": "code",
        "outputId": "177d3661-1e92-4913-b867-1af84cd93809",
        "colab": {
          "base_uri": "https://localhost:8080/",
          "height": 2999
        }
      },
      "source": [
        "from keras.callbacks import ModelCheckpoint\n",
        "from keras.callbacks import EarlyStopping\n",
        "checkpointer = ModelCheckpoint(filepath='assignment4_model_4.h5', verbose = 1, save_best_only=True, monitor='val_acc', mode='max')\n",
        "\n",
        "model.fit(X_train, Y_train, batch_size=64, nb_epoch=40, verbose=1, validation_data=(X_test, Y_test), callbacks=[checkpointer])"
      ],
      "execution_count": 34,
      "outputs": [
        {
          "output_type": "stream",
          "text": [
            "/usr/local/lib/python3.6/dist-packages/ipykernel_launcher.py:5: UserWarning: The `nb_epoch` argument in `fit` has been renamed `epochs`.\n",
            "  \"\"\"\n"
          ],
          "name": "stderr"
        },
        {
          "output_type": "stream",
          "text": [
            "Train on 60000 samples, validate on 10000 samples\n",
            "Epoch 1/40\n",
            "60000/60000 [==============================] - 13s 214us/step - loss: 0.2137 - acc: 0.9337 - val_loss: 0.0544 - val_acc: 0.9812\n",
            "\n",
            "Epoch 00001: val_acc improved from -inf to 0.98120, saving model to assignment4_model_4.h5\n",
            "Epoch 2/40\n",
            "60000/60000 [==============================] - 11s 180us/step - loss: 0.0591 - acc: 0.9821 - val_loss: 0.0469 - val_acc: 0.9847\n",
            "\n",
            "Epoch 00002: val_acc improved from 0.98120 to 0.98470, saving model to assignment4_model_4.h5\n",
            "Epoch 3/40\n",
            "60000/60000 [==============================] - 11s 180us/step - loss: 0.0478 - acc: 0.9850 - val_loss: 0.0390 - val_acc: 0.9875\n",
            "\n",
            "Epoch 00003: val_acc improved from 0.98470 to 0.98750, saving model to assignment4_model_4.h5\n",
            "Epoch 4/40\n",
            "60000/60000 [==============================] - 11s 182us/step - loss: 0.0407 - acc: 0.9872 - val_loss: 0.0353 - val_acc: 0.9887\n",
            "\n",
            "Epoch 00004: val_acc improved from 0.98750 to 0.98870, saving model to assignment4_model_4.h5\n",
            "Epoch 5/40\n",
            "60000/60000 [==============================] - 12s 197us/step - loss: 0.0375 - acc: 0.9883 - val_loss: 0.0384 - val_acc: 0.9884\n",
            "\n",
            "Epoch 00005: val_acc did not improve from 0.98870\n",
            "Epoch 6/40\n",
            "60000/60000 [==============================] - 11s 179us/step - loss: 0.0328 - acc: 0.9894 - val_loss: 0.0391 - val_acc: 0.9881\n",
            "\n",
            "Epoch 00006: val_acc did not improve from 0.98870\n",
            "Epoch 7/40\n",
            "60000/60000 [==============================] - 11s 179us/step - loss: 0.0322 - acc: 0.9896 - val_loss: 0.0311 - val_acc: 0.9909\n",
            "\n",
            "Epoch 00007: val_acc improved from 0.98870 to 0.99090, saving model to assignment4_model_4.h5\n",
            "Epoch 8/40\n",
            "60000/60000 [==============================] - 11s 179us/step - loss: 0.0300 - acc: 0.9903 - val_loss: 0.0322 - val_acc: 0.9895\n",
            "\n",
            "Epoch 00008: val_acc did not improve from 0.99090\n",
            "Epoch 9/40\n",
            "60000/60000 [==============================] - 11s 179us/step - loss: 0.0277 - acc: 0.9912 - val_loss: 0.0388 - val_acc: 0.9884\n",
            "\n",
            "Epoch 00009: val_acc did not improve from 0.99090\n",
            "Epoch 10/40\n",
            "60000/60000 [==============================] - 12s 200us/step - loss: 0.0260 - acc: 0.9910 - val_loss: 0.0297 - val_acc: 0.9912\n",
            "\n",
            "Epoch 00010: val_acc improved from 0.99090 to 0.99120, saving model to assignment4_model_4.h5\n",
            "Epoch 11/40\n",
            "60000/60000 [==============================] - 11s 186us/step - loss: 0.0244 - acc: 0.9919 - val_loss: 0.0360 - val_acc: 0.9889\n",
            "\n",
            "Epoch 00011: val_acc did not improve from 0.99120\n",
            "Epoch 12/40\n",
            "60000/60000 [==============================] - 12s 199us/step - loss: 0.0214 - acc: 0.9929 - val_loss: 0.0353 - val_acc: 0.9900\n",
            "\n",
            "Epoch 00012: val_acc did not improve from 0.99120\n",
            "Epoch 13/40\n",
            "60000/60000 [==============================] - 11s 180us/step - loss: 0.0225 - acc: 0.9926 - val_loss: 0.0287 - val_acc: 0.9917\n",
            "\n",
            "Epoch 00013: val_acc improved from 0.99120 to 0.99170, saving model to assignment4_model_4.h5\n",
            "Epoch 14/40\n",
            "60000/60000 [==============================] - 11s 179us/step - loss: 0.0212 - acc: 0.9934 - val_loss: 0.0380 - val_acc: 0.9894\n",
            "\n",
            "Epoch 00014: val_acc did not improve from 0.99170\n",
            "Epoch 15/40\n",
            "60000/60000 [==============================] - 11s 180us/step - loss: 0.0211 - acc: 0.9932 - val_loss: 0.0307 - val_acc: 0.9916\n",
            "\n",
            "Epoch 00015: val_acc did not improve from 0.99170\n",
            "Epoch 16/40\n",
            "60000/60000 [==============================] - 11s 179us/step - loss: 0.0201 - acc: 0.9929 - val_loss: 0.0340 - val_acc: 0.9896\n",
            "\n",
            "Epoch 00016: val_acc did not improve from 0.99170\n",
            "Epoch 17/40\n",
            "60000/60000 [==============================] - 11s 179us/step - loss: 0.0184 - acc: 0.9940 - val_loss: 0.0318 - val_acc: 0.9909\n",
            "\n",
            "Epoch 00017: val_acc did not improve from 0.99170\n",
            "Epoch 18/40\n",
            "60000/60000 [==============================] - 11s 180us/step - loss: 0.0189 - acc: 0.9939 - val_loss: 0.0319 - val_acc: 0.9902\n",
            "\n",
            "Epoch 00018: val_acc did not improve from 0.99170\n",
            "Epoch 19/40\n",
            "60000/60000 [==============================] - 12s 192us/step - loss: 0.0169 - acc: 0.9945 - val_loss: 0.0325 - val_acc: 0.9904\n",
            "\n",
            "Epoch 00019: val_acc did not improve from 0.99170\n",
            "Epoch 20/40\n",
            "60000/60000 [==============================] - 11s 186us/step - loss: 0.0180 - acc: 0.9941 - val_loss: 0.0332 - val_acc: 0.9895\n",
            "\n",
            "Epoch 00020: val_acc did not improve from 0.99170\n",
            "Epoch 21/40\n",
            "60000/60000 [==============================] - 11s 180us/step - loss: 0.0170 - acc: 0.9941 - val_loss: 0.0250 - val_acc: 0.9932\n",
            "\n",
            "Epoch 00021: val_acc improved from 0.99170 to 0.99320, saving model to assignment4_model_4.h5\n",
            "Epoch 22/40\n",
            "60000/60000 [==============================] - 11s 180us/step - loss: 0.0161 - acc: 0.9949 - val_loss: 0.0262 - val_acc: 0.9929\n",
            "\n",
            "Epoch 00022: val_acc did not improve from 0.99320\n",
            "Epoch 23/40\n",
            "60000/60000 [==============================] - 11s 179us/step - loss: 0.0150 - acc: 0.9949 - val_loss: 0.0335 - val_acc: 0.9909\n",
            "\n",
            "Epoch 00023: val_acc did not improve from 0.99320\n",
            "Epoch 24/40\n",
            "60000/60000 [==============================] - 11s 179us/step - loss: 0.0151 - acc: 0.9949 - val_loss: 0.0435 - val_acc: 0.9871\n",
            "\n",
            "Epoch 00024: val_acc did not improve from 0.99320\n",
            "Epoch 25/40\n",
            "60000/60000 [==============================] - 11s 179us/step - loss: 0.0145 - acc: 0.9950 - val_loss: 0.0264 - val_acc: 0.9926\n",
            "\n",
            "Epoch 00025: val_acc did not improve from 0.99320\n",
            "Epoch 26/40\n",
            "60000/60000 [==============================] - 11s 184us/step - loss: 0.0152 - acc: 0.9950 - val_loss: 0.0284 - val_acc: 0.9915\n",
            "\n",
            "Epoch 00026: val_acc did not improve from 0.99320\n",
            "Epoch 27/40\n",
            "60000/60000 [==============================] - 12s 195us/step - loss: 0.0130 - acc: 0.9956 - val_loss: 0.0288 - val_acc: 0.9921\n",
            "\n",
            "Epoch 00027: val_acc did not improve from 0.99320\n",
            "Epoch 28/40\n",
            "60000/60000 [==============================] - 11s 179us/step - loss: 0.0131 - acc: 0.9956 - val_loss: 0.0287 - val_acc: 0.9925\n",
            "\n",
            "Epoch 00028: val_acc did not improve from 0.99320\n",
            "Epoch 29/40\n",
            "60000/60000 [==============================] - 11s 179us/step - loss: 0.0138 - acc: 0.9953 - val_loss: 0.0342 - val_acc: 0.9900\n",
            "\n",
            "Epoch 00029: val_acc did not improve from 0.99320\n",
            "Epoch 30/40\n",
            "60000/60000 [==============================] - 11s 179us/step - loss: 0.0127 - acc: 0.9958 - val_loss: 0.0310 - val_acc: 0.9911\n",
            "\n",
            "Epoch 00030: val_acc did not improve from 0.99320\n",
            "Epoch 31/40\n",
            "60000/60000 [==============================] - 11s 179us/step - loss: 0.0123 - acc: 0.9959 - val_loss: 0.0323 - val_acc: 0.9911\n",
            "\n",
            "Epoch 00031: val_acc did not improve from 0.99320\n",
            "Epoch 32/40\n",
            "60000/60000 [==============================] - 11s 180us/step - loss: 0.0125 - acc: 0.9959 - val_loss: 0.0317 - val_acc: 0.9910\n",
            "\n",
            "Epoch 00032: val_acc did not improve from 0.99320\n",
            "Epoch 33/40\n",
            "60000/60000 [==============================] - 11s 179us/step - loss: 0.0139 - acc: 0.9954 - val_loss: 0.0294 - val_acc: 0.9925\n",
            "\n",
            "Epoch 00033: val_acc did not improve from 0.99320\n",
            "Epoch 34/40\n",
            "60000/60000 [==============================] - 12s 198us/step - loss: 0.0115 - acc: 0.9960 - val_loss: 0.0246 - val_acc: 0.9929\n",
            "\n",
            "Epoch 00034: val_acc did not improve from 0.99320\n",
            "Epoch 35/40\n",
            "60000/60000 [==============================] - 11s 180us/step - loss: 0.0117 - acc: 0.9962 - val_loss: 0.0314 - val_acc: 0.9914\n",
            "\n",
            "Epoch 00035: val_acc did not improve from 0.99320\n",
            "Epoch 36/40\n",
            "60000/60000 [==============================] - 11s 179us/step - loss: 0.0119 - acc: 0.9959 - val_loss: 0.0322 - val_acc: 0.9914\n",
            "\n",
            "Epoch 00036: val_acc did not improve from 0.99320\n",
            "Epoch 37/40\n",
            "60000/60000 [==============================] - 11s 179us/step - loss: 0.0118 - acc: 0.9961 - val_loss: 0.0404 - val_acc: 0.9889\n",
            "\n",
            "Epoch 00037: val_acc did not improve from 0.99320\n",
            "Epoch 38/40\n",
            "60000/60000 [==============================] - 12s 203us/step - loss: 0.0109 - acc: 0.9963 - val_loss: 0.0310 - val_acc: 0.9921\n",
            "\n",
            "Epoch 00038: val_acc did not improve from 0.99320\n",
            "Epoch 39/40\n",
            "60000/60000 [==============================] - 11s 191us/step - loss: 0.0096 - acc: 0.9968 - val_loss: 0.0356 - val_acc: 0.9899\n",
            "\n",
            "Epoch 00039: val_acc did not improve from 0.99320\n",
            "Epoch 40/40\n",
            "60000/60000 [==============================] - 11s 179us/step - loss: 0.0126 - acc: 0.9957 - val_loss: 0.0339 - val_acc: 0.9912\n",
            "\n",
            "Epoch 00040: val_acc did not improve from 0.99320\n"
          ],
          "name": "stdout"
        },
        {
          "output_type": "execute_result",
          "data": {
            "text/plain": [
              "<keras.callbacks.History at 0x7f6ce4726780>"
            ]
          },
          "metadata": {
            "tags": []
          },
          "execution_count": 34
        }
      ]
    },
    {
      "cell_type": "code",
      "metadata": {
        "id": "XSRQoCfxsCmM",
        "colab_type": "code",
        "colab": {}
      },
      "source": [
        "# Load the weights with the best validation accuracy:\n",
        "model.load_weights('assignment4_model_4.h5')"
      ],
      "execution_count": 0,
      "outputs": []
    },
    {
      "cell_type": "markdown",
      "metadata": {
        "id": "fUwpUWX-58np",
        "colab_type": "text"
      },
      "source": [
        "#### Validate the model accuracy with test data"
      ]
    },
    {
      "cell_type": "code",
      "metadata": {
        "id": "AtsH-lLk-eLb",
        "colab_type": "code",
        "colab": {}
      },
      "source": [
        "score = model.evaluate(X_test, Y_test, verbose=0)"
      ],
      "execution_count": 0,
      "outputs": []
    },
    {
      "cell_type": "markdown",
      "metadata": {
        "id": "C1h3_wrc6B2Z",
        "colab_type": "text"
      },
      "source": [
        "#### Printing the validation accuracy"
      ]
    },
    {
      "cell_type": "code",
      "metadata": {
        "id": "mkX8JMv79q9r",
        "colab_type": "code",
        "outputId": "64fe8da4-c5d9-4739-c1b4-1f2ecaf54057",
        "colab": {
          "base_uri": "https://localhost:8080/",
          "height": 35
        }
      },
      "source": [
        "print(score)"
      ],
      "execution_count": 38,
      "outputs": [
        {
          "output_type": "stream",
          "text": [
            "[0.02501562987520774, 0.9932]\n"
          ],
          "name": "stdout"
        }
      ]
    },
    {
      "cell_type": "markdown",
      "metadata": {
        "id": "zyNnd3nCATRX",
        "colab_type": "text"
      },
      "source": [
        "### Predicting the test data outout using the model"
      ]
    },
    {
      "cell_type": "code",
      "metadata": {
        "id": "OCWoJkwE9suh",
        "colab_type": "code",
        "colab": {}
      },
      "source": [
        "y_pred = model.predict(X_test)"
      ],
      "execution_count": 0,
      "outputs": []
    },
    {
      "cell_type": "markdown",
      "metadata": {
        "id": "ZrON4pDsTk2X",
        "colab_type": "text"
      },
      "source": [
        "### Printing last 10 predicted(probability like) vs actual output "
      ]
    },
    {
      "cell_type": "code",
      "metadata": {
        "id": "Ym7iCFBm9uBs",
        "colab_type": "code",
        "outputId": "6742fd3c-783e-4a5d-dc6e-a4a25d434a2a",
        "colab": {
          "base_uri": "https://localhost:8080/",
          "height": 363
        }
      },
      "source": [
        "print(y_pred[:9])\n",
        "print(y_test[:9])"
      ],
      "execution_count": 40,
      "outputs": [
        {
          "output_type": "stream",
          "text": [
            "[[2.0825658e-10 7.8186874e-10 5.6261007e-07 2.0459444e-08 4.2417533e-14\n",
            "  1.3152100e-10 5.8969957e-17 9.9999940e-01 8.2971567e-11 2.5059117e-08]\n",
            " [7.5763851e-06 6.0660577e-06 9.9998522e-01 1.0374975e-09 5.0918113e-13\n",
            "  1.8361156e-13 1.1828064e-06 1.3660979e-12 6.0285732e-09 7.6060503e-12]\n",
            " [5.8815598e-08 9.9999845e-01 1.5293384e-08 3.5230210e-09 6.3187002e-08\n",
            "  1.1998726e-07 1.0768575e-06 2.4961005e-07 4.4878565e-08 1.0855415e-08]\n",
            " [9.9999404e-01 3.7125298e-12 2.2848427e-08 8.4381840e-10 7.2643253e-10\n",
            "  2.0984591e-07 5.5124697e-06 5.9925914e-10 1.9980354e-07 9.4052282e-08]\n",
            " [1.9325213e-13 9.7825026e-11 3.0416083e-11 4.8366953e-13 9.9998617e-01\n",
            "  9.2986426e-13 2.8810015e-10 4.1110253e-12 2.0542998e-09 1.3820504e-05]\n",
            " [2.3570345e-07 9.9999750e-01 3.1134144e-07 2.9906463e-10 6.6394890e-08\n",
            "  9.8927853e-09 5.2252869e-07 9.0267986e-07 2.7222083e-07 2.9185976e-08]\n",
            " [2.8212726e-18 1.9343702e-09 4.7412274e-10 3.3001238e-12 9.9999630e-01\n",
            "  1.3945553e-10 4.1107829e-13 6.0122915e-08 3.8738335e-07 3.1383545e-06]\n",
            " [1.8581763e-14 2.8921299e-11 1.4141230e-09 2.1619728e-08 1.5835316e-05\n",
            "  7.7492910e-09 8.3430755e-15 2.9559398e-08 8.6622993e-07 9.9998331e-01]\n",
            " [4.8027426e-10 2.8263996e-13 7.3602159e-11 3.1142748e-09 1.0944144e-10\n",
            "  9.3339163e-01 6.6511057e-02 3.3464952e-15 9.7328943e-05 6.9672140e-10]]\n",
            "[7 2 1 0 4 1 4 9 5]\n"
          ],
          "name": "stdout"
        }
      ]
    },
    {
      "cell_type": "code",
      "metadata": {
        "id": "xumlusPAdUJV",
        "colab_type": "code",
        "colab": {}
      },
      "source": [
        ""
      ],
      "execution_count": 0,
      "outputs": []
    }
  ]
}