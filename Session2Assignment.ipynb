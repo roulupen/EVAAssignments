{
  "nbformat": 4,
  "nbformat_minor": 0,
  "metadata": {
    "colab": {
      "name": "Session2Assignment.ipynb",
      "version": "0.3.2",
      "provenance": [],
      "collapsed_sections": [],
      "include_colab_link": true
    },
    "kernelspec": {
      "name": "python3",
      "display_name": "Python 3"
    },
    "accelerator": "GPU"
  },
  "cells": [
    {
      "cell_type": "markdown",
      "metadata": {
        "id": "view-in-github",
        "colab_type": "text"
      },
      "source": [
        "<a href=\"https://colab.research.google.com/github/roulupen/EVAAssignments/blob/master/Session2Assignment.ipynb\" target=\"_parent\"><img src=\"https://colab.research.google.com/assets/colab-badge.svg\" alt=\"Open In Colab\"/></a>"
      ]
    },
    {
      "cell_type": "markdown",
      "metadata": {
        "id": "-nJ7YEw_vyjG",
        "colab_type": "text"
      },
      "source": [
        "# **Not an ideal network**"
      ]
    },
    {
      "cell_type": "markdown",
      "metadata": {
        "id": "Cz3rfLCc91AU",
        "colab_type": "text"
      },
      "source": [
        "## Install keras and import the library"
      ]
    },
    {
      "cell_type": "code",
      "metadata": {
        "id": "kGWv5hBhv2jf",
        "colab_type": "code",
        "outputId": "a8bf3038-1b8e-491f-e900-1d6e71093d0d",
        "colab": {
          "base_uri": "https://localhost:8080/",
          "height": 34
        }
      },
      "source": [
        "# https://keras.io/\n",
        "!pip install -q keras\n",
        "import keras"
      ],
      "execution_count": 1,
      "outputs": [
        {
          "output_type": "stream",
          "text": [
            "Using TensorFlow backend.\n"
          ],
          "name": "stderr"
        }
      ]
    },
    {
      "cell_type": "markdown",
      "metadata": {
        "id": "5Qo-NJcR-AL6",
        "colab_type": "text"
      },
      "source": [
        "### Import depedent library and functions for model building"
      ]
    },
    {
      "cell_type": "code",
      "metadata": {
        "id": "wnMlDJQKv4VG",
        "colab_type": "code",
        "colab": {}
      },
      "source": [
        "import numpy as np\n",
        "\n",
        "from keras.models import Sequential\n",
        "from keras.layers import Flatten\n",
        "from keras.layers import Convolution2D\n",
        "from keras.utils import np_utils\n",
        "\n",
        "from keras.datasets import mnist"
      ],
      "execution_count": 0,
      "outputs": []
    },
    {
      "cell_type": "markdown",
      "metadata": {
        "id": "rMIiDqgC-Kja",
        "colab_type": "text"
      },
      "source": [
        "### Load train, test data set into different variables"
      ]
    },
    {
      "cell_type": "code",
      "metadata": {
        "id": "8CdSu2lMwB9s",
        "colab_type": "code",
        "outputId": "713e7be4-2587-4c62-b08b-a1cb5ec99b47",
        "colab": {
          "base_uri": "https://localhost:8080/",
          "height": 51
        }
      },
      "source": [
        "(X_train, y_train), (X_test, y_test) = mnist.load_data()"
      ],
      "execution_count": 3,
      "outputs": [
        {
          "output_type": "stream",
          "text": [
            "Downloading data from https://s3.amazonaws.com/img-datasets/mnist.npz\n",
            "11493376/11490434 [==============================] - 1s 0us/step\n"
          ],
          "name": "stdout"
        }
      ]
    },
    {
      "cell_type": "markdown",
      "metadata": {
        "id": "flDDyy18-bD8",
        "colab_type": "text"
      },
      "source": [
        "### Display the 1st image from the training data set"
      ]
    },
    {
      "cell_type": "code",
      "metadata": {
        "id": "tLaDf0-rwCmj",
        "colab_type": "code",
        "outputId": "5132fb54-2ff3-4c9b-e5f1-85cbe38a4bc6",
        "colab": {
          "base_uri": "https://localhost:8080/",
          "height": 303
        }
      },
      "source": [
        "print (X_train.shape)\n",
        "from matplotlib import pyplot as plt\n",
        "%matplotlib inline\n",
        "plt.imshow(X_train[0])"
      ],
      "execution_count": 4,
      "outputs": [
        {
          "output_type": "stream",
          "text": [
            "(60000, 28, 28)\n"
          ],
          "name": "stdout"
        },
        {
          "output_type": "execute_result",
          "data": {
            "text/plain": [
              "<matplotlib.image.AxesImage at 0x7f7d71451668>"
            ]
          },
          "metadata": {
            "tags": []
          },
          "execution_count": 4
        },
        {
          "output_type": "display_data",
          "data": {
            "image/png": "[encoded data removed]",
            "text/plain": [
              "<Figure size 432x288 with 1 Axes>"
            ]
          },
          "metadata": {
            "tags": []
          }
        }
      ]
    },
    {
      "cell_type": "markdown",
      "metadata": {
        "id": "2UKo8Phv-ik1",
        "colab_type": "text"
      },
      "source": [
        "### Reshape all input imges into 28x28x1(basically here we are defining the input channel as 1)"
      ]
    },
    {
      "cell_type": "code",
      "metadata": {
        "id": "erb11jNwwFwl",
        "colab_type": "code",
        "colab": {}
      },
      "source": [
        "X_train = X_train.reshape(X_train.shape[0], 28, 28,1)\n",
        "X_test = X_test.reshape(X_test.shape[0], 28, 28,1)"
      ],
      "execution_count": 0,
      "outputs": []
    },
    {
      "cell_type": "markdown",
      "metadata": {
        "id": "b77B2fzp-0a6",
        "colab_type": "text"
      },
      "source": [
        "### The pixel value of any cell can range from 0-255, just to normalize it we are dividing each cell value by 255. So, max and min value will range between 0-1 for easier calculation"
      ]
    },
    {
      "cell_type": "code",
      "metadata": {
        "id": "RLK4YDoRwHet",
        "colab_type": "code",
        "colab": {}
      },
      "source": [
        "X_train = X_train.astype('float32')\n",
        "X_test = X_test.astype('float32')\n",
        "X_train /= 255\n",
        "X_test /= 255"
      ],
      "execution_count": 0,
      "outputs": []
    },
    {
      "cell_type": "markdown",
      "metadata": {
        "id": "_gAFlafa_6UC",
        "colab_type": "text"
      },
      "source": [
        "### Last 10 actual output from the training data set"
      ]
    },
    {
      "cell_type": "code",
      "metadata": {
        "id": "JNKLOmhlwJQl",
        "colab_type": "code",
        "outputId": "55e615a8-8511-4117-dd48-7e64395ac224",
        "colab": {
          "base_uri": "https://localhost:8080/",
          "height": 34
        }
      },
      "source": [
        "y_train[:10]"
      ],
      "execution_count": 7,
      "outputs": [
        {
          "output_type": "execute_result",
          "data": {
            "text/plain": [
              "array([5, 0, 4, 1, 9, 2, 1, 3, 1, 4], dtype=uint8)"
            ]
          },
          "metadata": {
            "tags": []
          },
          "execution_count": 7
        }
      ]
    },
    {
      "cell_type": "code",
      "metadata": {
        "id": "g7cXZOZVRJ6l",
        "colab_type": "code",
        "outputId": "42a3cee8-313c-4c80-f2f2-5470a2553e26",
        "colab": {
          "base_uri": "https://localhost:8080/",
          "height": 34
        }
      },
      "source": [
        "print(\"Dataset samples have min of %.1f and max of %.1f.\" %(np.min(y_train), np.max(y_train)))"
      ],
      "execution_count": 8,
      "outputs": [
        {
          "output_type": "stream",
          "text": [
            "Dataset samples have min of 0.0 and max of 9.0.\n"
          ],
          "name": "stdout"
        }
      ]
    },
    {
      "cell_type": "markdown",
      "metadata": {
        "id": "FRIGEAs4AHIM",
        "colab_type": "text"
      },
      "source": [
        "### As you can see from the above result we have output between 0-9 digits, in-order to specify that in our model we are doing one-hot codding to represent different label."
      ]
    },
    {
      "cell_type": "code",
      "metadata": {
        "id": "YusMJguiwKsM",
        "colab_type": "code",
        "colab": {}
      },
      "source": [
        "# Convert 1-dimensional class arrays to 10-dimensional class matrices\n",
        "Y_train = np_utils.to_categorical(y_train, 10)\n",
        "Y_test = np_utils.to_categorical(y_test, 10)"
      ],
      "execution_count": 0,
      "outputs": []
    },
    {
      "cell_type": "markdown",
      "metadata": {
        "id": "oO8ifWVRAkdq",
        "colab_type": "text"
      },
      "source": [
        "### After one-hot encoding all the digits will be replaced with equivalent binary one-hot coding values. Here we are displaying the same last 10 output from the training data set"
      ]
    },
    {
      "cell_type": "code",
      "metadata": {
        "id": "upxc99AswMW0",
        "colab_type": "code",
        "outputId": "08db2adc-5b02-4607-ea04-46717a36df37",
        "colab": {
          "base_uri": "https://localhost:8080/",
          "height": 187
        }
      },
      "source": [
        "Y_train[:10]"
      ],
      "execution_count": 10,
      "outputs": [
        {
          "output_type": "execute_result",
          "data": {
            "text/plain": [
              "array([[0., 0., 0., 0., 0., 1., 0., 0., 0., 0.],\n",
              "       [1., 0., 0., 0., 0., 0., 0., 0., 0., 0.],\n",
              "       [0., 0., 0., 0., 1., 0., 0., 0., 0., 0.],\n",
              "       [0., 1., 0., 0., 0., 0., 0., 0., 0., 0.],\n",
              "       [0., 0., 0., 0., 0., 0., 0., 0., 0., 1.],\n",
              "       [0., 0., 1., 0., 0., 0., 0., 0., 0., 0.],\n",
              "       [0., 1., 0., 0., 0., 0., 0., 0., 0., 0.],\n",
              "       [0., 0., 0., 1., 0., 0., 0., 0., 0., 0.],\n",
              "       [0., 1., 0., 0., 0., 0., 0., 0., 0., 0.],\n",
              "       [0., 0., 0., 0., 1., 0., 0., 0., 0., 0.]], dtype=float32)"
            ]
          },
          "metadata": {
            "tags": []
          },
          "execution_count": 10
        }
      ]
    },
    {
      "cell_type": "markdown",
      "metadata": {
        "id": "dkxTzr7xA8lg",
        "colab_type": "text"
      },
      "source": [
        "### Defining model for our dataset, and what individual lines are doing defined please refer to inline comment.\n",
        "\n",
        "\n",
        "\n",
        "- Defining a sequential model\n",
        "- 1st, Convolution layer, input=28x28x1 => Channel=(3x3x1), kernel=32 => Output = 26x26x32\n",
        "- 2nd, Convolution layer, input=26x26x32 => channel=(3x3x32), kernel=64 => Output=24x24x64\n",
        "- 3rd, Convolution layer, input=24x24x64 => channel=(3x3x64), kernel=128 => Output=22x22x128\n",
        "- 4th, Maxpooling layer, input=22x22x128 => Max pooling channel=(2x2) => Output=11x11x128\n",
        "- 5th, Convolution layer, input=11x11x128 => channel=(3x3x128), kernel=256 => Output=9x9x256\n",
        "- 6th, Convolution layer, input=9x9x256 => channel=(3x3x256), kernel=512 => Output=7x7x512\n",
        "- 7th, Convolution layer, input=7x7x512 => channel=(3x3x512), kernel=1024 => Output=5x5x1024\n",
        "- 8th, Convolution layer, input=5x5x1024 => channel=(3x3x1024), kernel=2048 => Output=3x3x2048\n",
        "- 9th, Convolution layer, input=3x3x2048 => channel=(3x3x2048), kernel=10 => Output=1x1x10, At the last layer we are defining 10 channel since our final output has 10 classes\n",
        "- Flatten the 1x1x10 into a 1-D array\n",
        "- Using softmax activation we are predicting different label for the input image\n",
        "\n",
        "\n",
        "\n"
      ]
    },
    {
      "cell_type": "code",
      "metadata": {
        "id": "irTVUE47wNwr",
        "colab_type": "code",
        "outputId": "3650957d-f2bc-4952-b944-b738f04824f5",
        "colab": {
          "base_uri": "https://localhost:8080/",
          "height": 853
        }
      },
      "source": [
        "# importing functions for Activation and MaxPooling from Keras\n",
        "from keras.layers import Activation, MaxPooling2D\n",
        "\n",
        "model = Sequential() # Defining a sequential model\n",
        "model.add(Convolution2D(32, 3, 3, activation='relu', input_shape=(28,28,1))) # 1st, Convolution layer, input=28x28x1 => Channel=(3x3x1), kernel=32 => Output = 26x26x32, recptive field \n",
        "model.add(Convolution2D(64, 3, 3, activation='relu')) # 2nd, Convolution layer, input=26x26x32 => channel=(3x3x32), kernel=64 => Output=24x24x64\n",
        "model.add(Convolution2D(128, 3, 3, activation='relu')) # 3rd, Convolution layer, input=24x24x64 => channel=(3x3x64), kernel=128 => Output=22x22x128\n",
        "\n",
        "model.add(MaxPooling2D(pool_size=(2, 2))) # 4th, Maxpooling layer, input=22x22x128 => Max pooling channel=(2x2) => Output=11x11x128\n",
        "\n",
        "model.add(Convolution2D(256, 3, 3, activation='relu')) # 5th, Convolution layer, input=11x11x128 => channel=(3x3x128), kernel=256 => Output=9x9x256\n",
        "model.add(Convolution2D(512, 3, 3, activation='relu')) # 6th, Convolution layer, input=9x9x256 => channel=(3x3x256), kernel=512 => Output=7x7x512\n",
        "model.add(Convolution2D(1024, 3, 3, activation='relu')) # 7th, Convolution layer, input=7x7x512 => channel=(3x3x512), kernel=1024 => Output=5x5x1024\n",
        "model.add(Convolution2D(2048, 3, 3, activation='relu')) # 8th, Convolution layer, input=5x5x1024 => channel=(3x3x1024), kernel=2048 => Output=3x3x2048\n",
        "model.add(Convolution2D(10, 3, 3, activation='relu')) # 9th, Convolution layer, input=3x3x2048 => channel=(3x3x2048), kernel=10 => Output=1x1x10, At the last layer we are defining 10 channel since our final output has 10 classes\n",
        "\n",
        "model.add(Flatten()) # Flatten the 1x1x10 into a 1-D array\n",
        "model.add(Activation('softmax')) # Using softmax activation we are predicting different label for the input image\n",
        "\n",
        "model.summary()"
      ],
      "execution_count": 11,
      "outputs": [
        {
          "output_type": "stream",
          "text": [
            "WARNING:tensorflow:From /usr/local/lib/python3.6/dist-packages/tensorflow/python/framework/op_def_library.py:263: colocate_with (from tensorflow.python.framework.ops) is deprecated and will be removed in a future version.\n",
            "Instructions for updating:\n",
            "Colocations handled automatically by placer.\n"
          ],
          "name": "stdout"
        },
        {
          "output_type": "stream",
          "text": [
            "/usr/local/lib/python3.6/dist-packages/ipykernel_launcher.py:4: UserWarning: Update your `Conv2D` call to the Keras 2 API: `Conv2D(32, (3, 3), activation=\"relu\", input_shape=(28, 28, 1...)`\n",
            "  after removing the cwd from sys.path.\n",
            "/usr/local/lib/python3.6/dist-packages/ipykernel_launcher.py:5: UserWarning: Update your `Conv2D` call to the Keras 2 API: `Conv2D(64, (3, 3), activation=\"relu\")`\n",
            "  \"\"\"\n",
            "/usr/local/lib/python3.6/dist-packages/ipykernel_launcher.py:6: UserWarning: Update your `Conv2D` call to the Keras 2 API: `Conv2D(128, (3, 3), activation=\"relu\")`\n",
            "  \n",
            "/usr/local/lib/python3.6/dist-packages/ipykernel_launcher.py:10: UserWarning: Update your `Conv2D` call to the Keras 2 API: `Conv2D(256, (3, 3), activation=\"relu\")`\n",
            "  # Remove the CWD from sys.path while we load stuff.\n",
            "/usr/local/lib/python3.6/dist-packages/ipykernel_launcher.py:11: UserWarning: Update your `Conv2D` call to the Keras 2 API: `Conv2D(512, (3, 3), activation=\"relu\")`\n",
            "  # This is added back by InteractiveShellApp.init_path()\n",
            "/usr/local/lib/python3.6/dist-packages/ipykernel_launcher.py:12: UserWarning: Update your `Conv2D` call to the Keras 2 API: `Conv2D(1024, (3, 3), activation=\"relu\")`\n",
            "  if sys.path[0] == '':\n",
            "/usr/local/lib/python3.6/dist-packages/ipykernel_launcher.py:13: UserWarning: Update your `Conv2D` call to the Keras 2 API: `Conv2D(2048, (3, 3), activation=\"relu\")`\n",
            "  del sys.path[0]\n",
            "/usr/local/lib/python3.6/dist-packages/ipykernel_launcher.py:14: UserWarning: Update your `Conv2D` call to the Keras 2 API: `Conv2D(10, (3, 3), activation=\"relu\")`\n",
            "  \n"
          ],
          "name": "stderr"
        },
        {
          "output_type": "stream",
          "text": [
            "_________________________________________________________________\n",
            "Layer (type)                 Output Shape              Param #   \n",
            "=================================================================\n",
            "conv2d_1 (Conv2D)            (None, 26, 26, 32)        320       \n",
            "_________________________________________________________________\n",
            "conv2d_2 (Conv2D)            (None, 24, 24, 64)        18496     \n",
            "_________________________________________________________________\n",
            "conv2d_3 (Conv2D)            (None, 22, 22, 128)       73856     \n",
            "_________________________________________________________________\n",
            "max_pooling2d_1 (MaxPooling2 (None, 11, 11, 128)       0         \n",
            "_________________________________________________________________\n",
            "conv2d_4 (Conv2D)            (None, 9, 9, 256)         295168    \n",
            "_________________________________________________________________\n",
            "conv2d_5 (Conv2D)            (None, 7, 7, 512)         1180160   \n",
            "_________________________________________________________________\n",
            "conv2d_6 (Conv2D)            (None, 5, 5, 1024)        4719616   \n",
            "_________________________________________________________________\n",
            "conv2d_7 (Conv2D)            (None, 3, 3, 2048)        18876416  \n",
            "_________________________________________________________________\n",
            "conv2d_8 (Conv2D)            (None, 1, 1, 10)          184330    \n",
            "_________________________________________________________________\n",
            "flatten_1 (Flatten)          (None, 10)                0         \n",
            "_________________________________________________________________\n",
            "activation_1 (Activation)    (None, 10)                0         \n",
            "=================================================================\n",
            "Total params: 25,348,362\n",
            "Trainable params: 25,348,362\n",
            "Non-trainable params: 0\n",
            "_________________________________________________________________\n"
          ],
          "name": "stdout"
        }
      ]
    },
    {
      "cell_type": "markdown",
      "metadata": {
        "id": "VtUDuFebD383",
        "colab_type": "text"
      },
      "source": [
        "### Copiling the model with different loss function and optmizer"
      ]
    },
    {
      "cell_type": "code",
      "metadata": {
        "id": "VYZOpRb6yG7_",
        "colab_type": "code",
        "colab": {}
      },
      "source": [
        "model.compile(loss='categorical_crossentropy',\n",
        "             optimizer='adam',\n",
        "             metrics=['accuracy'])"
      ],
      "execution_count": 0,
      "outputs": []
    },
    {
      "cell_type": "markdown",
      "metadata": {
        "id": "LxU79sicJq7T",
        "colab_type": "text"
      },
      "source": [
        "### Fit the model with our traning and test data set, we are defining number batch size = 32, so number of training sample in each iteration is 32 and epoch=10, means there will 10 times full forward pass will occur while building the model"
      ]
    },
    {
      "cell_type": "code",
      "metadata": {
        "id": "5O248wVQyMft",
        "colab_type": "code",
        "outputId": "89020234-393f-436d-8fea-193debbc0ca8",
        "colab": {
          "base_uri": "https://localhost:8080/",
          "height": 479
        }
      },
      "source": [
        "model.fit(X_train, Y_train, batch_size=32, nb_epoch=10, verbose=1)"
      ],
      "execution_count": 13,
      "outputs": [
        {
          "output_type": "stream",
          "text": [
            "WARNING:tensorflow:From /usr/local/lib/python3.6/dist-packages/tensorflow/python/ops/math_ops.py:3066: to_int32 (from tensorflow.python.ops.math_ops) is deprecated and will be removed in a future version.\n",
            "Instructions for updating:\n",
            "Use tf.cast instead.\n"
          ],
          "name": "stdout"
        },
        {
          "output_type": "stream",
          "text": [
            "/usr/local/lib/python3.6/dist-packages/ipykernel_launcher.py:1: UserWarning: The `nb_epoch` argument in `fit` has been renamed `epochs`.\n",
            "  \"\"\"Entry point for launching an IPython kernel.\n"
          ],
          "name": "stderr"
        },
        {
          "output_type": "stream",
          "text": [
            "Epoch 1/10\n",
            "60000/60000 [==============================] - 119s 2ms/step - loss: 2.2042 - acc: 0.1464\n",
            "Epoch 2/10\n",
            "60000/60000 [==============================] - 113s 2ms/step - loss: 2.3026 - acc: 0.0987\n",
            "Epoch 3/10\n",
            "60000/60000 [==============================] - 113s 2ms/step - loss: 2.3026 - acc: 0.0987\n",
            "Epoch 4/10\n",
            "60000/60000 [==============================] - 113s 2ms/step - loss: 2.3026 - acc: 0.0987\n",
            "Epoch 5/10\n",
            "60000/60000 [==============================] - 114s 2ms/step - loss: 2.3026 - acc: 0.0987\n",
            "Epoch 6/10\n",
            "60000/60000 [==============================] - 113s 2ms/step - loss: 2.3026 - acc: 0.0987\n",
            "Epoch 7/10\n",
            "60000/60000 [==============================] - 113s 2ms/step - loss: 2.3026 - acc: 0.0987\n",
            "Epoch 8/10\n",
            "60000/60000 [==============================] - 113s 2ms/step - loss: 2.3026 - acc: 0.0987\n",
            "Epoch 9/10\n",
            "60000/60000 [==============================] - 113s 2ms/step - loss: 2.3026 - acc: 0.0987\n",
            "Epoch 10/10\n",
            "60000/60000 [==============================] - 113s 2ms/step - loss: 2.3026 - acc: 0.0987\n"
          ],
          "name": "stdout"
        },
        {
          "output_type": "execute_result",
          "data": {
            "text/plain": [
              "<keras.callbacks.History at 0x7f7d6e321da0>"
            ]
          },
          "metadata": {
            "tags": []
          },
          "execution_count": 13
        }
      ]
    },
    {
      "cell_type": "markdown",
      "metadata": {
        "id": "jDFDqncJKcKf",
        "colab_type": "text"
      },
      "source": [
        "### Evaluating the model performance on test set"
      ]
    },
    {
      "cell_type": "code",
      "metadata": {
        "id": "Sst4KneiyOL5",
        "colab_type": "code",
        "colab": {}
      },
      "source": [
        "score = model.evaluate(X_test, Y_test, verbose=0)"
      ],
      "execution_count": 0,
      "outputs": []
    },
    {
      "cell_type": "code",
      "metadata": {
        "id": "CfJiXOKsyj4y",
        "colab_type": "code",
        "outputId": "fcd6e7f7-549c-4567-84fc-419b371aa5da",
        "colab": {
          "base_uri": "https://localhost:8080/",
          "height": 34
        }
      },
      "source": [
        "print(score)"
      ],
      "execution_count": 15,
      "outputs": [
        {
          "output_type": "stream",
          "text": [
            "[2.3025851249694824, 0.098]\n"
          ],
          "name": "stdout"
        }
      ]
    },
    {
      "cell_type": "markdown",
      "metadata": {
        "id": "g2B38ZpNKkBc",
        "colab_type": "text"
      },
      "source": [
        "### Predicting the output label on test dataset using our model"
      ]
    },
    {
      "cell_type": "code",
      "metadata": {
        "id": "hwLSXt7nyn_0",
        "colab_type": "code",
        "colab": {}
      },
      "source": [
        "y_pred = model.predict(X_test)"
      ],
      "execution_count": 0,
      "outputs": []
    },
    {
      "cell_type": "markdown",
      "metadata": {
        "id": "wtl9vh0dKwzZ",
        "colab_type": "text"
      },
      "source": [
        "### Compare the last 10 test dataset output using predicted and actual values"
      ]
    },
    {
      "cell_type": "code",
      "metadata": {
        "id": "WWKKoOKwyppN",
        "colab_type": "code",
        "outputId": "254cadf3-e925-4179-e499-51f875f5defe",
        "colab": {
          "base_uri": "https://localhost:8080/",
          "height": 323
        }
      },
      "source": [
        "print(y_pred[:9])\n",
        "print(Y_test[:9])"
      ],
      "execution_count": 17,
      "outputs": [
        {
          "output_type": "stream",
          "text": [
            "[[0.1 0.1 0.1 0.1 0.1 0.1 0.1 0.1 0.1 0.1]\n",
            " [0.1 0.1 0.1 0.1 0.1 0.1 0.1 0.1 0.1 0.1]\n",
            " [0.1 0.1 0.1 0.1 0.1 0.1 0.1 0.1 0.1 0.1]\n",
            " [0.1 0.1 0.1 0.1 0.1 0.1 0.1 0.1 0.1 0.1]\n",
            " [0.1 0.1 0.1 0.1 0.1 0.1 0.1 0.1 0.1 0.1]\n",
            " [0.1 0.1 0.1 0.1 0.1 0.1 0.1 0.1 0.1 0.1]\n",
            " [0.1 0.1 0.1 0.1 0.1 0.1 0.1 0.1 0.1 0.1]\n",
            " [0.1 0.1 0.1 0.1 0.1 0.1 0.1 0.1 0.1 0.1]\n",
            " [0.1 0.1 0.1 0.1 0.1 0.1 0.1 0.1 0.1 0.1]]\n",
            "[[0. 0. 0. 0. 0. 0. 0. 1. 0. 0.]\n",
            " [0. 0. 1. 0. 0. 0. 0. 0. 0. 0.]\n",
            " [0. 1. 0. 0. 0. 0. 0. 0. 0. 0.]\n",
            " [1. 0. 0. 0. 0. 0. 0. 0. 0. 0.]\n",
            " [0. 0. 0. 0. 1. 0. 0. 0. 0. 0.]\n",
            " [0. 1. 0. 0. 0. 0. 0. 0. 0. 0.]\n",
            " [0. 0. 0. 0. 1. 0. 0. 0. 0. 0.]\n",
            " [0. 0. 0. 0. 0. 0. 0. 0. 0. 1.]\n",
            " [0. 0. 0. 0. 0. 1. 0. 0. 0. 0.]]\n"
          ],
          "name": "stdout"
        }
      ]
    },
    {
      "cell_type": "code",
      "metadata": {
        "id": "pxr9fTcqK6QV",
        "colab_type": "code",
        "colab": {}
      },
      "source": [
        ""
      ],
      "execution_count": 0,
      "outputs": []
    },
    {
      "cell_type": "markdown",
      "metadata": {
        "id": "nEGQmdiwtPbU",
        "colab_type": "text"
      },
      "source": [
        "## Increasing model efficiency "
      ]
    },
    {
      "cell_type": "markdown",
      "metadata": {
        "id": "Y1pzeT_atxO_",
        "colab_type": "text"
      },
      "source": [
        "#### 1 - In our previous model the number of parameters are huge but still we were getting a very low accuracy, just to make sure we are emphasizing the pixel which has more weight I'm going to add Max Pooling at very begining of the model instead of very late and I'm going to use multiple max pooling layer\n",
        "#### 2 - Increasing the number of epoch to 20."
      ]
    },
    {
      "cell_type": "code",
      "metadata": {
        "id": "EfMpnn86tTIj",
        "colab_type": "code",
        "colab": {
          "base_uri": "https://localhost:8080/",
          "height": 544
        },
        "outputId": "5de4a92c-0bb4-42f0-ad12-c22f9972f62b"
      },
      "source": [
        "# importing functions for Activation and MaxPooling from Keras\n",
        "from keras.layers import Activation, MaxPooling2D\n",
        "\n",
        "model_new = Sequential() # Defining a sequential model\n",
        "model_new.add(Convolution2D(32, 3, 3, activation='relu', input_shape=(28,28,1))) # 1st, Convolution layer, input=28x28x1 => Channel=(3x3x1), kernel=32 => Output = 26x26x32, recptive field \n",
        "model_new.add(MaxPooling2D(pool_size=(2, 2))) # 2nd, Maxpooling layer, input=26x26x32 => Max pooling channel=(2x2) => Output=13x13x32\n",
        "model_new.add(Convolution2D(64, 3, 3, activation='relu')) # 3rd, Convolution layer, input=13x13x32 => channel=(3x3x32), kernel=64 => Output=11x11x64\n",
        "\n",
        "model_new.add(MaxPooling2D(pool_size=(2, 2))) # 4th, Maxpooling layer, input=11x11x64 => Max pooling channel=(2x2) => Output=5x5x64\n",
        "model_new.add(Convolution2D(128, 3, 3, activation='relu')) # 3rd, Convolution layer, input=5x5x64 => channel=(3x3x64), kernel=128 => Output=3x3x128\n",
        "model_new.add(Convolution2D(10, 3, 3, activation='relu')) # 4th, Convolution layer, input=3x3x128 => channel=(3x3x128), kernel=10 => Output=1x1x10,\n",
        "# At the last layer we are defining 10 channel since our final output has 10 classes\n",
        "\n",
        "\n",
        "model_new.add(Flatten()) # Flatten the 1x1x10 into a 1-D array\n",
        "model_new.add(Activation('softmax')) # Using softmax activation we are predicting different label for the input image\n",
        "\n",
        "model_new.summary()"
      ],
      "execution_count": 18,
      "outputs": [
        {
          "output_type": "stream",
          "text": [
            "_________________________________________________________________\n",
            "Layer (type)                 Output Shape              Param #   \n",
            "=================================================================\n",
            "conv2d_9 (Conv2D)            (None, 26, 26, 32)        320       \n",
            "_________________________________________________________________\n",
            "max_pooling2d_2 (MaxPooling2 (None, 13, 13, 32)        0         \n",
            "_________________________________________________________________\n",
            "conv2d_10 (Conv2D)           (None, 11, 11, 64)        18496     \n",
            "_________________________________________________________________\n",
            "max_pooling2d_3 (MaxPooling2 (None, 5, 5, 64)          0         \n",
            "_________________________________________________________________\n",
            "conv2d_11 (Conv2D)           (None, 3, 3, 128)         73856     \n",
            "_________________________________________________________________\n",
            "conv2d_12 (Conv2D)           (None, 1, 1, 10)          11530     \n",
            "_________________________________________________________________\n",
            "flatten_2 (Flatten)          (None, 10)                0         \n",
            "_________________________________________________________________\n",
            "activation_2 (Activation)    (None, 10)                0         \n",
            "=================================================================\n",
            "Total params: 104,202\n",
            "Trainable params: 104,202\n",
            "Non-trainable params: 0\n",
            "_________________________________________________________________\n"
          ],
          "name": "stdout"
        },
        {
          "output_type": "stream",
          "text": [
            "/usr/local/lib/python3.6/dist-packages/ipykernel_launcher.py:4: UserWarning: Update your `Conv2D` call to the Keras 2 API: `Conv2D(32, (3, 3), activation=\"relu\", input_shape=(28, 28, 1...)`\n",
            "  after removing the cwd from sys.path.\n",
            "/usr/local/lib/python3.6/dist-packages/ipykernel_launcher.py:6: UserWarning: Update your `Conv2D` call to the Keras 2 API: `Conv2D(64, (3, 3), activation=\"relu\")`\n",
            "  \n",
            "/usr/local/lib/python3.6/dist-packages/ipykernel_launcher.py:9: UserWarning: Update your `Conv2D` call to the Keras 2 API: `Conv2D(128, (3, 3), activation=\"relu\")`\n",
            "  if __name__ == '__main__':\n",
            "/usr/local/lib/python3.6/dist-packages/ipykernel_launcher.py:10: UserWarning: Update your `Conv2D` call to the Keras 2 API: `Conv2D(10, (3, 3), activation=\"relu\")`\n",
            "  # Remove the CWD from sys.path while we load stuff.\n"
          ],
          "name": "stderr"
        }
      ]
    },
    {
      "cell_type": "code",
      "metadata": {
        "id": "KhAFnMb-iS0g",
        "colab_type": "code",
        "colab": {}
      },
      "source": [
        "model_new.compile(loss='categorical_crossentropy',\n",
        "             optimizer='adam',\n",
        "             metrics=['accuracy'])"
      ],
      "execution_count": 0,
      "outputs": []
    },
    {
      "cell_type": "code",
      "metadata": {
        "id": "A_EzhccPk5po",
        "colab_type": "code",
        "colab": {
          "base_uri": "https://localhost:8080/",
          "height": 748
        },
        "outputId": "2d11f56e-0c0f-4042-c4f5-8c0512fac0e4"
      },
      "source": [
        "model_new.fit(X_train, Y_train, batch_size=32, nb_epoch=20, verbose=1)"
      ],
      "execution_count": 20,
      "outputs": [
        {
          "output_type": "stream",
          "text": [
            "/usr/local/lib/python3.6/dist-packages/ipykernel_launcher.py:1: UserWarning: The `nb_epoch` argument in `fit` has been renamed `epochs`.\n",
            "  \"\"\"Entry point for launching an IPython kernel.\n"
          ],
          "name": "stderr"
        },
        {
          "output_type": "stream",
          "text": [
            "Epoch 1/20\n",
            "60000/60000 [==============================] - 8s 130us/step - loss: 1.3431 - acc: 0.5318\n",
            "Epoch 2/20\n",
            "60000/60000 [==============================] - 9s 143us/step - loss: 1.1633 - acc: 0.6017\n",
            "Epoch 3/20\n",
            "60000/60000 [==============================] - 8s 135us/step - loss: 1.0673 - acc: 0.6041\n",
            "Epoch 4/20\n",
            "60000/60000 [==============================] - 7s 124us/step - loss: 0.9226 - acc: 0.6054\n",
            "Epoch 5/20\n",
            "60000/60000 [==============================] - 7s 124us/step - loss: 0.8176 - acc: 0.6504\n",
            "Epoch 6/20\n",
            "60000/60000 [==============================] - 8s 125us/step - loss: 0.7107 - acc: 0.6964\n",
            "Epoch 7/20\n",
            "60000/60000 [==============================] - 8s 137us/step - loss: 0.7061 - acc: 0.6967\n",
            "Epoch 8/20\n",
            "60000/60000 [==============================] - 9s 142us/step - loss: 0.7032 - acc: 0.6974\n",
            "Epoch 9/20\n",
            "60000/60000 [==============================] - 8s 128us/step - loss: 0.7014 - acc: 0.6975\n",
            "Epoch 10/20\n",
            "60000/60000 [==============================] - 7s 124us/step - loss: 0.7015 - acc: 0.6975\n",
            "Epoch 11/20\n",
            "60000/60000 [==============================] - 7s 124us/step - loss: 0.6998 - acc: 0.6979\n",
            "Epoch 12/20\n",
            "60000/60000 [==============================] - 7s 124us/step - loss: 0.7005 - acc: 0.6975\n",
            "Epoch 13/20\n",
            "60000/60000 [==============================] - 7s 124us/step - loss: 0.6997 - acc: 0.6976\n",
            "Epoch 14/20\n",
            "60000/60000 [==============================] - 7s 124us/step - loss: 0.6991 - acc: 0.6979\n",
            "Epoch 15/20\n",
            "60000/60000 [==============================] - 7s 124us/step - loss: 0.6977 - acc: 0.6981\n",
            "Epoch 16/20\n",
            "60000/60000 [==============================] - 7s 124us/step - loss: 0.7000 - acc: 0.6975\n",
            "Epoch 17/20\n",
            "60000/60000 [==============================] - 8s 125us/step - loss: 0.6962 - acc: 0.6984\n",
            "Epoch 18/20\n",
            "60000/60000 [==============================] - 8s 131us/step - loss: 0.6988 - acc: 0.6980\n",
            "Epoch 19/20\n",
            "60000/60000 [==============================] - 8s 139us/step - loss: 0.6967 - acc: 0.6983\n",
            "Epoch 20/20\n",
            "60000/60000 [==============================] - 7s 124us/step - loss: 0.6974 - acc: 0.6982\n"
          ],
          "name": "stdout"
        },
        {
          "output_type": "execute_result",
          "data": {
            "text/plain": [
              "<keras.callbacks.History at 0x7f7d602ff2b0>"
            ]
          },
          "metadata": {
            "tags": []
          },
          "execution_count": 20
        }
      ]
    },
    {
      "cell_type": "code",
      "metadata": {
        "id": "KSne3TcdlAxo",
        "colab_type": "code",
        "colab": {}
      },
      "source": [
        "score_new = model_new.evaluate(X_test, Y_test, verbose=0)"
      ],
      "execution_count": 0,
      "outputs": []
    },
    {
      "cell_type": "code",
      "metadata": {
        "id": "1NfQPBF9mnaW",
        "colab_type": "code",
        "colab": {
          "base_uri": "https://localhost:8080/",
          "height": 34
        },
        "outputId": "515b086a-e072-46c8-8533-9d2551ef2ceb"
      },
      "source": [
        "print(score_new)"
      ],
      "execution_count": 22,
      "outputs": [
        {
          "output_type": "stream",
          "text": [
            "[0.7348871189117432, 0.6899]\n"
          ],
          "name": "stdout"
        }
      ]
    },
    {
      "cell_type": "code",
      "metadata": {
        "id": "xB_lBcOKnksJ",
        "colab_type": "code",
        "colab": {}
      },
      "source": [
        ""
      ],
      "execution_count": 0,
      "outputs": []
    }
  ]
}