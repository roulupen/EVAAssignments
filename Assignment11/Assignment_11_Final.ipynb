{
  "nbformat": 4,
  "nbformat_minor": 0,
  "metadata": {
    "colab": {
      "name": "Assignment-11-Final.ipynb",
      "version": "0.3.2",
      "provenance": [],
      "collapsed_sections": [],
      "include_colab_link": true
    },
    "kernelspec": {
      "name": "python3",
      "display_name": "Python 3"
    },
    "accelerator": "GPU"
  },
  "cells": [
    {
      "cell_type": "markdown",
      "metadata": {
        "id": "view-in-github",
        "colab_type": "text"
      },
      "source": [
        "<a href=\"https://colab.research.google.com/github/roulupen/EVAAssignments/blob/master/Assignment11/Assignment_11_Final.ipynb\" target=\"_parent\"><img src=\"https://colab.research.google.com/assets/colab-badge.svg\" alt=\"Open In Colab\"/></a>"
      ]
    },
    {
      "cell_type": "markdown",
      "metadata": {
        "id": "n-hmoSugXZTW",
        "colab_type": "text"
      },
      "source": [
        "### Assignment 11:\n",
        "1. Cutout added\n",
        "2. Using LR Finder to find the best starting learning rate.\n",
        "3. Using SDG with Momentum.\n",
        "4. Training for 100 epochs\n",
        "5. Verbose = 0 (no logs) in the final model run.\n",
        "6. Saving the top accuracy\n",
        "7. Showing Training and Test Accuracy curves\n",
        "8. Runing  GradCAM on the any 25 misclassified images. "
      ]
    },
    {
      "cell_type": "code",
      "metadata": {
        "id": "KkwXnw9OfHZl",
        "colab_type": "code",
        "colab": {
          "base_uri": "https://localhost:8080/",
          "height": 34
        },
        "outputId": "e0bd9832-ff79-4a83-8f9f-113713ef4e11"
      },
      "source": [
        "from keras import backend as K\n",
        "import time\n",
        "import matplotlib.pyplot as plt\n",
        "import numpy as np\n",
        "% matplotlib inline\n",
        "np.random.seed(2017) \n",
        "import keras.models\n",
        "from keras import regularizers\n",
        "from keras.models import Sequential\n",
        "from keras.layers.convolutional import Convolution2D, MaxPooling2D,AveragePooling2D\n",
        "from keras.layers import Activation, Flatten, Dense, Dropout\n",
        "from keras.layers.normalization import BatchNormalization\n",
        "from keras.utils import np_utils\n",
        "from keras.preprocessing.image import ImageDataGenerator"
      ],
      "execution_count": 1,
      "outputs": [
        {
          "output_type": "stream",
          "text": [
            "Using TensorFlow backend.\n"
          ],
          "name": "stderr"
        }
      ]
    },
    {
      "cell_type": "code",
      "metadata": {
        "id": "XSkMxJGwf5gS",
        "colab_type": "code",
        "outputId": "93a81898-6f46-4450-fd8d-aa447311194b",
        "colab": {
          "base_uri": "https://localhost:8080/",
          "height": 34
        }
      },
      "source": [
        "from google.colab import drive\n",
        "drive.mount('../content/drive/', force_remount=True)"
      ],
      "execution_count": 2,
      "outputs": [
        {
          "output_type": "stream",
          "text": [
            "Mounted at ../content/drive/\n"
          ],
          "name": "stdout"
        }
      ]
    },
    {
      "cell_type": "code",
      "metadata": {
        "id": "NHpnoCHZfO8g",
        "colab_type": "code",
        "colab": {}
      },
      "source": [
        "from keras.datasets import cifar10\n",
        "(train_features, train_labels), (test_features, test_labels) = cifar10.load_data()\n",
        "num_train, img_rows, img_cols,img_channels =  train_features.shape\n",
        "num_test, _, _, _ =  test_features.shape\n",
        "num_classes = len(np.unique(train_labels))"
      ],
      "execution_count": 0,
      "outputs": []
    },
    {
      "cell_type": "code",
      "metadata": {
        "id": "2R9KHV8A19cw",
        "colab_type": "code",
        "outputId": "f8d802b0-88bc-4bf0-85ef-1c3f43c158cc",
        "colab": {
          "base_uri": "https://localhost:8080/",
          "height": 67
        }
      },
      "source": [
        "print (num_classes)\n",
        "print (num_train)\n",
        "print (train_features.shape)"
      ],
      "execution_count": 4,
      "outputs": [
        {
          "output_type": "stream",
          "text": [
            "10\n",
            "50000\n",
            "(50000, 32, 32, 3)\n"
          ],
          "name": "stdout"
        }
      ]
    },
    {
      "cell_type": "code",
      "metadata": {
        "id": "14HyBUXdfS6G",
        "colab_type": "code",
        "outputId": "ef138aff-9f29-4a32-ffbd-678ea1f15b6d",
        "colab": {
          "base_uri": "https://localhost:8080/",
          "height": 213
        }
      },
      "source": [
        "class_names = ['airplane','automobile','bird','cat','deer', 'dog','frog','horse','ship','truck']\n",
        "fig = plt.figure(figsize=(8,3))\n",
        "for i in range(num_classes):\n",
        "    ax = fig.add_subplot(2, 5, 1 + i, xticks=[], yticks=[])\n",
        "    idx = np.where(train_labels[:]==i)[0]\n",
        "    features_idx = train_features[idx,::]\n",
        "    img_num = np.random.randint(features_idx.shape[0])\n",
        "    im = features_idx[img_num]\n",
        "    ax.set_title(class_names[i])\n",
        "    plt.imshow(im)\n",
        "plt.show()"
      ],
      "execution_count": 5,
      "outputs": [
        {
          "output_type": "display_data",
          "data": {
            "image/png": "[encoded data removed]",
            "text/plain": [
              "<Figure size 576x216 with 10 Axes>"
            ]
          },
          "metadata": {
            "tags": []
          }
        }
      ]
    },
    {
      "cell_type": "code",
      "metadata": {
        "id": "bmfsk76-fadV",
        "colab_type": "code",
        "colab": {}
      },
      "source": [
        "def plot_model_history(model_history):\n",
        "    fig, axs = plt.subplots(1,2,figsize=(15,5))\n",
        "    # summarize history for accuracy\n",
        "    axs[0].plot(range(1,len(model_history.history['acc'])+1),model_history.history['acc'])\n",
        "    axs[0].plot(range(1,len(model_history.history['val_acc'])+1),model_history.history['val_acc'])\n",
        "    axs[0].set_title('Model Accuracy')\n",
        "    axs[0].set_ylabel('Accuracy')\n",
        "    axs[0].set_xlabel('Epoch')\n",
        "    axs[0].set_xticks(np.arange(1,len(model_history.history['acc'])+1),len(model_history.history['acc'])/10)\n",
        "    axs[0].legend(['train', 'val'], loc='best')\n",
        "    # summarize history for loss\n",
        "    axs[1].plot(range(1,len(model_history.history['loss'])+1),model_history.history['loss'])\n",
        "    axs[1].plot(range(1,len(model_history.history['val_loss'])+1),model_history.history['val_loss'])\n",
        "    axs[1].set_title('Model Loss')\n",
        "    axs[1].set_ylabel('Loss')\n",
        "    axs[1].set_xlabel('Epoch')\n",
        "    axs[1].set_xticks(np.arange(1,len(model_history.history['loss'])+1),len(model_history.history['loss'])/10)\n",
        "    axs[1].legend(['train', 'val'], loc='best')\n",
        "    plt.show()"
      ],
      "execution_count": 0,
      "outputs": []
    },
    {
      "cell_type": "code",
      "metadata": {
        "id": "YJMT4rjgfdZz",
        "colab_type": "code",
        "colab": {}
      },
      "source": [
        "def accuracy(test_x, test_y, model):\n",
        "    result = model.predict(test_x)\n",
        "    predicted_class = np.argmax(result, axis=1)\n",
        "    true_class = np.argmax(test_y, axis=1)\n",
        "    num_correct = np.sum(predicted_class == true_class) \n",
        "    accuracy = float(num_correct)/result.shape[0]\n",
        "    return (accuracy * 100)"
      ],
      "execution_count": 0,
      "outputs": []
    },
    {
      "cell_type": "code",
      "metadata": {
        "id": "T5c5nDvxm6zR",
        "colab_type": "code",
        "colab": {}
      },
      "source": [
        "train_features = train_features.astype('float32')/255\n",
        "test_features = test_features.astype('float32')/255\n",
        "# convert class labels to binary class labels\n",
        "train_labels = np_utils.to_categorical(train_labels, num_classes)\n",
        "test_labels = np_utils.to_categorical(test_labels, num_classes)"
      ],
      "execution_count": 0,
      "outputs": []
    },
    {
      "cell_type": "code",
      "metadata": {
        "id": "e5U2c0unqgdP",
        "colab_type": "code",
        "outputId": "2e83ac5a-eaeb-408c-e280-b72fb966054c",
        "colab": {
          "base_uri": "https://localhost:8080/",
          "height": 67
        }
      },
      "source": [
        "# load dataset\n",
        "(trainX, trainy), (testX, testy) = cifar10.load_data()\n",
        "\n",
        "\n",
        "print('Statistics train=%.3f (%.3f), test=%.3f (%.3f)' % (trainX.mean(), trainX.std(), testX.mean(), testX.std()))\n",
        "\n",
        "# create generator that centers pixel values\n",
        "datagen = ImageDataGenerator(featurewise_center=True, featurewise_std_normalization=True)\n",
        "\n",
        "# calculate the mean on the training dataset\n",
        "datagen.fit(trainX)\n",
        "#print('Data Generator mean=%.3f, std=%.3f' % (datagen.mean, datagen.std))\n",
        "\n",
        "# demonstrate effect on a single batch of samples\n",
        "iterator = datagen.flow(trainX, trainy, batch_size=128)\n",
        "\n",
        "# get a batch\n",
        "batchX, batchy = iterator.next()\n",
        "\n",
        "# pixel stats in the batch\n",
        "print(batchX.shape, batchX.mean(), batchX.std())\n",
        "\n",
        "# demonstrate effect on entire training dataset\n",
        "iterator = datagen.flow(trainX, trainy, batch_size=len(trainX), shuffle=False)\n",
        "\n",
        "# get a batch\n",
        "batchX, batchy = iterator.next()\n",
        "\n",
        "# pixel stats in the batch\n",
        "print(batchX.shape, batchX.mean(), batchX.std())"
      ],
      "execution_count": 9,
      "outputs": [
        {
          "output_type": "stream",
          "text": [
            "Statistics train=120.708 (64.150), test=121.529 (64.061)\n",
            "(128, 32, 32, 3) 0.01989002 1.0052702\n",
            "(50000, 32, 32, 3) -1.6605131e-06 1.0000001\n"
          ],
          "name": "stdout"
        }
      ]
    },
    {
      "cell_type": "code",
      "metadata": {
        "id": "D-eJt3EDq1g5",
        "colab_type": "code",
        "colab": {}
      },
      "source": [
        "iterator1 = datagen.flow(testX, testy, batch_size=len(testX), shuffle=False)\n",
        "batch_testX, batch_testy = iterator1.next()\n",
        "\n",
        "X_train = batchX\n",
        "X_test = batch_testX\n",
        "\n",
        "y_train=batchy\n",
        "y_test=batch_testy\n",
        "                        "
      ],
      "execution_count": 0,
      "outputs": []
    },
    {
      "cell_type": "code",
      "metadata": {
        "id": "av2re-bNrBnY",
        "colab_type": "code",
        "colab": {}
      },
      "source": [
        "# Convert 1-dimensional class arrays to 10-dimensional class matrices\n",
        "Y_train = np_utils.to_categorical(y_train, 10)\n",
        "Y_test = np_utils.to_categorical(y_test, 10)"
      ],
      "execution_count": 0,
      "outputs": []
    },
    {
      "cell_type": "markdown",
      "metadata": {
        "id": "YsF-R3nw74lq",
        "colab_type": "text"
      },
      "source": [
        "### Learning Rate finder class"
      ]
    },
    {
      "cell_type": "code",
      "metadata": {
        "id": "B_sxHwcM77CT",
        "colab_type": "code",
        "colab": {}
      },
      "source": [
        "from matplotlib import pyplot as plt\n",
        "import math\n",
        "from keras.callbacks import LambdaCallback\n",
        "import keras.backend as K\n",
        "\n",
        "\n",
        "class LRFinder:\n",
        "    \"\"\"\n",
        "    Plots the change of the loss function of a Keras model when the learning rate is exponentially increasing.\n",
        "    See for details:\n",
        "    https://towardsdatascience.com/estimating-optimal-learning-rate-for-a-deep-neural-network-ce32f2556ce0\n",
        "    \"\"\"\n",
        "    def __init__(self, model):\n",
        "        self.model = model\n",
        "        self.losses = []\n",
        "        self.lrs = []\n",
        "        self.best_loss = 1e9\n",
        "\n",
        "    def on_batch_end(self, batch, logs):\n",
        "        # Log the learning rate\n",
        "        lr = K.get_value(self.model.optimizer.lr)\n",
        "        self.lrs.append(lr)\n",
        "\n",
        "        # Log the loss\n",
        "        loss = logs['loss']\n",
        "        self.losses.append(loss)\n",
        "\n",
        "        # Check whether the loss got too large or NaN\n",
        "        if math.isnan(loss) or loss > self.best_loss * 4:\n",
        "            self.model.stop_training = True\n",
        "            return\n",
        "\n",
        "        if loss < self.best_loss:\n",
        "            self.best_loss = loss\n",
        "\n",
        "        # Increase the learning rate for the next batch\n",
        "        lr *= self.lr_mult\n",
        "        K.set_value(self.model.optimizer.lr, lr)\n",
        "\n",
        "    def find(self, x_train, y_train, start_lr, end_lr, batch_size=64, epochs=1):\n",
        "        num_batches = epochs * x_train.shape[0] / batch_size\n",
        "        self.lr_mult = (float(end_lr) / float(start_lr)) ** (float(1) / float(num_batches))\n",
        "\n",
        "        # Save weights into a file\n",
        "        self.model.save_weights('tmp.h5')\n",
        "\n",
        "        # Remember the original learning rate\n",
        "        original_lr = K.get_value(self.model.optimizer.lr)\n",
        "\n",
        "        # Set the initial learning rate\n",
        "        K.set_value(self.model.optimizer.lr, start_lr)\n",
        "\n",
        "        callback = LambdaCallback(on_batch_end=lambda batch, logs: self.on_batch_end(batch, logs))\n",
        "\n",
        "        self.model.fit(x_train, y_train,\n",
        "                        batch_size=batch_size, epochs=epochs,\n",
        "                        callbacks=[callback])\n",
        "\n",
        "        # Restore the weights to the state before model fitting\n",
        "        self.model.load_weights('tmp.h5')\n",
        "\n",
        "        # Restore the original learning rate\n",
        "        K.set_value(self.model.optimizer.lr, original_lr)\n",
        "\n",
        "    def find_generator(self, generator, start_lr, end_lr, epochs=1, steps_per_epoch=None, **kw_fit):\n",
        "            if steps_per_epoch is None:\n",
        "                try:\n",
        "                    steps_per_epoch = len(generator)\n",
        "                except (ValueError, NotImplementedError) as e:\n",
        "                    raise e('`steps_per_epoch=None` is only valid for a'\n",
        "                            ' generator based on the '\n",
        "                            '`keras.utils.Sequence`'\n",
        "                            ' class. Please specify `steps_per_epoch` '\n",
        "                            'or use the `keras.utils.Sequence` class.')\n",
        "            self.lr_mult = (float(end_lr) / float(start_lr)) ** (float(1) / float(steps_per_epoch))\n",
        "\n",
        "            # Save weights into a file\n",
        "            self.model.save_weights('tmp.h5')\n",
        "\n",
        "            # Remember the original learning rate\n",
        "            original_lr = K.get_value(self.model.optimizer.lr)\n",
        "\n",
        "            # Set the initial learning rate\n",
        "            K.set_value(self.model.optimizer.lr, start_lr)\n",
        "\n",
        "            callback = LambdaCallback(on_batch_end=lambda batch,\n",
        "                                      logs: self.on_batch_end(batch, logs))\n",
        "\n",
        "            self.model.fit_generator(generator=generator,\n",
        "                                     epochs=epochs,\n",
        "                                     steps_per_epoch=steps_per_epoch,\n",
        "                                     callbacks=[callback],\n",
        "                                     **kw_fit)\n",
        "\n",
        "            # Restore the weights to the state before model fitting\n",
        "            self.model.load_weights('tmp.h5')\n",
        "\n",
        "            # Restore the original learning rate\n",
        "            K.set_value(self.model.optimizer.lr, original_lr)\n",
        "\n",
        "    def plot_loss(self, n_skip_beginning=10, n_skip_end=5):\n",
        "        \"\"\"\n",
        "        Plots the loss.\n",
        "        Parameters:\n",
        "            n_skip_beginning - number of batches to skip on the left.\n",
        "            n_skip_end - number of batches to skip on the right.\n",
        "        \"\"\"\n",
        "        plt.ylabel(\"loss\")\n",
        "        plt.xlabel(\"learning rate (log scale)\")\n",
        "        plt.plot(self.lrs[n_skip_beginning:-n_skip_end], self.losses[n_skip_beginning:-n_skip_end])\n",
        "        plt.xscale('log')\n",
        "\n",
        "    def plot_loss_change(self, sma=1, n_skip_beginning=10, n_skip_end=5, y_lim=(-0.01, 0.01)):\n",
        "        \"\"\"\n",
        "        Plots rate of change of the loss function.\n",
        "        Parameters:\n",
        "            sma - number of batches for simple moving average to smooth out the curve.\n",
        "            n_skip_beginning - number of batches to skip on the left.\n",
        "            n_skip_end - number of batches to skip on the right.\n",
        "            y_lim - limits for the y axis.\n",
        "        \"\"\"\n",
        "        assert sma >= 1\n",
        "        derivatives = [0] * sma\n",
        "        for i in range(sma, len(self.lrs)):\n",
        "            derivative = (self.losses[i] - self.losses[i - sma]) / sma\n",
        "            derivatives.append(derivative)\n",
        "\n",
        "        plt.ylabel(\"rate of loss change\")\n",
        "        plt.xlabel(\"learning rate (log scale)\")\n",
        "        plt.plot(self.lrs[n_skip_beginning:-n_skip_end], derivatives[n_skip_beginning:-n_skip_end])\n",
        "        plt.xscale('log')\n",
        "        plt.ylim(y_lim)"
      ],
      "execution_count": 0,
      "outputs": []
    },
    {
      "cell_type": "markdown",
      "metadata": {
        "id": "WxwsDYbS7oeG",
        "colab_type": "text"
      },
      "source": [
        "### Random cutout logic"
      ]
    },
    {
      "cell_type": "code",
      "metadata": {
        "id": "znwyqlzEHWwD",
        "colab_type": "code",
        "colab": {}
      },
      "source": [
        "def get_random_eraser(p=0.5, s_l=0.02, s_h=0.4, r_1=0.3, r_2=1/0.3, v_l=0, v_h=255, pixel_level=False):\n",
        "    def eraser(input_img):\n",
        "        img_h, img_w, img_c = input_img.shape\n",
        "        p_1 = np.random.rand()\n",
        "\n",
        "        if p_1 > p:\n",
        "            return input_img\n",
        "\n",
        "        while True:\n",
        "            s = np.random.uniform(s_l, s_h) * img_h * img_w\n",
        "            r = np.random.uniform(r_1, r_2)\n",
        "            w = int(np.sqrt(s / r))\n",
        "            h = int(np.sqrt(s * r))\n",
        "            left = np.random.randint(0, img_w)\n",
        "            top = np.random.randint(0, img_h)\n",
        "\n",
        "            if left + w <= img_w and top + h <= img_h:\n",
        "                break\n",
        "\n",
        "        if pixel_level:\n",
        "            c = np.random.uniform(v_l, v_h, (h, w, img_c))\n",
        "        else:\n",
        "            c = np.random.uniform(v_l, v_h)\n",
        "\n",
        "        input_img[top:top + h, left:left + w, :] = c\n",
        "\n",
        "        return input_img\n",
        "\n",
        "    return eraser"
      ],
      "execution_count": 0,
      "outputs": []
    },
    {
      "cell_type": "code",
      "metadata": {
        "id": "SCRQ06Fj8Epc",
        "colab_type": "code",
        "outputId": "20f2eb0d-4bd6-4d56-fc5b-5852d23cbeb5",
        "colab": {
          "base_uri": "https://localhost:8080/",
          "height": 591
        }
      },
      "source": [
        "# Define the model\n",
        "model = Sequential()\n",
        "model.add(Convolution2D(32, 3, 3, border_mode='same',kernel_regularizer=regularizers.l2(0.0001), input_shape=(32, 32, 3)))\n",
        "model.add(Activation('relu'))\n",
        "model.add(BatchNormalization())\n",
        "\n",
        "model.add(Convolution2D(64, 3, 3,kernel_regularizer=regularizers.l2(0.0001),border_mode='same'))\n",
        "model.add(Activation('relu'))\n",
        "model.add(BatchNormalization())\n",
        "\n",
        "model.add(MaxPooling2D(pool_size=(2, 2)))\n",
        "model.add(Dropout(0.2))\n",
        "model.add(Convolution2D(32, 1, 1))\n",
        "\n",
        "\n",
        "model.add(Convolution2D(64, 3, 3,kernel_regularizer=regularizers.l2(0.0001),border_mode='same'))\n",
        "model.add(Activation('relu'))\n",
        "model.add(BatchNormalization())\n",
        "\n",
        "model.add(Convolution2D(128, 3, 3,kernel_regularizer=regularizers.l2(0.0001),border_mode='same'))\n",
        "model.add(Activation('relu'))\n",
        "model.add(BatchNormalization())\n",
        "\n",
        "model.add(MaxPooling2D(pool_size=(2, 2)))\n",
        "model.add(Dropout(0.3))\n",
        "model.add(Convolution2D(32, 1, 1))\n",
        "\n",
        "\n",
        "model.add(Convolution2D(128, 3, 3,kernel_regularizer=regularizers.l2(0.0001), border_mode='same'))\n",
        "model.add(Activation('relu'))\n",
        "model.add(BatchNormalization())\n",
        "\n",
        "model.add(Convolution2D(256, 3, 3,kernel_regularizer=regularizers.l2(0.0001), border_mode='same', name=\"Grad_CAM\"))\n",
        "model.add(Activation('relu'))\n",
        "model.add(BatchNormalization())\n",
        "\n",
        "model.add(MaxPooling2D(pool_size=(2, 2)))\n",
        "model.add(Dropout(0.5))\n",
        "model.add(Convolution2D(10, 1, 1))\n",
        "\n",
        "model.add(AveragePooling2D(pool_size = (4,4)))\n",
        "model.add(Flatten())\n",
        "model.add(Activation('softmax'))\n"
      ],
      "execution_count": 14,
      "outputs": [
        {
          "output_type": "stream",
          "text": [
            "WARNING: Logging before flag parsing goes to stderr.\n",
            "W0719 08:43:38.914800 140423590455168 deprecation_wrapper.py:119] From /usr/local/lib/python3.6/dist-packages/keras/backend/tensorflow_backend.py:74: The name tf.get_default_graph is deprecated. Please use tf.compat.v1.get_default_graph instead.\n",
            "\n",
            "/usr/local/lib/python3.6/dist-packages/ipykernel_launcher.py:2: UserWarning: Update your `Conv2D` call to the Keras 2 API: `Conv2D(32, (3, 3), kernel_regularizer=<keras.reg..., input_shape=(32, 32, 3..., padding=\"same\")`\n",
            "  \n",
            "W0719 08:43:38.932575 140423590455168 deprecation_wrapper.py:119] From /usr/local/lib/python3.6/dist-packages/keras/backend/tensorflow_backend.py:517: The name tf.placeholder is deprecated. Please use tf.compat.v1.placeholder instead.\n",
            "\n",
            "W0719 08:43:38.935365 140423590455168 deprecation_wrapper.py:119] From /usr/local/lib/python3.6/dist-packages/keras/backend/tensorflow_backend.py:4138: The name tf.random_uniform is deprecated. Please use tf.random.uniform instead.\n",
            "\n",
            "W0719 08:43:38.966692 140423590455168 deprecation_wrapper.py:119] From /usr/local/lib/python3.6/dist-packages/keras/backend/tensorflow_backend.py:174: The name tf.get_default_session is deprecated. Please use tf.compat.v1.get_default_session instead.\n",
            "\n",
            "W0719 08:43:38.967605 140423590455168 deprecation_wrapper.py:119] From /usr/local/lib/python3.6/dist-packages/keras/backend/tensorflow_backend.py:181: The name tf.ConfigProto is deprecated. Please use tf.compat.v1.ConfigProto instead.\n",
            "\n",
            "W0719 08:43:39.576206 140423590455168 deprecation_wrapper.py:119] From /usr/local/lib/python3.6/dist-packages/keras/backend/tensorflow_backend.py:1834: The name tf.nn.fused_batch_norm is deprecated. Please use tf.compat.v1.nn.fused_batch_norm instead.\n",
            "\n",
            "/usr/local/lib/python3.6/dist-packages/ipykernel_launcher.py:6: UserWarning: Update your `Conv2D` call to the Keras 2 API: `Conv2D(64, (3, 3), kernel_regularizer=<keras.reg..., padding=\"same\")`\n",
            "  \n",
            "W0719 08:43:39.834454 140423590455168 deprecation_wrapper.py:119] From /usr/local/lib/python3.6/dist-packages/keras/backend/tensorflow_backend.py:3976: The name tf.nn.max_pool is deprecated. Please use tf.nn.max_pool2d instead.\n",
            "\n",
            "W0719 08:43:39.843081 140423590455168 deprecation.py:506] From /usr/local/lib/python3.6/dist-packages/keras/backend/tensorflow_backend.py:3445: calling dropout (from tensorflow.python.ops.nn_ops) with keep_prob is deprecated and will be removed in a future version.\n",
            "Instructions for updating:\n",
            "Please use `rate` instead of `keep_prob`. Rate should be set to `rate = 1 - keep_prob`.\n",
            "/usr/local/lib/python3.6/dist-packages/ipykernel_launcher.py:12: UserWarning: Update your `Conv2D` call to the Keras 2 API: `Conv2D(32, (1, 1))`\n",
            "  if sys.path[0] == '':\n",
            "/usr/local/lib/python3.6/dist-packages/ipykernel_launcher.py:15: UserWarning: Update your `Conv2D` call to the Keras 2 API: `Conv2D(64, (3, 3), kernel_regularizer=<keras.reg..., padding=\"same\")`\n",
            "  from ipykernel import kernelapp as app\n",
            "/usr/local/lib/python3.6/dist-packages/ipykernel_launcher.py:19: UserWarning: Update your `Conv2D` call to the Keras 2 API: `Conv2D(128, (3, 3), kernel_regularizer=<keras.reg..., padding=\"same\")`\n",
            "/usr/local/lib/python3.6/dist-packages/ipykernel_launcher.py:25: UserWarning: Update your `Conv2D` call to the Keras 2 API: `Conv2D(32, (1, 1))`\n",
            "/usr/local/lib/python3.6/dist-packages/ipykernel_launcher.py:28: UserWarning: Update your `Conv2D` call to the Keras 2 API: `Conv2D(128, (3, 3), kernel_regularizer=<keras.reg..., padding=\"same\")`\n",
            "/usr/local/lib/python3.6/dist-packages/ipykernel_launcher.py:32: UserWarning: Update your `Conv2D` call to the Keras 2 API: `Conv2D(256, (3, 3), kernel_regularizer=<keras.reg..., name=\"Grad_CAM\", padding=\"same\")`\n",
            "/usr/local/lib/python3.6/dist-packages/ipykernel_launcher.py:38: UserWarning: Update your `Conv2D` call to the Keras 2 API: `Conv2D(10, (1, 1))`\n",
            "W0719 08:43:40.272760 140423590455168 deprecation_wrapper.py:119] From /usr/local/lib/python3.6/dist-packages/keras/backend/tensorflow_backend.py:3980: The name tf.nn.avg_pool is deprecated. Please use tf.nn.avg_pool2d instead.\n",
            "\n"
          ],
          "name": "stderr"
        }
      ]
    },
    {
      "cell_type": "code",
      "metadata": {
        "id": "QAbhttjB8KCY",
        "colab_type": "code",
        "outputId": "c479095f-0039-4505-b837-6fafd8e1b4fe",
        "colab": {
          "base_uri": "https://localhost:8080/",
          "height": 1000
        }
      },
      "source": [
        "from keras.optimizers import SGD\n",
        "opt = SGD(lr=1e-6, momentum=0.9)\n",
        "\n",
        "# Compile the model\n",
        "model.compile(optimizer=opt, loss='categorical_crossentropy', metrics=['accuracy'])\n",
        "model.summary()"
      ],
      "execution_count": 15,
      "outputs": [
        {
          "output_type": "stream",
          "text": [
            "W0719 08:43:40.305750 140423590455168 deprecation_wrapper.py:119] From /usr/local/lib/python3.6/dist-packages/keras/optimizers.py:790: The name tf.train.Optimizer is deprecated. Please use tf.compat.v1.train.Optimizer instead.\n",
            "\n"
          ],
          "name": "stderr"
        },
        {
          "output_type": "stream",
          "text": [
            "_________________________________________________________________\n",
            "Layer (type)                 Output Shape              Param #   \n",
            "=================================================================\n",
            "conv2d_1 (Conv2D)            (None, 32, 32, 32)        896       \n",
            "_________________________________________________________________\n",
            "activation_1 (Activation)    (None, 32, 32, 32)        0         \n",
            "_________________________________________________________________\n",
            "batch_normalization_1 (Batch (None, 32, 32, 32)        128       \n",
            "_________________________________________________________________\n",
            "conv2d_2 (Conv2D)            (None, 32, 32, 64)        18496     \n",
            "_________________________________________________________________\n",
            "activation_2 (Activation)    (None, 32, 32, 64)        0         \n",
            "_________________________________________________________________\n",
            "batch_normalization_2 (Batch (None, 32, 32, 64)        256       \n",
            "_________________________________________________________________\n",
            "max_pooling2d_1 (MaxPooling2 (None, 16, 16, 64)        0         \n",
            "_________________________________________________________________\n",
            "dropout_1 (Dropout)          (None, 16, 16, 64)        0         \n",
            "_________________________________________________________________\n",
            "conv2d_3 (Conv2D)            (None, 16, 16, 32)        2080      \n",
            "_________________________________________________________________\n",
            "conv2d_4 (Conv2D)            (None, 16, 16, 64)        18496     \n",
            "_________________________________________________________________\n",
            "activation_3 (Activation)    (None, 16, 16, 64)        0         \n",
            "_________________________________________________________________\n",
            "batch_normalization_3 (Batch (None, 16, 16, 64)        256       \n",
            "_________________________________________________________________\n",
            "conv2d_5 (Conv2D)            (None, 16, 16, 128)       73856     \n",
            "_________________________________________________________________\n",
            "activation_4 (Activation)    (None, 16, 16, 128)       0         \n",
            "_________________________________________________________________\n",
            "batch_normalization_4 (Batch (None, 16, 16, 128)       512       \n",
            "_________________________________________________________________\n",
            "max_pooling2d_2 (MaxPooling2 (None, 8, 8, 128)         0         \n",
            "_________________________________________________________________\n",
            "dropout_2 (Dropout)          (None, 8, 8, 128)         0         \n",
            "_________________________________________________________________\n",
            "conv2d_6 (Conv2D)            (None, 8, 8, 32)          4128      \n",
            "_________________________________________________________________\n",
            "conv2d_7 (Conv2D)            (None, 8, 8, 128)         36992     \n",
            "_________________________________________________________________\n",
            "activation_5 (Activation)    (None, 8, 8, 128)         0         \n",
            "_________________________________________________________________\n",
            "batch_normalization_5 (Batch (None, 8, 8, 128)         512       \n",
            "_________________________________________________________________\n",
            "Grad_CAM (Conv2D)            (None, 8, 8, 256)         295168    \n",
            "_________________________________________________________________\n",
            "activation_6 (Activation)    (None, 8, 8, 256)         0         \n",
            "_________________________________________________________________\n",
            "batch_normalization_6 (Batch (None, 8, 8, 256)         1024      \n",
            "_________________________________________________________________\n",
            "max_pooling2d_3 (MaxPooling2 (None, 4, 4, 256)         0         \n",
            "_________________________________________________________________\n",
            "dropout_3 (Dropout)          (None, 4, 4, 256)         0         \n",
            "_________________________________________________________________\n",
            "conv2d_8 (Conv2D)            (None, 4, 4, 10)          2570      \n",
            "_________________________________________________________________\n",
            "average_pooling2d_1 (Average (None, 1, 1, 10)          0         \n",
            "_________________________________________________________________\n",
            "flatten_1 (Flatten)          (None, 10)                0         \n",
            "_________________________________________________________________\n",
            "activation_7 (Activation)    (None, 10)                0         \n",
            "=================================================================\n",
            "Total params: 455,370\n",
            "Trainable params: 454,026\n",
            "Non-trainable params: 1,344\n",
            "_________________________________________________________________\n"
          ],
          "name": "stdout"
        }
      ]
    },
    {
      "cell_type": "markdown",
      "metadata": {
        "id": "WP6q-76cnDZZ",
        "colab_type": "text"
      },
      "source": [
        "### Finding the optimum learning rate for the model with batch size - 128"
      ]
    },
    {
      "cell_type": "code",
      "metadata": {
        "id": "QE-Lh31Z8cu7",
        "colab_type": "code",
        "outputId": "3272a7a3-972c-4eec-9bd6-d89e52e1bc3b",
        "colab": {
          "base_uri": "https://localhost:8080/",
          "height": 391
        }
      },
      "source": [
        "from keras.preprocessing.image import ImageDataGenerator\n",
        "\n",
        "lr_finder = LRFinder(model)\n",
        "datagen = ImageDataGenerator(zoom_range=0.0, \n",
        "                             horizontal_flip=False,\n",
        "                             preprocessing_function=get_random_eraser(v_l=0, v_h=1, pixel_level=True))\n",
        "lr_finder.find_generator(datagen.flow(X_train, Y_train, batch_size = 128), start_lr=1e-5, end_lr=10, epochs=50, steps_per_epoch=None)\n",
        "#lr_finder.find(train_features, train_labels, start_lr=1e-5, end_lr=10, batch_size=64, epochs=50)\n",
        "lr_finder.plot_loss()"
      ],
      "execution_count": 16,
      "outputs": [
        {
          "output_type": "stream",
          "text": [
            "W0719 08:43:40.900722 140423590455168 deprecation.py:323] From /usr/local/lib/python3.6/dist-packages/tensorflow/python/ops/math_grad.py:1250: add_dispatch_support.<locals>.wrapper (from tensorflow.python.ops.array_ops) is deprecated and will be removed in a future version.\n",
            "Instructions for updating:\n",
            "Use tf.where in 2.0, which has the same broadcast rule as np.where\n"
          ],
          "name": "stderr"
        },
        {
          "output_type": "stream",
          "text": [
            "Epoch 1/50\n",
            "351/391 [=========================>....] - ETA: 1s - loss: 2.2943 - acc: 0.2573"
          ],
          "name": "stdout"
        },
        {
          "output_type": "display_data",
          "data": {
            "image/png": "[encoded data removed]",
            "text/plain": [
              "<Figure size 432x288 with 1 Axes>"
            ]
          },
          "metadata": {
            "tags": []
          }
        }
      ]
    },
    {
      "cell_type": "code",
      "metadata": {
        "id": "cH91EOzL-5L8",
        "colab_type": "code",
        "outputId": "04ddcb21-e4a3-4419-f04c-21322fae5a4d",
        "colab": {
          "base_uri": "https://localhost:8080/",
          "height": 287
        }
      },
      "source": [
        "lr_finder.plot_loss_change()"
      ],
      "execution_count": 17,
      "outputs": [
        {
          "output_type": "display_data",
          "data": {
            "image/png": "[encoded data removed]",
            "text/plain": [
              "<Figure size 432x288 with 1 Axes>"
            ]
          },
          "metadata": {
            "tags": []
          }
        }
      ]
    },
    {
      "cell_type": "markdown",
      "metadata": {
        "id": "vEQPe6Xumy5A",
        "colab_type": "text"
      },
      "source": [
        "So, from the above graph it looks like the 1e-2 is the optimum learning rate for the model with batch size-128"
      ]
    },
    {
      "cell_type": "markdown",
      "metadata": {
        "id": "4KXJn1pTmr6Z",
        "colab_type": "text"
      },
      "source": [
        "### Defining the same mode again to reset all the parameters"
      ]
    },
    {
      "cell_type": "code",
      "metadata": {
        "id": "6mPp2FTTDGX2",
        "colab_type": "code",
        "outputId": "7471c5d7-c602-4edb-ac74-722155797cb7",
        "colab": {
          "base_uri": "https://localhost:8080/",
          "height": 255
        }
      },
      "source": [
        "# Define the model\n",
        "model = Sequential()\n",
        "model.add(Convolution2D(32, 3, 3, border_mode='same',kernel_regularizer=regularizers.l2(0.0001), input_shape=(32, 32, 3)))\n",
        "model.add(Activation('relu'))\n",
        "model.add(BatchNormalization())\n",
        "\n",
        "model.add(Convolution2D(64, 3, 3,kernel_regularizer=regularizers.l2(0.0001),border_mode='same'))\n",
        "model.add(Activation('relu'))\n",
        "model.add(BatchNormalization())\n",
        "\n",
        "model.add(MaxPooling2D(pool_size=(2, 2)))\n",
        "model.add(Dropout(0.2))\n",
        "model.add(Convolution2D(32, 1, 1))\n",
        "\n",
        "\n",
        "model.add(Convolution2D(64, 3, 3,kernel_regularizer=regularizers.l2(0.0001),border_mode='same'))\n",
        "model.add(Activation('relu'))\n",
        "model.add(BatchNormalization())\n",
        "\n",
        "model.add(Convolution2D(128, 3, 3,kernel_regularizer=regularizers.l2(0.0001),border_mode='same'))\n",
        "model.add(Activation('relu'))\n",
        "model.add(BatchNormalization())\n",
        "\n",
        "model.add(MaxPooling2D(pool_size=(2, 2)))\n",
        "model.add(Dropout(0.3))\n",
        "model.add(Convolution2D(32, 1, 1))\n",
        "\n",
        "\n",
        "model.add(Convolution2D(128, 3, 3,kernel_regularizer=regularizers.l2(0.0001), border_mode='same'))\n",
        "model.add(Activation('relu'))\n",
        "model.add(BatchNormalization())\n",
        "\n",
        "model.add(Convolution2D(256, 3, 3,kernel_regularizer=regularizers.l2(0.0001), border_mode='same', name=\"Grad_CAM\"))\n",
        "model.add(Activation('relu'))\n",
        "model.add(BatchNormalization())\n",
        "\n",
        "model.add(MaxPooling2D(pool_size=(2, 2)))\n",
        "model.add(Dropout(0.5))\n",
        "model.add(Convolution2D(10, 1, 1))\n",
        "\n",
        "model.add(AveragePooling2D(pool_size = (4,4)))\n",
        "model.add(Flatten())\n",
        "model.add(Activation('softmax'))\n"
      ],
      "execution_count": 18,
      "outputs": [
        {
          "output_type": "stream",
          "text": [
            "/usr/local/lib/python3.6/dist-packages/ipykernel_launcher.py:2: UserWarning: Update your `Conv2D` call to the Keras 2 API: `Conv2D(32, (3, 3), kernel_regularizer=<keras.reg..., input_shape=(32, 32, 3..., padding=\"same\")`\n",
            "  \n",
            "/usr/local/lib/python3.6/dist-packages/ipykernel_launcher.py:6: UserWarning: Update your `Conv2D` call to the Keras 2 API: `Conv2D(64, (3, 3), kernel_regularizer=<keras.reg..., padding=\"same\")`\n",
            "  \n",
            "/usr/local/lib/python3.6/dist-packages/ipykernel_launcher.py:12: UserWarning: Update your `Conv2D` call to the Keras 2 API: `Conv2D(32, (1, 1))`\n",
            "  if sys.path[0] == '':\n",
            "/usr/local/lib/python3.6/dist-packages/ipykernel_launcher.py:15: UserWarning: Update your `Conv2D` call to the Keras 2 API: `Conv2D(64, (3, 3), kernel_regularizer=<keras.reg..., padding=\"same\")`\n",
            "  from ipykernel import kernelapp as app\n",
            "/usr/local/lib/python3.6/dist-packages/ipykernel_launcher.py:19: UserWarning: Update your `Conv2D` call to the Keras 2 API: `Conv2D(128, (3, 3), kernel_regularizer=<keras.reg..., padding=\"same\")`\n",
            "/usr/local/lib/python3.6/dist-packages/ipykernel_launcher.py:25: UserWarning: Update your `Conv2D` call to the Keras 2 API: `Conv2D(32, (1, 1))`\n",
            "/usr/local/lib/python3.6/dist-packages/ipykernel_launcher.py:28: UserWarning: Update your `Conv2D` call to the Keras 2 API: `Conv2D(128, (3, 3), kernel_regularizer=<keras.reg..., padding=\"same\")`\n",
            "/usr/local/lib/python3.6/dist-packages/ipykernel_launcher.py:32: UserWarning: Update your `Conv2D` call to the Keras 2 API: `Conv2D(256, (3, 3), kernel_regularizer=<keras.reg..., name=\"Grad_CAM\", padding=\"same\")`\n",
            "/usr/local/lib/python3.6/dist-packages/ipykernel_launcher.py:38: UserWarning: Update your `Conv2D` call to the Keras 2 API: `Conv2D(10, (1, 1))`\n"
          ],
          "name": "stderr"
        }
      ]
    },
    {
      "cell_type": "markdown",
      "metadata": {
        "id": "TUgKzM-iYk12",
        "colab_type": "text"
      },
      "source": [
        "### Compiling model with optimum Learning Rate using SGD optimizer with momentum"
      ]
    },
    {
      "cell_type": "code",
      "metadata": {
        "id": "6g6SIJdSDN7T",
        "colab_type": "code",
        "outputId": "95236740-d278-4ca0-dfff-db1abf724b0c",
        "colab": {
          "base_uri": "https://localhost:8080/",
          "height": 1000
        }
      },
      "source": [
        "from keras.optimizers import SGD\n",
        "opt = SGD(lr=1e-2, momentum=0.9)\n",
        "\n",
        "# Compile the model\n",
        "model.compile(optimizer=opt, loss='categorical_crossentropy', metrics=['accuracy'])\n",
        "model.summary()"
      ],
      "execution_count": 19,
      "outputs": [
        {
          "output_type": "stream",
          "text": [
            "_________________________________________________________________\n",
            "Layer (type)                 Output Shape              Param #   \n",
            "=================================================================\n",
            "conv2d_9 (Conv2D)            (None, 32, 32, 32)        896       \n",
            "_________________________________________________________________\n",
            "activation_8 (Activation)    (None, 32, 32, 32)        0         \n",
            "_________________________________________________________________\n",
            "batch_normalization_7 (Batch (None, 32, 32, 32)        128       \n",
            "_________________________________________________________________\n",
            "conv2d_10 (Conv2D)           (None, 32, 32, 64)        18496     \n",
            "_________________________________________________________________\n",
            "activation_9 (Activation)    (None, 32, 32, 64)        0         \n",
            "_________________________________________________________________\n",
            "batch_normalization_8 (Batch (None, 32, 32, 64)        256       \n",
            "_________________________________________________________________\n",
            "max_pooling2d_4 (MaxPooling2 (None, 16, 16, 64)        0         \n",
            "_________________________________________________________________\n",
            "dropout_4 (Dropout)          (None, 16, 16, 64)        0         \n",
            "_________________________________________________________________\n",
            "conv2d_11 (Conv2D)           (None, 16, 16, 32)        2080      \n",
            "_________________________________________________________________\n",
            "conv2d_12 (Conv2D)           (None, 16, 16, 64)        18496     \n",
            "_________________________________________________________________\n",
            "activation_10 (Activation)   (None, 16, 16, 64)        0         \n",
            "_________________________________________________________________\n",
            "batch_normalization_9 (Batch (None, 16, 16, 64)        256       \n",
            "_________________________________________________________________\n",
            "conv2d_13 (Conv2D)           (None, 16, 16, 128)       73856     \n",
            "_________________________________________________________________\n",
            "activation_11 (Activation)   (None, 16, 16, 128)       0         \n",
            "_________________________________________________________________\n",
            "batch_normalization_10 (Batc (None, 16, 16, 128)       512       \n",
            "_________________________________________________________________\n",
            "max_pooling2d_5 (MaxPooling2 (None, 8, 8, 128)         0         \n",
            "_________________________________________________________________\n",
            "dropout_5 (Dropout)          (None, 8, 8, 128)         0         \n",
            "_________________________________________________________________\n",
            "conv2d_14 (Conv2D)           (None, 8, 8, 32)          4128      \n",
            "_________________________________________________________________\n",
            "conv2d_15 (Conv2D)           (None, 8, 8, 128)         36992     \n",
            "_________________________________________________________________\n",
            "activation_12 (Activation)   (None, 8, 8, 128)         0         \n",
            "_________________________________________________________________\n",
            "batch_normalization_11 (Batc (None, 8, 8, 128)         512       \n",
            "_________________________________________________________________\n",
            "Grad_CAM (Conv2D)            (None, 8, 8, 256)         295168    \n",
            "_________________________________________________________________\n",
            "activation_13 (Activation)   (None, 8, 8, 256)         0         \n",
            "_________________________________________________________________\n",
            "batch_normalization_12 (Batc (None, 8, 8, 256)         1024      \n",
            "_________________________________________________________________\n",
            "max_pooling2d_6 (MaxPooling2 (None, 4, 4, 256)         0         \n",
            "_________________________________________________________________\n",
            "dropout_6 (Dropout)          (None, 4, 4, 256)         0         \n",
            "_________________________________________________________________\n",
            "conv2d_16 (Conv2D)           (None, 4, 4, 10)          2570      \n",
            "_________________________________________________________________\n",
            "average_pooling2d_2 (Average (None, 1, 1, 10)          0         \n",
            "_________________________________________________________________\n",
            "flatten_2 (Flatten)          (None, 10)                0         \n",
            "_________________________________________________________________\n",
            "activation_14 (Activation)   (None, 10)                0         \n",
            "=================================================================\n",
            "Total params: 455,370\n",
            "Trainable params: 454,026\n",
            "Non-trainable params: 1,344\n",
            "_________________________________________________________________\n"
          ],
          "name": "stdout"
        }
      ]
    },
    {
      "cell_type": "markdown",
      "metadata": {
        "id": "Mf0LhPEGYvCR",
        "colab_type": "text"
      },
      "source": [
        "### While runing the model I'm running with otimum LR and also defined ReduceLROnPlateau (with patience = 7). So, overally we will get faster learning and when there it more increase in validation accuracy for more than 7 epochs then reducing the Learning Rate."
      ]
    },
    {
      "cell_type": "code",
      "metadata": {
        "id": "RBwqRY5qlHKE",
        "colab_type": "code",
        "outputId": "939bc725-334e-4203-9c34-952a2cb9bfc9",
        "colab": {
          "base_uri": "https://localhost:8080/",
          "height": 1000
        }
      },
      "source": [
        "from keras.preprocessing.image import ImageDataGenerator\n",
        "from keras.callbacks import ModelCheckpoint,ReduceLROnPlateau\n",
        "\n",
        "checkpointer = ModelCheckpoint(filepath='../content/drive/My Drive/EVA/model_after.h5', monitor='val_acc', mode='auto', verbose = 1, save_best_only=True)\n",
        "lr_reducer = ReduceLROnPlateau(monitor='val_acc',factor=0.8, cooldown=0, patience=7, min_lr=0.5e-9,verbose = 1)\n",
        "\n",
        "datagen = ImageDataGenerator(zoom_range=0.0, \n",
        "                             horizontal_flip=False,\n",
        "                             preprocessing_function=get_random_eraser(v_l=0, v_h=1, pixel_level=True))\n",
        "\n",
        "\n",
        "# train the model\n",
        "start = time.time()\n",
        "# Train the model\n",
        "model_info = model.fit_generator(datagen.flow(X_train, Y_train, batch_size = 128),\n",
        "                                 samples_per_epoch = train_features.shape[0], nb_epoch = 100, \n",
        "                                 validation_data = (X_test, Y_test), callbacks=[checkpointer, lr_reducer],verbose=1)\n",
        "end = time.time()\n",
        "print (\"Model took %0.2f seconds to train\"%(end - start))\n",
        "# plot model history\n",
        "plot_model_history(model_info)\n",
        "# compute test accuracy\n",
        "print (\"Accuracy on test data is: %0.2f\"%accuracy(X_test, Y_test, model))"
      ],
      "execution_count": 20,
      "outputs": [
        {
          "output_type": "stream",
          "text": [
            "/usr/local/lib/python3.6/dist-packages/ipykernel_launcher.py:17: UserWarning: The semantics of the Keras 2 argument `steps_per_epoch` is not the same as the Keras 1 argument `samples_per_epoch`. `steps_per_epoch` is the number of batches to draw from the generator at each epoch. Basically steps_per_epoch = samples_per_epoch/batch_size. Similarly `nb_val_samples`->`validation_steps` and `val_samples`->`steps` arguments have changed. Update your method calls accordingly.\n",
            "/usr/local/lib/python3.6/dist-packages/ipykernel_launcher.py:17: UserWarning: Update your `fit_generator` call to the Keras 2 API: `fit_generator(<keras_pre..., validation_data=(array([[[..., callbacks=[<keras.ca..., verbose=1, steps_per_epoch=390, epochs=100)`\n"
          ],
          "name": "stderr"
        },
        {
          "output_type": "stream",
          "text": [
            "Epoch 1/100\n",
            "390/390 [==============================] - 13s 33ms/step - loss: 1.5406 - acc: 0.4593 - val_loss: 1.1660 - val_acc: 0.5979\n",
            "\n",
            "Epoch 00001: val_acc improved from -inf to 0.59790, saving model to ../content/drive/My Drive/EVA/model_after.h5\n",
            "Epoch 2/100\n",
            "390/390 [==============================] - 12s 30ms/step - loss: 1.1783 - acc: 0.5925 - val_loss: 1.0841 - val_acc: 0.6340\n",
            "\n",
            "Epoch 00002: val_acc improved from 0.59790 to 0.63400, saving model to ../content/drive/My Drive/EVA/model_after.h5\n",
            "Epoch 3/100\n",
            "390/390 [==============================] - 12s 30ms/step - loss: 1.0384 - acc: 0.6440 - val_loss: 0.9477 - val_acc: 0.6824\n",
            "\n",
            "Epoch 00003: val_acc improved from 0.63400 to 0.68240, saving model to ../content/drive/My Drive/EVA/model_after.h5\n",
            "Epoch 4/100\n",
            "390/390 [==============================] - 12s 30ms/step - loss: 0.9462 - acc: 0.6793 - val_loss: 0.8437 - val_acc: 0.7233\n",
            "\n",
            "Epoch 00004: val_acc improved from 0.68240 to 0.72330, saving model to ../content/drive/My Drive/EVA/model_after.h5\n",
            "Epoch 5/100\n",
            "390/390 [==============================] - 12s 30ms/step - loss: 0.8706 - acc: 0.7099 - val_loss: 0.8058 - val_acc: 0.7342\n",
            "\n",
            "Epoch 00005: val_acc improved from 0.72330 to 0.73420, saving model to ../content/drive/My Drive/EVA/model_after.h5\n",
            "Epoch 6/100\n",
            "390/390 [==============================] - 12s 30ms/step - loss: 0.8181 - acc: 0.7278 - val_loss: 0.7564 - val_acc: 0.7528\n",
            "\n",
            "Epoch 00006: val_acc improved from 0.73420 to 0.75280, saving model to ../content/drive/My Drive/EVA/model_after.h5\n",
            "Epoch 7/100\n",
            "390/390 [==============================] - 12s 30ms/step - loss: 0.7691 - acc: 0.7445 - val_loss: 0.7007 - val_acc: 0.7791\n",
            "\n",
            "Epoch 00007: val_acc improved from 0.75280 to 0.77910, saving model to ../content/drive/My Drive/EVA/model_after.h5\n",
            "Epoch 8/100\n",
            "390/390 [==============================] - 12s 30ms/step - loss: 0.7342 - acc: 0.7587 - val_loss: 0.6547 - val_acc: 0.7929\n",
            "\n",
            "Epoch 00008: val_acc improved from 0.77910 to 0.79290, saving model to ../content/drive/My Drive/EVA/model_after.h5\n",
            "Epoch 9/100\n",
            "390/390 [==============================] - 12s 30ms/step - loss: 0.7041 - acc: 0.7696 - val_loss: 0.6420 - val_acc: 0.7934\n",
            "\n",
            "Epoch 00009: val_acc improved from 0.79290 to 0.79340, saving model to ../content/drive/My Drive/EVA/model_after.h5\n",
            "Epoch 10/100\n",
            "390/390 [==============================] - 12s 30ms/step - loss: 0.6737 - acc: 0.7816 - val_loss: 0.6448 - val_acc: 0.7952\n",
            "\n",
            "Epoch 00010: val_acc improved from 0.79340 to 0.79520, saving model to ../content/drive/My Drive/EVA/model_after.h5\n",
            "Epoch 11/100\n",
            "390/390 [==============================] - 12s 30ms/step - loss: 0.6512 - acc: 0.7905 - val_loss: 0.6096 - val_acc: 0.8102\n",
            "\n",
            "Epoch 00011: val_acc improved from 0.79520 to 0.81020, saving model to ../content/drive/My Drive/EVA/model_after.h5\n",
            "Epoch 12/100\n",
            "390/390 [==============================] - 12s 30ms/step - loss: 0.6280 - acc: 0.7992 - val_loss: 0.6177 - val_acc: 0.8055\n",
            "\n",
            "Epoch 00012: val_acc did not improve from 0.81020\n",
            "Epoch 13/100\n",
            "390/390 [==============================] - 12s 30ms/step - loss: 0.6123 - acc: 0.8029 - val_loss: 0.6226 - val_acc: 0.8023\n",
            "\n",
            "Epoch 00013: val_acc did not improve from 0.81020\n",
            "Epoch 14/100\n",
            "390/390 [==============================] - 12s 30ms/step - loss: 0.5879 - acc: 0.8141 - val_loss: 0.6060 - val_acc: 0.8134\n",
            "\n",
            "Epoch 00014: val_acc improved from 0.81020 to 0.81340, saving model to ../content/drive/My Drive/EVA/model_after.h5\n",
            "Epoch 15/100\n",
            "390/390 [==============================] - 12s 30ms/step - loss: 0.5762 - acc: 0.8183 - val_loss: 0.6036 - val_acc: 0.8179\n",
            "\n",
            "Epoch 00015: val_acc improved from 0.81340 to 0.81790, saving model to ../content/drive/My Drive/EVA/model_after.h5\n",
            "Epoch 16/100\n",
            "390/390 [==============================] - 12s 31ms/step - loss: 0.5567 - acc: 0.8252 - val_loss: 0.5713 - val_acc: 0.8285\n",
            "\n",
            "Epoch 00016: val_acc improved from 0.81790 to 0.82850, saving model to ../content/drive/My Drive/EVA/model_after.h5\n",
            "Epoch 17/100\n",
            "390/390 [==============================] - 12s 30ms/step - loss: 0.5446 - acc: 0.8295 - val_loss: 0.5667 - val_acc: 0.8262\n",
            "\n",
            "Epoch 00017: val_acc did not improve from 0.82850\n",
            "Epoch 18/100\n",
            "390/390 [==============================] - 12s 30ms/step - loss: 0.5293 - acc: 0.8344 - val_loss: 0.5738 - val_acc: 0.8272\n",
            "\n",
            "Epoch 00018: val_acc did not improve from 0.82850\n",
            "Epoch 19/100\n",
            "390/390 [==============================] - 12s 30ms/step - loss: 0.5173 - acc: 0.8377 - val_loss: 0.5417 - val_acc: 0.8366\n",
            "\n",
            "Epoch 00019: val_acc improved from 0.82850 to 0.83660, saving model to ../content/drive/My Drive/EVA/model_after.h5\n",
            "Epoch 20/100\n",
            "390/390 [==============================] - 12s 30ms/step - loss: 0.5134 - acc: 0.8390 - val_loss: 0.5458 - val_acc: 0.8408\n",
            "\n",
            "Epoch 00020: val_acc improved from 0.83660 to 0.84080, saving model to ../content/drive/My Drive/EVA/model_after.h5\n",
            "Epoch 21/100\n",
            "390/390 [==============================] - 12s 30ms/step - loss: 0.5012 - acc: 0.8454 - val_loss: 0.5649 - val_acc: 0.8298\n",
            "\n",
            "Epoch 00021: val_acc did not improve from 0.84080\n",
            "Epoch 22/100\n",
            "390/390 [==============================] - 12s 30ms/step - loss: 0.4903 - acc: 0.8501 - val_loss: 0.5305 - val_acc: 0.8446\n",
            "\n",
            "Epoch 00022: val_acc improved from 0.84080 to 0.84460, saving model to ../content/drive/My Drive/EVA/model_after.h5\n",
            "Epoch 23/100\n",
            "390/390 [==============================] - 12s 30ms/step - loss: 0.4883 - acc: 0.8492 - val_loss: 0.5435 - val_acc: 0.8414\n",
            "\n",
            "Epoch 00023: val_acc did not improve from 0.84460\n",
            "Epoch 24/100\n",
            "390/390 [==============================] - 12s 30ms/step - loss: 0.4731 - acc: 0.8572 - val_loss: 0.5199 - val_acc: 0.8497\n",
            "\n",
            "Epoch 00024: val_acc improved from 0.84460 to 0.84970, saving model to ../content/drive/My Drive/EVA/model_after.h5\n",
            "Epoch 25/100\n",
            "390/390 [==============================] - 12s 30ms/step - loss: 0.4692 - acc: 0.8570 - val_loss: 0.5902 - val_acc: 0.8335\n",
            "\n",
            "Epoch 00025: val_acc did not improve from 0.84970\n",
            "Epoch 26/100\n",
            "390/390 [==============================] - 12s 30ms/step - loss: 0.4569 - acc: 0.8621 - val_loss: 0.5359 - val_acc: 0.8484\n",
            "\n",
            "Epoch 00026: val_acc did not improve from 0.84970\n",
            "Epoch 27/100\n",
            "390/390 [==============================] - 12s 30ms/step - loss: 0.4491 - acc: 0.8648 - val_loss: 0.5105 - val_acc: 0.8521\n",
            "\n",
            "Epoch 00027: val_acc improved from 0.84970 to 0.85210, saving model to ../content/drive/My Drive/EVA/model_after.h5\n",
            "Epoch 28/100\n",
            "390/390 [==============================] - 12s 30ms/step - loss: 0.4434 - acc: 0.8664 - val_loss: 0.5338 - val_acc: 0.8498\n",
            "\n",
            "Epoch 00028: val_acc did not improve from 0.85210\n",
            "Epoch 29/100\n",
            "390/390 [==============================] - 12s 30ms/step - loss: 0.4411 - acc: 0.8676 - val_loss: 0.5437 - val_acc: 0.8448\n",
            "\n",
            "Epoch 00029: val_acc did not improve from 0.85210\n",
            "Epoch 30/100\n",
            "390/390 [==============================] - 12s 30ms/step - loss: 0.4377 - acc: 0.8692 - val_loss: 0.6153 - val_acc: 0.8285\n",
            "\n",
            "Epoch 00030: val_acc did not improve from 0.85210\n",
            "Epoch 31/100\n",
            "390/390 [==============================] - 12s 30ms/step - loss: 0.4289 - acc: 0.8731 - val_loss: 0.5618 - val_acc: 0.8427\n",
            "\n",
            "Epoch 00031: val_acc did not improve from 0.85210\n",
            "Epoch 32/100\n",
            "390/390 [==============================] - 12s 30ms/step - loss: 0.4226 - acc: 0.8754 - val_loss: 0.5353 - val_acc: 0.8531\n",
            "\n",
            "Epoch 00032: val_acc improved from 0.85210 to 0.85310, saving model to ../content/drive/My Drive/EVA/model_after.h5\n",
            "Epoch 33/100\n",
            "390/390 [==============================] - 12s 30ms/step - loss: 0.4177 - acc: 0.8777 - val_loss: 0.5288 - val_acc: 0.8586\n",
            "\n",
            "Epoch 00033: val_acc improved from 0.85310 to 0.85860, saving model to ../content/drive/My Drive/EVA/model_after.h5\n",
            "Epoch 34/100\n",
            "390/390 [==============================] - 12s 30ms/step - loss: 0.4111 - acc: 0.8801 - val_loss: 0.5456 - val_acc: 0.8503\n",
            "\n",
            "Epoch 00034: val_acc did not improve from 0.85860\n",
            "Epoch 35/100\n",
            "390/390 [==============================] - 12s 30ms/step - loss: 0.4099 - acc: 0.8814 - val_loss: 0.5229 - val_acc: 0.8575\n",
            "\n",
            "Epoch 00035: val_acc did not improve from 0.85860\n",
            "Epoch 36/100\n",
            "390/390 [==============================] - 12s 30ms/step - loss: 0.4060 - acc: 0.8835 - val_loss: 0.5362 - val_acc: 0.8563\n",
            "\n",
            "Epoch 00036: val_acc did not improve from 0.85860\n",
            "Epoch 37/100\n",
            "390/390 [==============================] - 12s 30ms/step - loss: 0.4015 - acc: 0.8866 - val_loss: 0.5339 - val_acc: 0.8565\n",
            "\n",
            "Epoch 00037: val_acc did not improve from 0.85860\n",
            "Epoch 38/100\n",
            "390/390 [==============================] - 12s 30ms/step - loss: 0.3989 - acc: 0.8859 - val_loss: 0.5328 - val_acc: 0.8562\n",
            "\n",
            "Epoch 00038: val_acc did not improve from 0.85860\n",
            "Epoch 39/100\n",
            "390/390 [==============================] - 12s 30ms/step - loss: 0.3951 - acc: 0.8886 - val_loss: 0.5384 - val_acc: 0.8601\n",
            "\n",
            "Epoch 00039: val_acc improved from 0.85860 to 0.86010, saving model to ../content/drive/My Drive/EVA/model_after.h5\n",
            "Epoch 40/100\n",
            "390/390 [==============================] - 12s 30ms/step - loss: 0.3937 - acc: 0.8894 - val_loss: 0.5354 - val_acc: 0.8533\n",
            "\n",
            "Epoch 00040: val_acc did not improve from 0.86010\n",
            "Epoch 41/100\n",
            "390/390 [==============================] - 12s 30ms/step - loss: 0.3891 - acc: 0.8898 - val_loss: 0.5381 - val_acc: 0.8597\n",
            "\n",
            "Epoch 00041: val_acc did not improve from 0.86010\n",
            "Epoch 42/100\n",
            "390/390 [==============================] - 12s 30ms/step - loss: 0.3821 - acc: 0.8944 - val_loss: 0.5385 - val_acc: 0.8581\n",
            "\n",
            "Epoch 00042: val_acc did not improve from 0.86010\n",
            "Epoch 43/100\n",
            "390/390 [==============================] - 12s 30ms/step - loss: 0.3864 - acc: 0.8944 - val_loss: 0.5563 - val_acc: 0.8560\n",
            "\n",
            "Epoch 00043: val_acc did not improve from 0.86010\n",
            "Epoch 44/100\n",
            "390/390 [==============================] - 12s 30ms/step - loss: 0.3765 - acc: 0.8966 - val_loss: 0.5483 - val_acc: 0.8536\n",
            "\n",
            "Epoch 00044: val_acc did not improve from 0.86010\n",
            "Epoch 45/100\n",
            "390/390 [==============================] - 12s 30ms/step - loss: 0.3760 - acc: 0.8955 - val_loss: 0.5360 - val_acc: 0.8585\n",
            "\n",
            "Epoch 00045: val_acc did not improve from 0.86010\n",
            "Epoch 46/100\n",
            "390/390 [==============================] - 12s 30ms/step - loss: 0.3740 - acc: 0.8969 - val_loss: 0.5459 - val_acc: 0.8601\n",
            "\n",
            "Epoch 00046: val_acc did not improve from 0.86010\n",
            "\n",
            "Epoch 00046: ReduceLROnPlateau reducing learning rate to 0.007999999821186066.\n",
            "Epoch 47/100\n",
            "390/390 [==============================] - 12s 30ms/step - loss: 0.3564 - acc: 0.9044 - val_loss: 0.5185 - val_acc: 0.8687\n",
            "\n",
            "Epoch 00047: val_acc improved from 0.86010 to 0.86870, saving model to ../content/drive/My Drive/EVA/model_after.h5\n",
            "Epoch 48/100\n",
            "390/390 [==============================] - 12s 30ms/step - loss: 0.3495 - acc: 0.9070 - val_loss: 0.5215 - val_acc: 0.8677\n",
            "\n",
            "Epoch 00048: val_acc did not improve from 0.86870\n",
            "Epoch 49/100\n",
            "390/390 [==============================] - 12s 30ms/step - loss: 0.3415 - acc: 0.9106 - val_loss: 0.5413 - val_acc: 0.8637\n",
            "\n",
            "Epoch 00049: val_acc did not improve from 0.86870\n",
            "Epoch 50/100\n",
            "390/390 [==============================] - 12s 31ms/step - loss: 0.3403 - acc: 0.9095 - val_loss: 0.5307 - val_acc: 0.8640\n",
            "\n",
            "Epoch 00050: val_acc did not improve from 0.86870\n",
            "Epoch 51/100\n",
            "390/390 [==============================] - 12s 30ms/step - loss: 0.3352 - acc: 0.9119 - val_loss: 0.5172 - val_acc: 0.8672\n",
            "\n",
            "Epoch 00051: val_acc did not improve from 0.86870\n",
            "Epoch 52/100\n",
            "390/390 [==============================] - 12s 30ms/step - loss: 0.3365 - acc: 0.9122 - val_loss: 0.5015 - val_acc: 0.8723\n",
            "\n",
            "Epoch 00052: val_acc improved from 0.86870 to 0.87230, saving model to ../content/drive/My Drive/EVA/model_after.h5\n",
            "Epoch 53/100\n",
            "390/390 [==============================] - 12s 30ms/step - loss: 0.3326 - acc: 0.9128 - val_loss: 0.5275 - val_acc: 0.8649\n",
            "\n",
            "Epoch 00053: val_acc did not improve from 0.87230\n",
            "Epoch 54/100\n",
            "390/390 [==============================] - 12s 30ms/step - loss: 0.3327 - acc: 0.9142 - val_loss: 0.5219 - val_acc: 0.8693\n",
            "\n",
            "Epoch 00054: val_acc did not improve from 0.87230\n",
            "Epoch 55/100\n",
            "390/390 [==============================] - 12s 30ms/step - loss: 0.3321 - acc: 0.9126 - val_loss: 0.5179 - val_acc: 0.8734\n",
            "\n",
            "Epoch 00055: val_acc improved from 0.87230 to 0.87340, saving model to ../content/drive/My Drive/EVA/model_after.h5\n",
            "Epoch 56/100\n",
            "390/390 [==============================] - 12s 30ms/step - loss: 0.3216 - acc: 0.9171 - val_loss: 0.5077 - val_acc: 0.8724\n",
            "\n",
            "Epoch 00056: val_acc did not improve from 0.87340\n",
            "Epoch 57/100\n",
            "390/390 [==============================] - 12s 30ms/step - loss: 0.3323 - acc: 0.9130 - val_loss: 0.5292 - val_acc: 0.8676\n",
            "\n",
            "Epoch 00057: val_acc did not improve from 0.87340\n",
            "Epoch 58/100\n",
            "390/390 [==============================] - 12s 30ms/step - loss: 0.3254 - acc: 0.9174 - val_loss: 0.5192 - val_acc: 0.8682\n",
            "\n",
            "Epoch 00058: val_acc did not improve from 0.87340\n",
            "Epoch 59/100\n",
            "390/390 [==============================] - 12s 30ms/step - loss: 0.3229 - acc: 0.9148 - val_loss: 0.5187 - val_acc: 0.8758\n",
            "\n",
            "Epoch 00059: val_acc improved from 0.87340 to 0.87580, saving model to ../content/drive/My Drive/EVA/model_after.h5\n",
            "Epoch 60/100\n",
            "390/390 [==============================] - 12s 30ms/step - loss: 0.3251 - acc: 0.9169 - val_loss: 0.5088 - val_acc: 0.8773\n",
            "\n",
            "Epoch 00060: val_acc improved from 0.87580 to 0.87730, saving model to ../content/drive/My Drive/EVA/model_after.h5\n",
            "Epoch 61/100\n",
            "390/390 [==============================] - 12s 30ms/step - loss: 0.3241 - acc: 0.9175 - val_loss: 0.5134 - val_acc: 0.8700\n",
            "\n",
            "Epoch 00061: val_acc did not improve from 0.87730\n",
            "Epoch 62/100\n",
            "390/390 [==============================] - 12s 30ms/step - loss: 0.3215 - acc: 0.9182 - val_loss: 0.5004 - val_acc: 0.8743\n",
            "\n",
            "Epoch 00062: val_acc did not improve from 0.87730\n",
            "Epoch 63/100\n",
            "390/390 [==============================] - 12s 30ms/step - loss: 0.3243 - acc: 0.9166 - val_loss: 0.5283 - val_acc: 0.8728\n",
            "\n",
            "Epoch 00063: val_acc did not improve from 0.87730\n",
            "Epoch 64/100\n",
            "390/390 [==============================] - 12s 30ms/step - loss: 0.3246 - acc: 0.9178 - val_loss: 0.5014 - val_acc: 0.8737\n",
            "\n",
            "Epoch 00064: val_acc did not improve from 0.87730\n",
            "Epoch 65/100\n",
            "390/390 [==============================] - 12s 30ms/step - loss: 0.3191 - acc: 0.9189 - val_loss: 0.5154 - val_acc: 0.8737\n",
            "\n",
            "Epoch 00065: val_acc did not improve from 0.87730\n",
            "Epoch 66/100\n",
            "390/390 [==============================] - 12s 30ms/step - loss: 0.3250 - acc: 0.9169 - val_loss: 0.5449 - val_acc: 0.8667\n",
            "\n",
            "Epoch 00066: val_acc did not improve from 0.87730\n",
            "Epoch 67/100\n",
            "390/390 [==============================] - 12s 30ms/step - loss: 0.3138 - acc: 0.9221 - val_loss: 0.5501 - val_acc: 0.8678\n",
            "\n",
            "Epoch 00067: val_acc did not improve from 0.87730\n",
            "\n",
            "Epoch 00067: ReduceLROnPlateau reducing learning rate to 0.006399999558925629.\n",
            "Epoch 68/100\n",
            "390/390 [==============================] - 12s 30ms/step - loss: 0.3038 - acc: 0.9257 - val_loss: 0.4946 - val_acc: 0.8799\n",
            "\n",
            "Epoch 00068: val_acc improved from 0.87730 to 0.87990, saving model to ../content/drive/My Drive/EVA/model_after.h5\n",
            "Epoch 69/100\n",
            "390/390 [==============================] - 12s 30ms/step - loss: 0.2995 - acc: 0.9270 - val_loss: 0.5179 - val_acc: 0.8737\n",
            "\n",
            "Epoch 00069: val_acc did not improve from 0.87990\n",
            "Epoch 70/100\n",
            "390/390 [==============================] - 12s 30ms/step - loss: 0.2936 - acc: 0.9284 - val_loss: 0.5281 - val_acc: 0.8773\n",
            "\n",
            "Epoch 00070: val_acc did not improve from 0.87990\n",
            "Epoch 71/100\n",
            "390/390 [==============================] - 12s 30ms/step - loss: 0.2934 - acc: 0.9292 - val_loss: 0.5114 - val_acc: 0.8818\n",
            "\n",
            "Epoch 00071: val_acc improved from 0.87990 to 0.88180, saving model to ../content/drive/My Drive/EVA/model_after.h5\n",
            "Epoch 72/100\n",
            "390/390 [==============================] - 12s 30ms/step - loss: 0.2889 - acc: 0.9301 - val_loss: 0.4976 - val_acc: 0.8820\n",
            "\n",
            "Epoch 00072: val_acc improved from 0.88180 to 0.88200, saving model to ../content/drive/My Drive/EVA/model_after.h5\n",
            "Epoch 73/100\n",
            "390/390 [==============================] - 12s 30ms/step - loss: 0.2893 - acc: 0.9308 - val_loss: 0.5103 - val_acc: 0.8768\n",
            "\n",
            "Epoch 00073: val_acc did not improve from 0.88200\n",
            "Epoch 74/100\n",
            "390/390 [==============================] - 12s 30ms/step - loss: 0.2868 - acc: 0.9302 - val_loss: 0.5344 - val_acc: 0.8739\n",
            "\n",
            "Epoch 00074: val_acc did not improve from 0.88200\n",
            "Epoch 75/100\n",
            "390/390 [==============================] - 12s 30ms/step - loss: 0.2890 - acc: 0.9304 - val_loss: 0.5376 - val_acc: 0.8698\n",
            "\n",
            "Epoch 00075: val_acc did not improve from 0.88200\n",
            "Epoch 76/100\n",
            "390/390 [==============================] - 12s 30ms/step - loss: 0.2892 - acc: 0.9306 - val_loss: 0.5191 - val_acc: 0.8805\n",
            "\n",
            "Epoch 00076: val_acc did not improve from 0.88200\n",
            "Epoch 77/100\n",
            "390/390 [==============================] - 12s 30ms/step - loss: 0.2891 - acc: 0.9300 - val_loss: 0.5371 - val_acc: 0.8745\n",
            "\n",
            "Epoch 00077: val_acc did not improve from 0.88200\n",
            "Epoch 78/100\n",
            "390/390 [==============================] - 12s 30ms/step - loss: 0.2818 - acc: 0.9328 - val_loss: 0.5239 - val_acc: 0.8800\n",
            "\n",
            "Epoch 00078: val_acc did not improve from 0.88200\n",
            "Epoch 79/100\n",
            "390/390 [==============================] - 12s 30ms/step - loss: 0.2808 - acc: 0.9328 - val_loss: 0.5214 - val_acc: 0.8748\n",
            "\n",
            "Epoch 00079: val_acc did not improve from 0.88200\n",
            "\n",
            "Epoch 00079: ReduceLROnPlateau reducing learning rate to 0.0051199994981288915.\n",
            "Epoch 80/100\n",
            "390/390 [==============================] - 12s 30ms/step - loss: 0.2762 - acc: 0.9336 - val_loss: 0.5324 - val_acc: 0.8740\n",
            "\n",
            "Epoch 00080: val_acc did not improve from 0.88200\n",
            "Epoch 81/100\n",
            "390/390 [==============================] - 12s 30ms/step - loss: 0.2691 - acc: 0.9368 - val_loss: 0.5198 - val_acc: 0.8811\n",
            "\n",
            "Epoch 00081: val_acc did not improve from 0.88200\n",
            "Epoch 82/100\n",
            "390/390 [==============================] - 12s 30ms/step - loss: 0.2675 - acc: 0.9380 - val_loss: 0.4998 - val_acc: 0.8801\n",
            "\n",
            "Epoch 00082: val_acc did not improve from 0.88200\n",
            "Epoch 83/100\n",
            "390/390 [==============================] - 12s 30ms/step - loss: 0.2660 - acc: 0.9390 - val_loss: 0.5052 - val_acc: 0.8822\n",
            "\n",
            "Epoch 00083: val_acc improved from 0.88200 to 0.88220, saving model to ../content/drive/My Drive/EVA/model_after.h5\n",
            "Epoch 84/100\n",
            "390/390 [==============================] - 12s 30ms/step - loss: 0.2604 - acc: 0.9411 - val_loss: 0.5219 - val_acc: 0.8803\n",
            "\n",
            "Epoch 00084: val_acc did not improve from 0.88220\n",
            "Epoch 85/100\n",
            "390/390 [==============================] - 12s 30ms/step - loss: 0.2624 - acc: 0.9387 - val_loss: 0.5239 - val_acc: 0.8794\n",
            "\n",
            "Epoch 00085: val_acc did not improve from 0.88220\n",
            "Epoch 86/100\n",
            "390/390 [==============================] - 12s 30ms/step - loss: 0.2679 - acc: 0.9374 - val_loss: 0.5198 - val_acc: 0.8821\n",
            "\n",
            "Epoch 00086: val_acc did not improve from 0.88220\n",
            "Epoch 87/100\n",
            "390/390 [==============================] - 12s 30ms/step - loss: 0.2600 - acc: 0.9403 - val_loss: 0.5498 - val_acc: 0.8723\n",
            "\n",
            "Epoch 00087: val_acc did not improve from 0.88220\n",
            "Epoch 88/100\n",
            "390/390 [==============================] - 12s 30ms/step - loss: 0.2599 - acc: 0.9404 - val_loss: 0.5079 - val_acc: 0.8819\n",
            "\n",
            "Epoch 00088: val_acc did not improve from 0.88220\n",
            "Epoch 89/100\n",
            "390/390 [==============================] - 12s 30ms/step - loss: 0.2559 - acc: 0.9408 - val_loss: 0.5190 - val_acc: 0.8838\n",
            "\n",
            "Epoch 00089: val_acc improved from 0.88220 to 0.88380, saving model to ../content/drive/My Drive/EVA/model_after.h5\n",
            "Epoch 90/100\n",
            "390/390 [==============================] - 12s 30ms/step - loss: 0.2613 - acc: 0.9394 - val_loss: 0.5087 - val_acc: 0.8842\n",
            "\n",
            "Epoch 00090: val_acc improved from 0.88380 to 0.88420, saving model to ../content/drive/My Drive/EVA/model_after.h5\n",
            "Epoch 91/100\n",
            "390/390 [==============================] - 12s 30ms/step - loss: 0.2584 - acc: 0.9405 - val_loss: 0.5413 - val_acc: 0.8745\n",
            "\n",
            "Epoch 00091: val_acc did not improve from 0.88420\n",
            "Epoch 92/100\n",
            "390/390 [==============================] - 12s 30ms/step - loss: 0.2561 - acc: 0.9424 - val_loss: 0.5021 - val_acc: 0.8825\n",
            "\n",
            "Epoch 00092: val_acc did not improve from 0.88420\n",
            "Epoch 93/100\n",
            "390/390 [==============================] - 12s 30ms/step - loss: 0.2620 - acc: 0.9382 - val_loss: 0.5322 - val_acc: 0.8791\n",
            "\n",
            "Epoch 00093: val_acc did not improve from 0.88420\n",
            "Epoch 94/100\n",
            "390/390 [==============================] - 12s 30ms/step - loss: 0.2591 - acc: 0.9402 - val_loss: 0.5191 - val_acc: 0.8805\n",
            "\n",
            "Epoch 00094: val_acc did not improve from 0.88420\n",
            "Epoch 95/100\n",
            "390/390 [==============================] - 12s 30ms/step - loss: 0.2581 - acc: 0.9403 - val_loss: 0.5236 - val_acc: 0.8793\n",
            "\n",
            "Epoch 00095: val_acc did not improve from 0.88420\n",
            "Epoch 96/100\n",
            "390/390 [==============================] - 12s 30ms/step - loss: 0.2569 - acc: 0.9396 - val_loss: 0.5327 - val_acc: 0.8788\n",
            "\n",
            "Epoch 00096: val_acc did not improve from 0.88420\n",
            "Epoch 97/100\n",
            "390/390 [==============================] - 12s 30ms/step - loss: 0.2571 - acc: 0.9412 - val_loss: 0.5212 - val_acc: 0.8798\n",
            "\n",
            "Epoch 00097: val_acc did not improve from 0.88420\n",
            "\n",
            "Epoch 00097: ReduceLROnPlateau reducing learning rate to 0.004095999523997307.\n",
            "Epoch 98/100\n",
            "390/390 [==============================] - 12s 30ms/step - loss: 0.2471 - acc: 0.9444 - val_loss: 0.5180 - val_acc: 0.8854\n",
            "\n",
            "Epoch 00098: val_acc improved from 0.88420 to 0.88540, saving model to ../content/drive/My Drive/EVA/model_after.h5\n",
            "Epoch 99/100\n",
            "390/390 [==============================] - 12s 30ms/step - loss: 0.2404 - acc: 0.9471 - val_loss: 0.4979 - val_acc: 0.8855\n",
            "\n",
            "Epoch 00099: val_acc improved from 0.88540 to 0.88550, saving model to ../content/drive/My Drive/EVA/model_after.h5\n",
            "Epoch 100/100\n",
            "390/390 [==============================] - 12s 30ms/step - loss: 0.2448 - acc: 0.9452 - val_loss: 0.5076 - val_acc: 0.8826\n",
            "\n",
            "Epoch 00100: val_acc did not improve from 0.88550\n",
            "Model took 1197.90 seconds to train\n"
          ],
          "name": "stdout"
        },
        {
          "output_type": "display_data",
          "data": {
            "image/png": "[encoded data removed]",
            "text/plain": [
              "<Figure size 1080x360 with 2 Axes>"
            ]
          },
          "metadata": {
            "tags": []
          }
        },
        {
          "output_type": "stream",
          "text": [
            "Accuracy on test data is: 88.26\n"
          ],
          "name": "stdout"
        }
      ]
    },
    {
      "cell_type": "markdown",
      "metadata": {
        "id": "WYAb9rqJZSNd",
        "colab_type": "text"
      },
      "source": [
        "### Loading the highest validation acurracy model and printing the validation accuracy score"
      ]
    },
    {
      "cell_type": "code",
      "metadata": {
        "id": "MuaEyx_YGblo",
        "colab_type": "code",
        "outputId": "9be7fc8a-3209-4700-cebc-22bb7f38b8b4",
        "colab": {
          "base_uri": "https://localhost:8080/",
          "height": 50
        }
      },
      "source": [
        "model=keras.models.load_model('../content/drive/My Drive/EVA/model_after.h5')\n",
        "score = model.evaluate(X_test, Y_test, batch_size=128)\n",
        "print (score[1])\n"
      ],
      "execution_count": 24,
      "outputs": [
        {
          "output_type": "stream",
          "text": [
            "10000/10000 [==============================] - 1s 132us/step\n",
            "0.8855\n"
          ],
          "name": "stdout"
        }
      ]
    },
    {
      "cell_type": "markdown",
      "metadata": {
        "id": "yZKPfZ2QmeeJ",
        "colab_type": "text"
      },
      "source": [
        "### Finding mis-classified image indexes"
      ]
    },
    {
      "cell_type": "code",
      "metadata": {
        "id": "budyKuLkGb0O",
        "colab_type": "code",
        "outputId": "bfb6dc86-df61-4a19-8f47-b173d4a3b556",
        "colab": {
          "base_uri": "https://localhost:8080/",
          "height": 34
        }
      },
      "source": [
        "# getting predictions on val set.\n",
        "pred = model.predict(X_test)\n",
        "pred_digits = np.argmax(pred, axis=1)\n",
        "\n",
        "\n",
        "# now finding some misclassified indexes'.\n",
        "i=0\n",
        "mis_class=[]\n",
        "for i in range(len(Y_test)):\n",
        "    if( np.argmax(Y_test[i])!= pred_digits[i] ):\n",
        "        mis_class.append(i)\n",
        "    if(len(mis_class)==25):\n",
        "        break\n",
        "\n",
        "print(mis_class)"
      ],
      "execution_count": 22,
      "outputs": [
        {
          "output_type": "stream",
          "text": [
            "[7, 32, 35, 37, 42, 52, 57, 58, 61, 78, 81, 85, 91, 100, 101, 118, 128, 147, 158, 165, 171, 178, 188, 190, 224]\n"
          ],
          "name": "stdout"
        }
      ]
    },
    {
      "cell_type": "markdown",
      "metadata": {
        "id": "2N5tHSCPc9yk",
        "colab_type": "text"
      },
      "source": [
        "### Genrating Grad-CAM for mis-classified images"
      ]
    },
    {
      "cell_type": "code",
      "metadata": {
        "id": "SsDd0GCUGcg1",
        "colab_type": "code",
        "outputId": "edf68176-317a-470b-fdc2-f9790dd12cb4",
        "colab": {
          "base_uri": "https://localhost:8080/",
          "height": 1000
        }
      },
      "source": [
        "import cv2\n",
        "from google.colab.patches import cv2_imshow\n",
        "\n",
        "#images = [100,101,201,510,600,1000,1600,1601,3000,4000,5500,7000,7500,8000,9000,9999]\n",
        "images = mis_class\n",
        "for j in images:\n",
        "  x = testX[j]\n",
        "  x = np.expand_dims(x, axis=0)\n",
        "  preds = model.predict(x,batch_size=1)\n",
        "  class_idx = np.argmax(preds[0])\n",
        "  class_output = model.output[:, class_idx]\n",
        "  print(\"Predicted class {0} actual class {1}\".format(class_names[np.argmax(preds)], class_names[np.argmax(Y_test[j])]))\n",
        "  last_conv_layer = model.get_layer(\"Grad_CAM\")\n",
        "\n",
        "  grads = K.gradients(class_output, last_conv_layer.output)[0]\n",
        "  pooled_grads = K.mean(grads, axis=(0, 1, 2))\n",
        "  iterate = K.function([model.input], [pooled_grads, last_conv_layer.output[0]])\n",
        "  pooled_grads_value, conv_layer_output_value = iterate([x])\n",
        "  for i in range(256):\n",
        "    conv_layer_output_value[:, :, i] *= pooled_grads_value[i]\n",
        "  \n",
        "  heatmap = np.mean(conv_layer_output_value, axis=-1)\n",
        "  heatmap = np.maximum(heatmap, 0)\n",
        "  heatmap /= np.max(heatmap) \n",
        "  img = (testX[j])\n",
        "  heatmap = cv2.resize(heatmap, (img.shape[1], img.shape[0]))\n",
        "  heatmap = np.uint8(255 * heatmap)\n",
        "  heatmap = cv2.applyColorMap(heatmap, cv2.COLORMAP_JET)\n",
        "  superimposed_img = cv2.addWeighted(img, 0.6, heatmap, 0.4, 0)\n",
        "  concatimg = cv2.hconcat([img,superimposed_img])\n",
        "  cv2_imshow(concatimg)\n",
        "  cv2.waitKey(0)\n"
      ],
      "execution_count": 23,
      "outputs": [
        {
          "output_type": "stream",
          "text": [
            "Predicted class horse actual class frog\n"
          ],
          "name": "stdout"
        },
        {
          "output_type": "display_data",
          "data": {
            "image/png": "[encoded data removed]",
            "text/plain": [
              "<PIL.Image.Image image mode=RGB size=64x32 at 0x7FB63755A4A8>"
            ]
          },
          "metadata": {
            "tags": []
          }
        },
        {
          "output_type": "stream",
          "text": [
            "Predicted class horse actual class deer\n"
          ],
          "name": "stdout"
        },
        {
          "output_type": "display_data",
          "data": {
            "image/png": "[encoded data removed]",
            "text/plain": [
              "<PIL.Image.Image image mode=RGB size=64x32 at 0x7FB6374F8748>"
            ]
          },
          "metadata": {
            "tags": []
          }
        },
        {
          "output_type": "stream",
          "text": [
            "Predicted class horse actual class bird\n"
          ],
          "name": "stdout"
        },
        {
          "output_type": "display_data",
          "data": {
            "image/png": "[encoded data removed]",
            "text/plain": [
              "<PIL.Image.Image image mode=RGB size=64x32 at 0x7FB63604BE48>"
            ]
          },
          "metadata": {
            "tags": []
          }
        },
        {
          "output_type": "stream",
          "text": [
            "Predicted class horse actual class automobile\n"
          ],
          "name": "stdout"
        },
        {
          "output_type": "display_data",
          "data": {
            "image/png": "[encoded data removed]",
            "text/plain": [
              "<PIL.Image.Image image mode=RGB size=64x32 at 0x7FB5E4A4E710>"
            ]
          },
          "metadata": {
            "tags": []
          }
        },
        {
          "output_type": "stream",
          "text": [
            "Predicted class horse actual class dog\n"
          ],
          "name": "stdout"
        },
        {
          "output_type": "display_data",
          "data": {
            "image/png": "[encoded data removed]",
            "text/plain": [
              "<PIL.Image.Image image mode=RGB size=64x32 at 0x7FB5E4976860>"
            ]
          },
          "metadata": {
            "tags": []
          }
        },
        {
          "output_type": "stream",
          "text": [
            "Predicted class airplane actual class airplane\n"
          ],
          "name": "stdout"
        },
        {
          "output_type": "display_data",
          "data": {
            "image/png": "[encoded data removed]",
            "text/plain": [
              "<PIL.Image.Image image mode=RGB size=64x32 at 0x7FB5E4937EF0>"
            ]
          },
          "metadata": {
            "tags": []
          }
        },
        {
          "output_type": "stream",
          "text": [
            "Predicted class airplane actual class horse\n"
          ],
          "name": "stdout"
        },
        {
          "output_type": "display_data",
          "data": {
            "image/png": "[encoded data removed]",
            "text/plain": [
              "<PIL.Image.Image image mode=RGB size=64x32 at 0x7FB5E47AAEF0>"
            ]
          },
          "metadata": {
            "tags": []
          }
        },
        {
          "output_type": "stream",
          "text": [
            "Predicted class truck actual class deer\n"
          ],
          "name": "stdout"
        },
        {
          "output_type": "display_data",
          "data": {
            "image/png": "[encoded data removed]",
            "text/plain": [
              "<PIL.Image.Image image mode=RGB size=64x32 at 0x7FB5E4716F98>"
            ]
          },
          "metadata": {
            "tags": []
          }
        },
        {
          "output_type": "stream",
          "text": [
            "Predicted class horse actual class cat\n"
          ],
          "name": "stdout"
        },
        {
          "output_type": "display_data",
          "data": {
            "image/png": "[encoded data removed]",
            "text/plain": [
              "<PIL.Image.Image image mode=RGB size=64x32 at 0x7FB5E46AD438>"
            ]
          },
          "metadata": {
            "tags": []
          }
        },
        {
          "output_type": "stream",
          "text": [
            "Predicted class bird actual class cat\n"
          ],
          "name": "stdout"
        },
        {
          "output_type": "display_data",
          "data": {
            "image/png": "[encoded data removed]",
            "text/plain": [
              "<PIL.Image.Image image mode=RGB size=64x32 at 0x7FB5E4605DD8>"
            ]
          },
          "metadata": {
            "tags": []
          }
        },
        {
          "output_type": "stream",
          "text": [
            "Predicted class automobile actual class automobile\n"
          ],
          "name": "stdout"
        },
        {
          "output_type": "stream",
          "text": [
            "/usr/local/lib/python3.6/dist-packages/ipykernel_launcher.py:24: RuntimeWarning: invalid value encountered in true_divide\n"
          ],
          "name": "stderr"
        },
        {
          "output_type": "display_data",
          "data": {
            "image/png": "[encoded data removed]",
            "text/plain": [
              "<PIL.Image.Image image mode=RGB size=64x32 at 0x7FB5E458B828>"
            ]
          },
          "metadata": {
            "tags": []
          }
        },
        {
          "output_type": "stream",
          "text": [
            "Predicted class deer actual class dog\n"
          ],
          "name": "stdout"
        },
        {
          "output_type": "display_data",
          "data": {
            "image/png": "[encoded data removed]",
            "text/plain": [
              "<PIL.Image.Image image mode=RGB size=64x32 at 0x7FB5E44D2780>"
            ]
          },
          "metadata": {
            "tags": []
          }
        },
        {
          "output_type": "stream",
          "text": [
            "Predicted class bird actual class cat\n"
          ],
          "name": "stdout"
        },
        {
          "output_type": "display_data",
          "data": {
            "image/png": "[encoded data removed]",
            "text/plain": [
              "<PIL.Image.Image image mode=RGB size=64x32 at 0x7FB5E448EEF0>"
            ]
          },
          "metadata": {
            "tags": []
          }
        },
        {
          "output_type": "stream",
          "text": [
            "Predicted class horse actual class deer\n"
          ],
          "name": "stdout"
        },
        {
          "output_type": "display_data",
          "data": {
            "image/png": "[encoded data removed]",
            "text/plain": [
              "<PIL.Image.Image image mode=RGB size=64x32 at 0x7FB5E44BBBA8>"
            ]
          },
          "metadata": {
            "tags": []
          }
        },
        {
          "output_type": "stream",
          "text": [
            "Predicted class horse actual class dog\n"
          ],
          "name": "stdout"
        },
        {
          "output_type": "display_data",
          "data": {
            "image/png": "[encoded data removed]",
            "text/plain": [
              "<PIL.Image.Image image mode=RGB size=64x32 at 0x7FB5E4231F60>"
            ]
          },
          "metadata": {
            "tags": []
          }
        },
        {
          "output_type": "stream",
          "text": [
            "Predicted class horse actual class bird\n"
          ],
          "name": "stdout"
        },
        {
          "output_type": "display_data",
          "data": {
            "image/png": "[encoded data removed]",
            "text/plain": [
              "<PIL.Image.Image image mode=RGB size=64x32 at 0x7FB5E43FE9B0>"
            ]
          },
          "metadata": {
            "tags": []
          }
        },
        {
          "output_type": "stream",
          "text": [
            "Predicted class horse actual class dog\n"
          ],
          "name": "stdout"
        },
        {
          "output_type": "display_data",
          "data": {
            "image/png": "[encoded data removed]",
            "text/plain": [
              "<PIL.Image.Image image mode=RGB size=64x32 at 0x7FB5E4137470>"
            ]
          },
          "metadata": {
            "tags": []
          }
        },
        {
          "output_type": "stream",
          "text": [
            "Predicted class horse actual class bird\n"
          ],
          "name": "stdout"
        },
        {
          "output_type": "display_data",
          "data": {
            "image/png": "[encoded data removed]",
            "text/plain": [
              "<PIL.Image.Image image mode=RGB size=64x32 at 0x7FB5E407B390>"
            ]
          },
          "metadata": {
            "tags": []
          }
        },
        {
          "output_type": "stream",
          "text": [
            "Predicted class horse actual class dog\n"
          ],
          "name": "stdout"
        },
        {
          "output_type": "display_data",
          "data": {
            "image/png": "[encoded data removed]",
            "text/plain": [
              "<PIL.Image.Image image mode=RGB size=64x32 at 0x7FB5E4137AC8>"
            ]
          },
          "metadata": {
            "tags": []
          }
        },
        {
          "output_type": "stream",
          "text": [
            "Predicted class truck actual class deer\n"
          ],
          "name": "stdout"
        },
        {
          "output_type": "display_data",
          "data": {
            "image/png": "[encoded data removed]",
            "text/plain": [
              "<PIL.Image.Image image mode=RGB size=64x32 at 0x7FB5E3F40A58>"
            ]
          },
          "metadata": {
            "tags": []
          }
        },
        {
          "output_type": "stream",
          "text": [
            "Predicted class truck actual class truck\n"
          ],
          "name": "stdout"
        },
        {
          "output_type": "display_data",
          "data": {
            "image/png": "[encoded data removed]",
            "text/plain": [
              "<PIL.Image.Image image mode=RGB size=64x32 at 0x7FB5E3E47F60>"
            ]
          },
          "metadata": {
            "tags": []
          }
        },
        {
          "output_type": "stream",
          "text": [
            "Predicted class truck actual class dog\n"
          ],
          "name": "stdout"
        },
        {
          "output_type": "display_data",
          "data": {
            "image/png": "[encoded data removed]",
            "text/plain": [
              "<PIL.Image.Image image mode=RGB size=64x32 at 0x7FB5E3D8EEF0>"
            ]
          },
          "metadata": {
            "tags": []
          }
        },
        {
          "output_type": "stream",
          "text": [
            "Predicted class truck actual class deer\n"
          ],
          "name": "stdout"
        },
        {
          "output_type": "display_data",
          "data": {
            "image/png": "[encoded data removed]",
            "text/plain": [
              "<PIL.Image.Image image mode=RGB size=64x32 at 0x7FB5E3CBDF60>"
            ]
          },
          "metadata": {
            "tags": []
          }
        },
        {
          "output_type": "stream",
          "text": [
            "Predicted class truck actual class dog\n"
          ],
          "name": "stdout"
        },
        {
          "output_type": "display_data",
          "data": {
            "image/png": "[encoded data removed]",
            "text/plain": [
              "<PIL.Image.Image image mode=RGB size=64x32 at 0x7FB5E3C8D278>"
            ]
          },
          "metadata": {
            "tags": []
          }
        },
        {
          "output_type": "stream",
          "text": [
            "Predicted class horse actual class cat\n"
          ],
          "name": "stdout"
        },
        {
          "output_type": "display_data",
          "data": {
            "image/png": "[encoded data removed]",
            "text/plain": [
              "<PIL.Image.Image image mode=RGB size=64x32 at 0x7FB5E3BBE470>"
            ]
          },
          "metadata": {
            "tags": []
          }
        }
      ]
    },
    {
      "cell_type": "markdown",
      "metadata": {
        "id": "n_9FsFVUXAvB",
        "colab_type": "text"
      },
      "source": [
        "**** In the misclassified images some of the misclassified is predicting as correct. I'm not sure where I'm making the mistake. I'll verify it. "
      ]
    },
    {
      "cell_type": "code",
      "metadata": {
        "id": "kqsMF19aWmnV",
        "colab_type": "code",
        "colab": {}
      },
      "source": [
        ""
      ],
      "execution_count": 0,
      "outputs": []
    }
  ]
}