{
  "nbformat": 4,
  "nbformat_minor": 0,
  "metadata": {
    "colab": {
      "name": "Assignment3_DNN.ipynb",
      "version": "0.3.2",
      "provenance": [],
      "collapsed_sections": [],
      "include_colab_link": true
    },
    "kernelspec": {
      "name": "python3",
      "display_name": "Python 3"
    },
    "accelerator": "GPU"
  },
  "cells": [
    {
      "cell_type": "markdown",
      "metadata": {
        "id": "view-in-github",
        "colab_type": "text"
      },
      "source": [
        "<a href=\"https://colab.research.google.com/github/roulupen/EVAAssignments/blob/master/Assignment-3/Assignment3_DNN.ipynb\" target=\"_parent\"><img src=\"https://colab.research.google.com/assets/colab-badge.svg\" alt=\"Open In Colab\"/></a>"
      ]
    },
    {
      "cell_type": "markdown",
      "metadata": {
        "id": "aNyZv-Ec52ot",
        "colab_type": "text"
      },
      "source": [
        "# **Import Libraries and modules**"
      ]
    },
    {
      "cell_type": "markdown",
      "metadata": {
        "id": "wvfzFdb32GnD",
        "colab_type": "text"
      },
      "source": [
        "### Importing Keras library "
      ]
    },
    {
      "cell_type": "code",
      "metadata": {
        "id": "3m3w1Cw49Zkt",
        "colab_type": "code",
        "outputId": "789ec0ac-bdd0-46e2-d569-963fab0734a8",
        "colab": {
          "base_uri": "https://localhost:8080/",
          "height": 34
        }
      },
      "source": [
        "# https://keras.io/\n",
        "!pip install -q keras\n",
        "import keras"
      ],
      "execution_count": 1,
      "outputs": [
        {
          "output_type": "stream",
          "text": [
            "Using TensorFlow backend.\n"
          ],
          "name": "stderr"
        }
      ]
    },
    {
      "cell_type": "markdown",
      "metadata": {
        "id": "Kw-wYyXu2L7x",
        "colab_type": "text"
      },
      "source": [
        "### Importing other required library"
      ]
    },
    {
      "cell_type": "code",
      "metadata": {
        "id": "Eso6UHE080D4",
        "colab_type": "code",
        "colab": {}
      },
      "source": [
        "import numpy as np\n",
        "\n",
        "from keras.models import Sequential\n",
        "from keras.layers import Dense, Dropout, Activation, Flatten, Add\n",
        "from keras.layers import Convolution2D, MaxPooling2D\n",
        "from keras.utils import np_utils\n",
        "\n",
        "from keras.datasets import mnist"
      ],
      "execution_count": 0,
      "outputs": []
    },
    {
      "cell_type": "markdown",
      "metadata": {
        "id": "zByEi95J86RD",
        "colab_type": "text"
      },
      "source": [
        "### Load pre-shuffled MNIST data into train and test sets"
      ]
    },
    {
      "cell_type": "code",
      "metadata": {
        "id": "7eRM0QWN83PV",
        "colab_type": "code",
        "colab": {}
      },
      "source": [
        "(X_train, y_train), (X_test, y_test) = mnist.load_data()"
      ],
      "execution_count": 0,
      "outputs": []
    },
    {
      "cell_type": "markdown",
      "metadata": {
        "id": "y0oHzLz62TU3",
        "colab_type": "text"
      },
      "source": [
        "### Displaying the first image from the dataset"
      ]
    },
    {
      "cell_type": "code",
      "metadata": {
        "id": "4a4Be72j8-ZC",
        "colab_type": "code",
        "outputId": "c38672f8-ca5e-4e48-dc47-75c467308e24",
        "colab": {
          "base_uri": "https://localhost:8080/",
          "height": 302
        }
      },
      "source": [
        "print (X_train.shape)\n",
        "from matplotlib import pyplot as plt\n",
        "%matplotlib inline\n",
        "plt.imshow(X_train[0])"
      ],
      "execution_count": 4,
      "outputs": [
        {
          "output_type": "stream",
          "text": [
            "(60000, 28, 28)\n"
          ],
          "name": "stdout"
        },
        {
          "output_type": "execute_result",
          "data": {
            "text/plain": [
              "<matplotlib.image.AxesImage at 0x7f26cacb5860>"
            ]
          },
          "metadata": {
            "tags": []
          },
          "execution_count": 4
        },
        {
          "output_type": "display_data",
          "data": {
            "image/png": "[encoded data removed]",
            "text/plain": [
              "<Figure size 432x288 with 1 Axes>"
            ]
          },
          "metadata": {
            "tags": []
          }
        }
      ]
    },
    {
      "cell_type": "markdown",
      "metadata": {
        "id": "rEQOSeLQ2ZB4",
        "colab_type": "text"
      },
      "source": [
        "### Reshaping the train test dataset by defining number of channel for the input image"
      ]
    },
    {
      "cell_type": "code",
      "metadata": {
        "id": "dkmprriw9AnZ",
        "colab_type": "code",
        "colab": {}
      },
      "source": [
        "X_train = X_train.reshape(X_train.shape[0], 28, 28,1)\n",
        "X_test = X_test.reshape(X_test.shape[0], 28, 28,1)"
      ],
      "execution_count": 0,
      "outputs": []
    },
    {
      "cell_type": "markdown",
      "metadata": {
        "id": "26A9uXhy2qXQ",
        "colab_type": "text"
      },
      "source": [
        "### Normalizing the train and test data set by dividing 255, as 255 is the maximum value for a channel in an image and minimum is 0"
      ]
    },
    {
      "cell_type": "code",
      "metadata": {
        "id": "X2m4YS4E9CRh",
        "colab_type": "code",
        "colab": {}
      },
      "source": [
        "X_train = X_train.astype('float32')\n",
        "X_test = X_test.astype('float32')\n",
        "X_train /= 255\n",
        "X_test /= 255"
      ],
      "execution_count": 0,
      "outputs": []
    },
    {
      "cell_type": "markdown",
      "metadata": {
        "id": "5xMgTu7F2-Jd",
        "colab_type": "text"
      },
      "source": [
        "### displaying last 10 values from the output of train dataset"
      ]
    },
    {
      "cell_type": "code",
      "metadata": {
        "id": "0Mn0vAYD9DvB",
        "colab_type": "code",
        "outputId": "17754af7-ea95-4868-cc4b-0389bfe5971e",
        "colab": {
          "base_uri": "https://localhost:8080/",
          "height": 34
        }
      },
      "source": [
        "y_train[:10]"
      ],
      "execution_count": 7,
      "outputs": [
        {
          "output_type": "execute_result",
          "data": {
            "text/plain": [
              "array([5, 0, 4, 1, 9, 2, 1, 3, 1, 4], dtype=uint8)"
            ]
          },
          "metadata": {
            "tags": []
          },
          "execution_count": 7
        }
      ]
    },
    {
      "cell_type": "markdown",
      "metadata": {
        "id": "vW3yxhEi3HqU",
        "colab_type": "text"
      },
      "source": [
        "### As this is a classification problem with 10 labels(0-9 numbers), so here we are converting the labels into hot encoding to use in the model prediction"
      ]
    },
    {
      "cell_type": "code",
      "metadata": {
        "id": "ZG8JiXR39FHC",
        "colab_type": "code",
        "colab": {}
      },
      "source": [
        "# Convert 1-dimensional class arrays to 10-dimensional class matrices\n",
        "Y_train = np_utils.to_categorical(y_train, 10)\n",
        "Y_test = np_utils.to_categorical(y_test, 10)"
      ],
      "execution_count": 0,
      "outputs": []
    },
    {
      "cell_type": "markdown",
      "metadata": {
        "id": "VM38R1MB3bUL",
        "colab_type": "text"
      },
      "source": [
        "### Displying the last 10 values from the output of train dataset after hot encoding"
      ]
    },
    {
      "cell_type": "code",
      "metadata": {
        "id": "fYlFRvKS9HMB",
        "colab_type": "code",
        "outputId": "1e45e0a0-2ee8-4def-da81-f45057538c40",
        "colab": {
          "base_uri": "https://localhost:8080/",
          "height": 185
        }
      },
      "source": [
        "Y_train[:10]\n"
      ],
      "execution_count": 9,
      "outputs": [
        {
          "output_type": "execute_result",
          "data": {
            "text/plain": [
              "array([[0., 0., 0., 0., 0., 1., 0., 0., 0., 0.],\n",
              "       [1., 0., 0., 0., 0., 0., 0., 0., 0., 0.],\n",
              "       [0., 0., 0., 0., 1., 0., 0., 0., 0., 0.],\n",
              "       [0., 1., 0., 0., 0., 0., 0., 0., 0., 0.],\n",
              "       [0., 0., 0., 0., 0., 0., 0., 0., 0., 1.],\n",
              "       [0., 0., 1., 0., 0., 0., 0., 0., 0., 0.],\n",
              "       [0., 1., 0., 0., 0., 0., 0., 0., 0., 0.],\n",
              "       [0., 0., 0., 1., 0., 0., 0., 0., 0., 0.],\n",
              "       [0., 1., 0., 0., 0., 0., 0., 0., 0., 0.],\n",
              "       [0., 0., 0., 0., 1., 0., 0., 0., 0., 0.]], dtype=float32)"
            ]
          },
          "metadata": {
            "tags": []
          },
          "execution_count": 9
        }
      ]
    },
    {
      "cell_type": "markdown",
      "metadata": {
        "id": "YABHz97y3ixZ",
        "colab_type": "text"
      },
      "source": [
        "### Definding the CNN model layers\n",
        "\n",
        "\n",
        "1.   #### 28x28x1     ->   (3x3x1) x 32           => 26x26x32\n",
        "2.   #### 26x26x32   ->   (1x1x32) x 10         => 26x26x10 ( 1x1 convolution ro reduce the channel size)\n",
        "3.   #### 26x26x10   ->   (26x26x10) x 10     => 1x1x10\n",
        "4.   #### Using Flatten layer to convert the output into 1D array\n",
        "5.   #### Using softmax activation function to get the final 10 label output for any given image\n",
        "\n"
      ]
    },
    {
      "cell_type": "code",
      "metadata": {
        "id": "osKqT73Q9JJB",
        "colab_type": "code",
        "outputId": "6f53b663-308b-4d99-a7ee-9c7c47841f78",
        "colab": {
          "base_uri": "https://localhost:8080/",
          "height": 121
        }
      },
      "source": [
        "from keras.layers import Activation\n",
        "model = Sequential()\n",
        "\n",
        " \n",
        "model.add(Convolution2D(32, 3, 3, activation='relu', input_shape=(28,28,1))) # 28x28x1     ->   (3x3x1) x 32           => 26x26x32\n",
        "model.add(Convolution2D(10, 1, activation='relu')) # 26x26x32   ->   (1x1x32) x 10         => 26x26x10 ( 1x1 convolution ro reduce the channel size)\n",
        "model.add(Convolution2D(10, 26)) # 26x26x10   ->   (26x26x10) x 10     => 1x1x10\n",
        "model.add(Flatten()) # Using Flatten layer to convert the output into 1D array\n",
        "model.add(Activation('softmax')) # Using softmax activation function to get the final 10 label output for any given image"
      ],
      "execution_count": 10,
      "outputs": [
        {
          "output_type": "stream",
          "text": [
            "WARNING:tensorflow:From /usr/local/lib/python3.6/dist-packages/tensorflow/python/framework/op_def_library.py:263: colocate_with (from tensorflow.python.framework.ops) is deprecated and will be removed in a future version.\n",
            "Instructions for updating:\n",
            "Colocations handled automatically by placer.\n"
          ],
          "name": "stdout"
        },
        {
          "output_type": "stream",
          "text": [
            "/usr/local/lib/python3.6/dist-packages/ipykernel_launcher.py:5: UserWarning: Update your `Conv2D` call to the Keras 2 API: `Conv2D(32, (3, 3), activation=\"relu\", input_shape=(28, 28, 1...)`\n",
            "  \"\"\"\n"
          ],
          "name": "stderr"
        }
      ]
    },
    {
      "cell_type": "markdown",
      "metadata": {
        "id": "nirL7ggC5XpT",
        "colab_type": "text"
      },
      "source": [
        "#### Displaying model summary "
      ]
    },
    {
      "cell_type": "code",
      "metadata": {
        "id": "TzdAYg1k9K7Z",
        "colab_type": "code",
        "outputId": "b758aa29-4753-4e58-f15b-9bedda4a92f8",
        "colab": {
          "base_uri": "https://localhost:8080/",
          "height": 302
        }
      },
      "source": [
        "model.summary()"
      ],
      "execution_count": 11,
      "outputs": [
        {
          "output_type": "stream",
          "text": [
            "_________________________________________________________________\n",
            "Layer (type)                 Output Shape              Param #   \n",
            "=================================================================\n",
            "conv2d_1 (Conv2D)            (None, 26, 26, 32)        320       \n",
            "_________________________________________________________________\n",
            "conv2d_2 (Conv2D)            (None, 26, 26, 10)        330       \n",
            "_________________________________________________________________\n",
            "conv2d_3 (Conv2D)            (None, 1, 1, 10)          67610     \n",
            "_________________________________________________________________\n",
            "flatten_1 (Flatten)          (None, 10)                0         \n",
            "_________________________________________________________________\n",
            "activation_1 (Activation)    (None, 10)                0         \n",
            "=================================================================\n",
            "Total params: 68,260\n",
            "Trainable params: 68,260\n",
            "Non-trainable params: 0\n",
            "_________________________________________________________________\n"
          ],
          "name": "stdout"
        }
      ]
    },
    {
      "cell_type": "markdown",
      "metadata": {
        "id": "WMsGaFfk5b2k",
        "colab_type": "text"
      },
      "source": [
        "#### Compile the model"
      ]
    },
    {
      "cell_type": "code",
      "metadata": {
        "id": "Zp6SuGrL9M3h",
        "colab_type": "code",
        "colab": {}
      },
      "source": [
        "model.compile(loss='categorical_crossentropy',\n",
        "             optimizer='adam',\n",
        "             metrics=['accuracy'])"
      ],
      "execution_count": 0,
      "outputs": []
    },
    {
      "cell_type": "markdown",
      "metadata": {
        "id": "8Q8nXf1p5ebg",
        "colab_type": "text"
      },
      "source": [
        "#### Train the model"
      ]
    },
    {
      "cell_type": "code",
      "metadata": {
        "id": "4xWoKhPY9Of5",
        "colab_type": "code",
        "outputId": "2bc800d2-1623-4d48-e57f-1f8bd1bb5566",
        "colab": {
          "base_uri": "https://localhost:8080/",
          "height": 474
        }
      },
      "source": [
        "model.fit(X_train, Y_train, batch_size=32, nb_epoch=10, verbose=1)"
      ],
      "execution_count": 13,
      "outputs": [
        {
          "output_type": "stream",
          "text": [
            "/usr/local/lib/python3.6/dist-packages/ipykernel_launcher.py:1: UserWarning: The `nb_epoch` argument in `fit` has been renamed `epochs`.\n",
            "  \"\"\"Entry point for launching an IPython kernel.\n"
          ],
          "name": "stderr"
        },
        {
          "output_type": "stream",
          "text": [
            "WARNING:tensorflow:From /usr/local/lib/python3.6/dist-packages/tensorflow/python/ops/math_ops.py:3066: to_int32 (from tensorflow.python.ops.math_ops) is deprecated and will be removed in a future version.\n",
            "Instructions for updating:\n",
            "Use tf.cast instead.\n",
            "Epoch 1/10\n",
            "60000/60000 [==============================] - 9s 156us/step - loss: 0.2025 - acc: 0.9408\n",
            "Epoch 2/10\n",
            "60000/60000 [==============================] - 7s 114us/step - loss: 0.0736 - acc: 0.9774\n",
            "Epoch 3/10\n",
            "60000/60000 [==============================] - 7s 111us/step - loss: 0.0548 - acc: 0.9827\n",
            "Epoch 4/10\n",
            "60000/60000 [==============================] - 7s 110us/step - loss: 0.0429 - acc: 0.9865\n",
            "Epoch 5/10\n",
            "60000/60000 [==============================] - 7s 111us/step - loss: 0.0338 - acc: 0.9889\n",
            "Epoch 6/10\n",
            "60000/60000 [==============================] - 7s 110us/step - loss: 0.0269 - acc: 0.9909\n",
            "Epoch 7/10\n",
            "60000/60000 [==============================] - 7s 110us/step - loss: 0.0210 - acc: 0.9936\n",
            "Epoch 8/10\n",
            "60000/60000 [==============================] - 7s 110us/step - loss: 0.0168 - acc: 0.9945\n",
            "Epoch 9/10\n",
            "60000/60000 [==============================] - 7s 110us/step - loss: 0.0136 - acc: 0.9958\n",
            "Epoch 10/10\n",
            "60000/60000 [==============================] - 7s 116us/step - loss: 0.0120 - acc: 0.9961\n"
          ],
          "name": "stdout"
        },
        {
          "output_type": "execute_result",
          "data": {
            "text/plain": [
              "<keras.callbacks.History at 0x7f26c84383c8>"
            ]
          },
          "metadata": {
            "tags": []
          },
          "execution_count": 13
        }
      ]
    },
    {
      "cell_type": "markdown",
      "metadata": {
        "id": "fUwpUWX-58np",
        "colab_type": "text"
      },
      "source": [
        "#### Validate the model accuracy with test data"
      ]
    },
    {
      "cell_type": "code",
      "metadata": {
        "id": "AtsH-lLk-eLb",
        "colab_type": "code",
        "colab": {}
      },
      "source": [
        "score = model.evaluate(X_test, Y_test, verbose=0)"
      ],
      "execution_count": 0,
      "outputs": []
    },
    {
      "cell_type": "markdown",
      "metadata": {
        "id": "C1h3_wrc6B2Z",
        "colab_type": "text"
      },
      "source": [
        "#### Printing the validation accuracy"
      ]
    },
    {
      "cell_type": "code",
      "metadata": {
        "id": "mkX8JMv79q9r",
        "colab_type": "code",
        "outputId": "3b3516d2-4f55-41e5-9837-1bd41788ca52",
        "colab": {
          "base_uri": "https://localhost:8080/",
          "height": 34
        }
      },
      "source": [
        "print(score)"
      ],
      "execution_count": 15,
      "outputs": [
        {
          "output_type": "stream",
          "text": [
            "[0.08924596830063455, 0.9784]\n"
          ],
          "name": "stdout"
        }
      ]
    },
    {
      "cell_type": "markdown",
      "metadata": {
        "id": "zyNnd3nCATRX",
        "colab_type": "text"
      },
      "source": [
        "### Predicting the test data outout using the model"
      ]
    },
    {
      "cell_type": "code",
      "metadata": {
        "id": "OCWoJkwE9suh",
        "colab_type": "code",
        "colab": {}
      },
      "source": [
        "y_pred = model.predict(X_test)"
      ],
      "execution_count": 0,
      "outputs": []
    },
    {
      "cell_type": "markdown",
      "metadata": {
        "id": "ZrON4pDsTk2X",
        "colab_type": "text"
      },
      "source": [
        "### Printing last 10 predicted(probability like) vs actual output "
      ]
    },
    {
      "cell_type": "code",
      "metadata": {
        "id": "Ym7iCFBm9uBs",
        "colab_type": "code",
        "outputId": "eb54bf05-3124-4554-9f89-380e249802a2",
        "colab": {
          "base_uri": "https://localhost:8080/",
          "height": 336
        }
      },
      "source": [
        "print(y_pred[:9])\n",
        "print(y_test[:9])"
      ],
      "execution_count": 17,
      "outputs": [
        {
          "output_type": "stream",
          "text": [
            "[[3.6152528e-19 2.9134174e-18 5.6349519e-15 9.9325104e-10 1.4353791e-19\n",
            "  8.9330106e-17 1.0835299e-28 1.0000000e+00 3.3940632e-13 2.5449945e-10]\n",
            " [2.5553473e-10 1.6082158e-11 9.9999905e-01 3.6272083e-10 3.4944875e-20\n",
            "  4.4696209e-12 9.0596109e-07 8.4646547e-27 7.9857045e-11 2.5967477e-17]\n",
            " [1.4389177e-09 9.9995649e-01 2.7193867e-08 1.5246594e-10 1.6147731e-05\n",
            "  4.1765214e-10 2.3205085e-10 1.3249624e-07 2.7175243e-05 4.3473846e-11]\n",
            " [1.0000000e+00 9.5206731e-19 6.9977473e-09 2.1071596e-14 5.1630385e-15\n",
            "  3.1404414e-15 4.1555381e-08 1.6069725e-11 5.7918581e-10 1.1287368e-12]\n",
            " [1.2258020e-13 6.2273729e-19 9.7747232e-16 1.3239670e-14 1.0000000e+00\n",
            "  3.2565897e-20 1.0169257e-16 2.2419786e-13 1.0273336e-10 4.9292032e-10]\n",
            " [4.3853080e-13 9.9998355e-01 7.5455558e-11 6.8226397e-12 2.4028122e-06\n",
            "  9.2055041e-15 7.5436127e-15 1.1040062e-05 3.0337283e-06 4.8742680e-11]\n",
            " [1.2095960e-19 5.3087716e-16 6.3586375e-10 6.1033305e-14 9.9994659e-01\n",
            "  2.2550176e-12 1.1973548e-15 3.1220935e-08 5.3240630e-05 1.2388151e-07]\n",
            " [9.5254430e-18 1.1883229e-08 1.9330258e-12 3.7317835e-10 7.9073367e-04\n",
            "  1.6040448e-07 7.6828429e-17 1.5501054e-11 1.5358680e-06 9.9920756e-01]\n",
            " [1.2436773e-07 4.7390688e-21 3.0348921e-16 2.8783224e-11 4.2384987e-10\n",
            "  1.6819453e-04 9.9954271e-01 1.5136410e-20 2.8889146e-04 1.2236510e-09]]\n",
            "[7 2 1 0 4 1 4 9 5]\n"
          ],
          "name": "stdout"
        }
      ]
    },
    {
      "cell_type": "markdown",
      "metadata": {
        "id": "iQky8Im0Tv2T",
        "colab_type": "text"
      },
      "source": [
        "## New Model with less than 20k paramter and target validation accuracy > 99.4%\n",
        "\n",
        "### Model defination\n",
        "\n",
        "#### The model architecture is defined in line, here we are adding drop out layer before transition to make sure there is less gap betten train and test accuracy"
      ]
    },
    {
      "cell_type": "code",
      "metadata": {
        "id": "4EKOTHOP7kpX",
        "colab_type": "code",
        "outputId": "22b5f3e6-50b6-4aa1-8905-a2f4b6370256",
        "colab": {
          "base_uri": "https://localhost:8080/",
          "height": 742
        }
      },
      "source": [
        "from keras.layers import Activation, MaxPooling2D, Dropout\n",
        "model_new = Sequential()\n",
        "\n",
        "model_new.add(Convolution2D(10, 3, 3, activation='relu', input_shape=(28,28,1))) # 26x26x10\n",
        "model_new.add(Convolution2D(20, 3, 3, activation='relu')) # 26x26x10 -> (3x3x10) x 20 -> 24x24x20\n",
        "model_new.add(Convolution2D(30, 3, 3, activation='relu')) # 26x26x20 -> (3x3x20) x 30 -> 22x22x30\n",
        "\n",
        "model.add(Dropout(0.2)) # Dropping 0.2 percent of the neurons\n",
        "model_new.add(MaxPooling2D(pool_size=(2, 2))) # 11x11x30\n",
        "model_new.add(Convolution2D(10, 1, activation='relu')) # 11x11x30 -> (1x1x32) x10 -> 11 x 11 x 10\n",
        "\n",
        "model_new.add(Convolution2D(16, 3, 3, activation='relu')) # 11x11x10 => (3x3x10) x 16 => 9x9x16\n",
        "model_new.add(Convolution2D(32, 3, 3, activation='relu')) # 9x9x32 => (3x3x16) x 32 => 7x7x32\n",
        "\n",
        "model.add(Dropout(0.2)) # Dropping 0.2 percent of the neurons\n",
        "model_new.add(Convolution2D(10, 1, activation='relu')) # 7x7x32 => (1x1x32) x 10 => 7x7x10\n",
        "\n",
        "\n",
        "model_new.add(Convolution2D(10, 7)) # 7x7x10 => (7x7x10) => 1x1x10\n",
        "model_new.add(Flatten())\n",
        "model_new.add(Activation('softmax'))\n",
        "model_new.summary()"
      ],
      "execution_count": 18,
      "outputs": [
        {
          "output_type": "stream",
          "text": [
            "WARNING:tensorflow:From /usr/local/lib/python3.6/dist-packages/keras/backend/tensorflow_backend.py:3445: calling dropout (from tensorflow.python.ops.nn_ops) with keep_prob is deprecated and will be removed in a future version.\n",
            "Instructions for updating:\n",
            "Please use `rate` instead of `keep_prob`. Rate should be set to `rate = 1 - keep_prob`.\n",
            "_________________________________________________________________\n",
            "Layer (type)                 Output Shape              Param #   \n",
            "=================================================================\n",
            "conv2d_4 (Conv2D)            (None, 26, 26, 10)        100       \n",
            "_________________________________________________________________\n",
            "conv2d_5 (Conv2D)            (None, 24, 24, 20)        1820      \n",
            "_________________________________________________________________\n",
            "conv2d_6 (Conv2D)            (None, 22, 22, 30)        5430      \n",
            "_________________________________________________________________\n",
            "max_pooling2d_1 (MaxPooling2 (None, 11, 11, 30)        0         \n",
            "_________________________________________________________________\n",
            "conv2d_7 (Conv2D)            (None, 11, 11, 10)        310       \n",
            "_________________________________________________________________\n",
            "conv2d_8 (Conv2D)            (None, 9, 9, 16)          1456      \n",
            "_________________________________________________________________\n",
            "conv2d_9 (Conv2D)            (None, 7, 7, 32)          4640      \n",
            "_________________________________________________________________\n",
            "conv2d_10 (Conv2D)           (None, 7, 7, 10)          330       \n",
            "_________________________________________________________________\n",
            "conv2d_11 (Conv2D)           (None, 1, 1, 10)          4910      \n",
            "_________________________________________________________________\n",
            "flatten_2 (Flatten)          (None, 10)                0         \n",
            "_________________________________________________________________\n",
            "activation_2 (Activation)    (None, 10)                0         \n",
            "=================================================================\n",
            "Total params: 18,996\n",
            "Trainable params: 18,996\n",
            "Non-trainable params: 0\n",
            "_________________________________________________________________\n"
          ],
          "name": "stdout"
        },
        {
          "output_type": "stream",
          "text": [
            "/usr/local/lib/python3.6/dist-packages/ipykernel_launcher.py:4: UserWarning: Update your `Conv2D` call to the Keras 2 API: `Conv2D(10, (3, 3), activation=\"relu\", input_shape=(28, 28, 1...)`\n",
            "  after removing the cwd from sys.path.\n",
            "/usr/local/lib/python3.6/dist-packages/ipykernel_launcher.py:5: UserWarning: Update your `Conv2D` call to the Keras 2 API: `Conv2D(20, (3, 3), activation=\"relu\")`\n",
            "  \"\"\"\n",
            "/usr/local/lib/python3.6/dist-packages/ipykernel_launcher.py:6: UserWarning: Update your `Conv2D` call to the Keras 2 API: `Conv2D(30, (3, 3), activation=\"relu\")`\n",
            "  \n",
            "/usr/local/lib/python3.6/dist-packages/ipykernel_launcher.py:12: UserWarning: Update your `Conv2D` call to the Keras 2 API: `Conv2D(16, (3, 3), activation=\"relu\")`\n",
            "  if sys.path[0] == '':\n",
            "/usr/local/lib/python3.6/dist-packages/ipykernel_launcher.py:13: UserWarning: Update your `Conv2D` call to the Keras 2 API: `Conv2D(32, (3, 3), activation=\"relu\")`\n",
            "  del sys.path[0]\n"
          ],
          "name": "stderr"
        }
      ]
    },
    {
      "cell_type": "code",
      "metadata": {
        "id": "Zyx9Igev76CW",
        "colab_type": "code",
        "colab": {}
      },
      "source": [
        "model_new.compile(loss='categorical_crossentropy',\n",
        "             optimizer='adam',\n",
        "             metrics=['accuracy'])"
      ],
      "execution_count": 0,
      "outputs": []
    },
    {
      "cell_type": "code",
      "metadata": {
        "id": "drAb-QzB8D8O",
        "colab_type": "code",
        "outputId": "c2df4405-d88e-4740-a32b-2d049cf1d7d1",
        "colab": {
          "base_uri": "https://localhost:8080/",
          "height": 907
        }
      },
      "source": [
        "model_new.fit(X_train, Y_train, batch_size=64, nb_epoch=25, verbose=1)"
      ],
      "execution_count": 20,
      "outputs": [
        {
          "output_type": "stream",
          "text": [
            "/usr/local/lib/python3.6/dist-packages/ipykernel_launcher.py:1: UserWarning: The `nb_epoch` argument in `fit` has been renamed `epochs`.\n",
            "  \"\"\"Entry point for launching an IPython kernel.\n"
          ],
          "name": "stderr"
        },
        {
          "output_type": "stream",
          "text": [
            "Epoch 1/25\n",
            "60000/60000 [==============================] - 7s 110us/step - loss: 0.2365 - acc: 0.9287\n",
            "Epoch 2/25\n",
            "60000/60000 [==============================] - 6s 95us/step - loss: 0.0682 - acc: 0.9795\n",
            "Epoch 3/25\n",
            "60000/60000 [==============================] - 6s 92us/step - loss: 0.0527 - acc: 0.9841\n",
            "Epoch 4/25\n",
            "60000/60000 [==============================] - 5s 90us/step - loss: 0.0425 - acc: 0.9870\n",
            "Epoch 5/25\n",
            "60000/60000 [==============================] - 5s 91us/step - loss: 0.0375 - acc: 0.9885\n",
            "Epoch 6/25\n",
            "60000/60000 [==============================] - 5s 90us/step - loss: 0.0314 - acc: 0.9898\n",
            "Epoch 7/25\n",
            "60000/60000 [==============================] - 5s 89us/step - loss: 0.0281 - acc: 0.9909\n",
            "Epoch 8/25\n",
            "60000/60000 [==============================] - 5s 90us/step - loss: 0.0261 - acc: 0.9917\n",
            "Epoch 9/25\n",
            "60000/60000 [==============================] - 5s 90us/step - loss: 0.0231 - acc: 0.9925\n",
            "Epoch 10/25\n",
            "60000/60000 [==============================] - 5s 90us/step - loss: 0.0208 - acc: 0.9935\n",
            "Epoch 11/25\n",
            "60000/60000 [==============================] - 5s 89us/step - loss: 0.0181 - acc: 0.9940\n",
            "Epoch 12/25\n",
            "60000/60000 [==============================] - 5s 90us/step - loss: 0.0162 - acc: 0.9946\n",
            "Epoch 13/25\n",
            "60000/60000 [==============================] - 5s 90us/step - loss: 0.0153 - acc: 0.9948\n",
            "Epoch 14/25\n",
            "60000/60000 [==============================] - 6s 92us/step - loss: 0.0132 - acc: 0.9957\n",
            "Epoch 15/25\n",
            "60000/60000 [==============================] - 6s 102us/step - loss: 0.0120 - acc: 0.9960\n",
            "Epoch 16/25\n",
            "60000/60000 [==============================] - 6s 96us/step - loss: 0.0113 - acc: 0.9961\n",
            "Epoch 17/25\n",
            "60000/60000 [==============================] - 5s 91us/step - loss: 0.0114 - acc: 0.9962\n",
            "Epoch 18/25\n",
            "60000/60000 [==============================] - 5s 91us/step - loss: 0.0108 - acc: 0.9964\n",
            "Epoch 19/25\n",
            "60000/60000 [==============================] - 5s 90us/step - loss: 0.0092 - acc: 0.9968\n",
            "Epoch 20/25\n",
            "60000/60000 [==============================] - 5s 90us/step - loss: 0.0094 - acc: 0.9969\n",
            "Epoch 21/25\n",
            "60000/60000 [==============================] - 5s 91us/step - loss: 0.0091 - acc: 0.9970\n",
            "Epoch 22/25\n",
            "60000/60000 [==============================] - 5s 90us/step - loss: 0.0068 - acc: 0.9977\n",
            "Epoch 23/25\n",
            "60000/60000 [==============================] - 5s 90us/step - loss: 0.0079 - acc: 0.9971\n",
            "Epoch 24/25\n",
            "60000/60000 [==============================] - 5s 91us/step - loss: 0.0071 - acc: 0.9976\n",
            "Epoch 25/25\n",
            "60000/60000 [==============================] - 6s 95us/step - loss: 0.0070 - acc: 0.9976\n"
          ],
          "name": "stdout"
        },
        {
          "output_type": "execute_result",
          "data": {
            "text/plain": [
              "<keras.callbacks.History at 0x7f26ba651f98>"
            ]
          },
          "metadata": {
            "tags": []
          },
          "execution_count": 20
        }
      ]
    },
    {
      "cell_type": "markdown",
      "metadata": {
        "id": "2_sXUHBrjQ9u",
        "colab_type": "text"
      },
      "source": [
        "#### Final test validation score of the new model"
      ]
    },
    {
      "cell_type": "code",
      "metadata": {
        "id": "TkjUTpo88HHu",
        "colab_type": "code",
        "outputId": "267df181-6531-4a7f-ba98-425da297455a",
        "colab": {
          "base_uri": "https://localhost:8080/",
          "height": 34
        }
      },
      "source": [
        "score_new = model_new.evaluate(X_test, Y_test, verbose=0)\n",
        "print(score_new)"
      ],
      "execution_count": 21,
      "outputs": [
        {
          "output_type": "stream",
          "text": [
            "[0.0536958446854329, 0.9902]\n"
          ],
          "name": "stdout"
        }
      ]
    },
    {
      "cell_type": "code",
      "metadata": {
        "id": "9tvptcn8dxvp",
        "colab_type": "code",
        "colab": {}
      },
      "source": [
        ""
      ],
      "execution_count": 0,
      "outputs": []
    }
  ]
}